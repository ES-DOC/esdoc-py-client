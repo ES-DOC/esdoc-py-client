{
 "cells": [
  {
   "cell_type": "code",
   "execution_count": 1,
   "metadata": {
    "collapsed": true
   },
   "outputs": [],
   "source": [
    "## Setup."
   ]
  },
  {
   "cell_type": "code",
   "execution_count": 2,
   "metadata": {
    "collapsed": false
   },
   "outputs": [
    {
     "ename": "ImportError",
     "evalue": "No module named cf",
     "output_type": "error",
     "traceback": [
      "\u001b[0;31m---------------------------------------------------------------------------\u001b[0m",
      "\u001b[0;31mImportError\u001b[0m                               Traceback (most recent call last)",
      "\u001b[0;32m<ipython-input-2-65f6b7563c1c>\u001b[0m in \u001b[0;36m<module>\u001b[0;34m()\u001b[0m\n\u001b[1;32m      2\u001b[0m \u001b[0;32mimport\u001b[0m \u001b[0mos\u001b[0m\u001b[0;34m\u001b[0m\u001b[0m\n\u001b[1;32m      3\u001b[0m \u001b[0;34m\u001b[0m\u001b[0m\n\u001b[0;32m----> 4\u001b[0;31m \u001b[0;32mimport\u001b[0m \u001b[0mcf\u001b[0m\u001b[0;34m\u001b[0m\u001b[0m\n\u001b[0m\u001b[1;32m      5\u001b[0m \u001b[0;32mimport\u001b[0m \u001b[0mpyesdoc\u001b[0m\u001b[0;34m\u001b[0m\u001b[0m\n\u001b[1;32m      6\u001b[0m \u001b[0;32mimport\u001b[0m \u001b[0mpyesdoc\u001b[0m\u001b[0;34m.\u001b[0m\u001b[0montologies\u001b[0m\u001b[0;34m.\u001b[0m\u001b[0mcim\u001b[0m \u001b[0;32mas\u001b[0m \u001b[0mcim\u001b[0m\u001b[0;34m\u001b[0m\u001b[0m\n",
      "\u001b[0;31mImportError\u001b[0m: No module named cf"
     ]
    }
   ],
   "source": [
    "import hashlib\n",
    "import os\n",
    "\n",
    "import cf\n",
    "import pyesdoc\n",
    "import pyesdoc.ontologies.cim as cim\n",
    "from pyesdoc.ontologies.cim.v2 import Ensemble\n",
    "from pyesdoc.ontologies.cim.v2 import EnsembleMember\n",
    "from pyesdoc.ontologies.cim.v2 import Simulation"
   ]
  },
  {
   "cell_type": "markdown",
   "metadata": {},
   "source": [
    "## Set target net cdf files"
   ]
  },
  {
   "cell_type": "code",
   "execution_count": 13,
   "metadata": {
    "collapsed": false
   },
   "outputs": [],
   "source": [
    "_NC_FILES_DIR = \"/Users/macg/dev/esdoc/repos/esdoc-py-client/notebooks/test-netcdf-files\"\n",
    "\n",
    "assert os.path.isdir(_NC_FILES_DIR) == True"
   ]
  },
  {
   "cell_type": "code",
   "execution_count": 14,
   "metadata": {
    "collapsed": false,
    "scrolled": true
   },
   "outputs": [
    {
     "name": "stdout",
     "output_type": "stream",
     "text": [
      "tas_2005.nc tas_2006.nc tas_2007.nc tas_2008.nc tas_2009.nc tas_2010.nc\r\n"
     ]
    }
   ],
   "source": [
    "!ls /Users/macg/dev/esdoc/repos/esdoc-py-client/notebooks/test-netcdf-files"
   ]
  },
  {
   "cell_type": "code",
   "execution_count": 3,
   "metadata": {
    "collapsed": false
   },
   "outputs": [],
   "source": [
    "#file_properties = cf.read('/media/sf_nc/tas_????.nc').properties"
   ]
  },
  {
   "cell_type": "code",
   "execution_count": 4,
   "metadata": {
    "collapsed": false
   },
   "outputs": [],
   "source": [
    "file_properties = {\n",
    " 'Conventions': 'CF-1.5',\n",
    " '_FillValue': 1e+20,\n",
    " 'associated_files': 'baseURL: http://cmip-pcmdi.llnl.gov/CMIP5/dataLocation gridspecFile: gridspec_fx_HadGEM2-ES_rcp85_r0i0p0.nc areacella: areacella_fx_HadGEM2-ES_rcp85_r0i0p0.nc',\n",
    " 'branch_time': 52560.0,\n",
    " 'cmor_version': '2.4.0',\n",
    " 'comment': 'daily-maximum near-surface (usually, 2 meter) air temperature.',\n",
    " 'contact': 'chris.d.jones@metoffice.gov.uk, michael.sanderson@metoffice.gov.uk',\n",
    " 'creation_date': '2010-11-10T15:30:29Z',\n",
    " 'experiment': 'RCP8.5',\n",
    " 'experiment_id': 'rcp85',\n",
    " 'forcing': 'GHG, SA, Oz, LU, Sl, Vl, BC, OC, (GHG = CO2, N2O, CH4, CFCs)',\n",
    " 'frequency': 'day',\n",
    " 'history': \"2010-11-10T15:30:29Z altered by CMOR: Treated scalar dimension: 'height'. 2010-11-10T15:30:29Z altered by CMOR: replaced missing value flag (-1.07374e+09) with standard missing value (1e+20).\",\n",
    " 'initialization_method': 1,\n",
    " 'institute_id': 'MOHC',\n",
    " 'institution': 'Met Office Hadley Centre, Fitzroy Road, Exeter, Devon, EX1 3PB, UK, (http://www.metoffice.gov.uk)',\n",
    " 'long_name': 'Daily Maximum Near-Surface Air Temperature',\n",
    " 'missing_value': 1e+20,\n",
    " 'mo_runid': 'ajnji',\n",
    " 'model_id': 'HadGEM2-ES',\n",
    " 'modeling_realm': 'atmos',\n",
    " 'nco_openmp_thread_number': 1,\n",
    " 'original_name': 'mo: m01s03i236',\n",
    " 'parent_experiment': 'historical',\n",
    " 'parent_experiment_id': 'historical',\n",
    " 'parent_experiment_rip': 'r1i1p1',\n",
    " 'physics_version': 1,\n",
    " 'product': 'output',\n",
    " 'project_id': 'CMIP5',\n",
    " 'realization': 1,\n",
    " 'references': 'Bellouin N. et al, (2007) Improved representation of aerosols for HadGEM2. Meteorological Office Hadley Centre, Technical Note 73, March 2007; Collins W.J.  et al, (2008) Evaluation of the HadGEM2 model. Meteorological Office Hadley Centre, Technical Note 74,; Johns T.C. et al, (2006) The new Hadley Centre climate model HadGEM1: Evaluation of coupled simulations. Journal of Climate, American Meteorological Society, Vol. 19, No. 7, pages 1327-1353.; Martin G.M. et al, (2006) The physical properties of the atmosphere in the new Hadley Centre Global Environmental Model, HadGEM1 - Part 1: Model description and global climatology. Journal of Climate, American Meteorological Society, Vol. 19, No.7, pages 1274-1301.; Ringer M.A. et al, (2006) The physical properties of the atmosphere in the new Hadley Centre Global Environmental Model, HadGEM1 - Part 2: Aspects of variability and regional climate. Journal of Climate, American Meteorological Society, Vol. 19, No. 7, pages 1302-1326.',\n",
    " 'source': 'HadGEM2-ES (2009) atmosphere: HadGAM2 (N96L38); ocean: HadGOM2 (lat: 1.0-0.3 lon: 1.0 L40); land-surface/vegetation: MOSES2 and TRIFFID; tropospheric chemistry: UKCA; ocean biogeochemistry: diat-HadOCC',\n",
    " 'standard_name': 'air_temperature',\n",
    " 'table_id': 'Table day (25 October 2010) 783d839767ea9baa68394aefe0d77366',\n",
    " 'title': 'HadGEM2-ES model output prepared for CMIP5 RCP8.5',\n",
    " 'tracking_id': '82e2798c-f7e9-4758-8f26-64d4cac4f197'\n",
    "    }"
   ]
  },
  {
   "cell_type": "markdown",
   "metadata": {},
   "source": [
    "### Set simulation info"
   ]
  },
  {
   "cell_type": "code",
   "execution_count": 13,
   "metadata": {
    "collapsed": true
   },
   "outputs": [],
   "source": [
    "# Instantiate a (CIM v2) simulation document.\n",
    "# s = pyesdoc.load_from_hash(s_hash) or Simulation()\n",
    "s = Simulation()"
   ]
  },
  {
   "cell_type": "code",
   "execution_count": 14,
   "metadata": {
    "collapsed": true
   },
   "outputs": [],
   "source": [
    "# Hydrate simulation document.\n",
    "s.activity_id = 'cmip6'\n",
    "s.experiment_id = file_properties['experiment_id']\n",
    "s.branch_method = file_properties.get('branch_method')"
   ]
  },
  {
   "cell_type": "code",
   "execution_count": null,
   "metadata": {
    "collapsed": true
   },
   "outputs": [],
   "source": [
    "s.contact\n",
    "s.conventions\n",
    "s.data_specs_version\n",
    "s.ensemble_identifier\n",
    "s.experiment_id\n",
    "s.experisment\n",
    "s.extra_attributes\n",
    "s.forcing_index\n",
    "s.frequency\n",
    "s.further_info_url\n",
    "s.grid\n",
    "s.grid_label\n",
    "s.grid_resolution\n",
    "s.initialization_index\n",
    "s.insitution\n",
    "s.institution_id\n",
    "s.mip_era\n",
    "s.parent_activity_id\n",
    "s.parent_experiment_id\n",
    "s.parent_mip_era\n",
    "s.parent_simulation\n",
    "s.parent_source_id\n",
    "s.parent_sub_experiment_id\n",
    "s.parent_time_units\n",
    "s.parent_variant_label\n",
    "s.part_of_project\n",
    "s.physics_index\n",
    "s.primary_ensemble\n",
    "s.product\n",
    "s.ran_for_experiments\n",
    "s.realization_index\n",
    "s.realm\n",
    "s.references\n",
    "s.source\n",
    "s.source_id\n",
    "s.source_type\n",
    "s.sub_eperiment\n",
    "s.sub_eperiment_id\n",
    "s.table_id\n",
    "s.used\n",
    "s.variant_info\n",
    "s.variant_label\n",
    "s.canonical_name\n",
    "s.description\n",
    "s.duration\n",
    "s.keywords\n",
    "s.long_name\n",
    "s.meta\n",
    "s.name\n",
    "s.previously_known_as\n",
    "s.rationale\n",
    "s.references\n",
    "s.responsible_parties"
   ]
  },
  {
   "cell_type": "code",
   "execution_count": 7,
   "metadata": {
    "collapsed": false
   },
   "outputs": [],
   "source": [
    "# Set reference to model used to run simulation.\n",
    "model = cim.v2.DocReference()\n",
    "model.name = file_properties['model_id']\n",
    "model.description = \"Model used by this simulation\"\n",
    "model.type_key = cim.v2.Model.type_key"
   ]
  },
  {
   "cell_type": "code",
   "execution_count": null,
   "metadata": {
    "collapsed": true
   },
   "outputs": [],
   "source": [
    "# Set simulation hash.\n",
    "# Must be globally unique and excludes end-date & rip & variant id's ... etc.\n",
    "s_hash = \"TODO: derive from file_properties\"\n",
    "sr = pyesdoc.load_from_hash(s_hash)\n",
    "if sr:\n",
    "    s.meta.uid = sr.meta.uid\n",
    "    s.meta.version = sr.meta.version + 1\n",
    "    \n",
    "\n",
    "pyesdoc.sync(s, pyesdoc.load_from_hash(s_hash))"
   ]
  },
  {
   "cell_type": "markdown",
   "metadata": {},
   "source": [
    "### Set ensemble info"
   ]
  },
  {
   "cell_type": "code",
   "execution_count": null,
   "metadata": {
    "collapsed": true
   },
   "outputs": [],
   "source": [
    "# Instantiate a (CIM v2) ensemble member document.\n",
    "# ??? where from if already exists\n",
    "em = EnsembleMember()"
   ]
  },
  {
   "cell_type": "code",
   "execution_count": 12,
   "metadata": {
    "collapsed": false
   },
   "outputs": [],
   "source": [
    "# Construct ensemble hash.\n",
    "# Must be globally unique and excludes end-date & rip & variant id's ... etc.\n",
    "e_hash = \"TODO: derive from file_properties\"\n",
    "e_hash = unicode(hashlib.md5(e_hash).hexdigest())"
   ]
  },
  {
   "cell_type": "code",
   "execution_count": null,
   "metadata": {
    "collapsed": false,
    "scrolled": true
   },
   "outputs": [],
   "source": [
    "# Get ensemble document.\n",
    "# ??? pyesdoc cache manager will expose a function get_by_hash_id\n",
    "e = Ensemble()"
   ]
  },
  {
   "cell_type": "code",
   "execution_count": null,
   "metadata": {
    "collapsed": true
   },
   "outputs": [],
   "source": []
  }
 ],
 "metadata": {
  "kernelspec": {
   "display_name": "Python 2",
   "language": "python",
   "name": "python2"
  },
  "language_info": {
   "codemirror_mode": {
    "name": "ipython",
    "version": 2
   },
   "file_extension": ".py",
   "mimetype": "text/x-python",
   "name": "python",
   "nbconvert_exporter": "python",
   "pygments_lexer": "ipython2",
   "version": "2.7.10"
  }
 },
 "nbformat": 4,
 "nbformat_minor": 0
}
