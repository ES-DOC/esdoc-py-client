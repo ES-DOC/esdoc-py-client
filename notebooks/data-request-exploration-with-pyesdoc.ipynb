{
 "cells": [
  {
   "cell_type": "code",
   "execution_count": 1,
   "metadata": {
    "collapsed": false
   },
   "outputs": [
    {
     "name": "stdout",
     "output_type": "stream",
     "text": [
      "666 standard_name\n"
     ]
    }
   ],
   "source": [
    "# Import pyesdoc - pip install --upgrade pyesdoc.\n",
    "import pyesdoc\n",
    "\n",
    "# Initialise data request - loads, parses & maps dreq.xml & dreqDefn.xml\n",
    "pyesdoc.drq.initialize()"
   ]
  },
  {
   "cell_type": "markdown",
   "metadata": {},
   "source": [
    "### Data Request Definition (dreqDefn.xml)"
   ]
  },
  {
   "cell_type": "code",
   "execution_count": 2,
   "metadata": {
    "collapsed": true
   },
   "outputs": [],
   "source": [
    "# Set helper pointer. \n",
    "DRQ_DEFN = pyesdoc.drq.definition"
   ]
  },
  {
   "cell_type": "code",
   "execution_count": 3,
   "metadata": {
    "collapsed": true
   },
   "outputs": [],
   "source": [
    "# Python classes that wrap dreqDefn.xml.\n",
    "from pyesdoc.drq import Table\n",
    "from pyesdoc.drq import TableAttribute"
   ]
  },
  {
   "cell_type": "code",
   "execution_count": 4,
   "metadata": {
    "collapsed": true
   },
   "outputs": [],
   "source": [
    "# Iterate tables.\n",
    "for table in DRQ_DEFN:\n",
    "    assert isinstance(table, Table)\n",
    "        \n",
    "# Iterate table row attributes.\n",
    "for table in DRQ_DEFN:\n",
    "    for attribute in table:\n",
    "        assert isinstance(attribute, TableAttribute)"
   ]
  },
  {
   "cell_type": "code",
   "execution_count": 5,
   "metadata": {
    "collapsed": false
   },
   "outputs": [],
   "source": [
    "# Get table.\n",
    "assert DRQ_DEFN.cmor_variable == DRQ_DEFN['cmor_variable']"
   ]
  },
  {
   "cell_type": "code",
   "execution_count": 6,
   "metadata": {
    "collapsed": false
   },
   "outputs": [
    {
     "name": "stdout",
     "output_type": "stream",
     "text": [
      "[label, title, uid, stid, vid, deflate, deflate_level, shuffle, default_priority, type, modeling_realm, positive, mip_table_section, mtid, mip_table, prov, processing, provenance_note, frequency, row_index, description, sub_group]\n"
     ]
    }
   ],
   "source": [
    "# Table properties.\n",
    "table = DRQ_DEFN.cmor_variable\n",
    "\n",
    "# Table attributes.\n",
    "print table.attributes"
   ]
  },
  {
   "cell_type": "code",
   "execution_count": 7,
   "metadata": {
    "collapsed": false
   },
   "outputs": [
    {
     "name": "stdout",
     "output_type": "stream",
     "text": [
      "Each Output variable record corresponds to a MIP table variable specification. In a change from the August draft, this record does not contain the 'priority' attribute: the priority is now set in the 'Request Variable' record. The other change is that a collection of attributes specifying dimensions etc have been moved into the 'structure' record, and each CMOR Variable record links to one structure record. This will fa-cilitate provision of clear and consistent definitions of output formats.\n"
     ]
    }
   ],
   "source": [
    "# Table description.\n",
    "print table.description"
   ]
  },
  {
   "cell_type": "code",
   "execution_count": 8,
   "metadata": {
    "collapsed": false
   },
   "outputs": [
    {
     "name": "stdout",
     "output_type": "stream",
     "text": [
      "cmv\n"
     ]
    }
   ],
   "source": [
    "# Table ID.\n",
    "print table.id"
   ]
  },
  {
   "cell_type": "code",
   "execution_count": 9,
   "metadata": {
    "collapsed": false
   },
   "outputs": [
    {
     "name": "stdout",
     "output_type": "stream",
     "text": [
      "False\n"
     ]
    }
   ],
   "source": [
    "# Table is label unique ?\n",
    "print table.is_label_unique"
   ]
  },
  {
   "cell_type": "code",
   "execution_count": 10,
   "metadata": {
    "collapsed": false
   },
   "outputs": [
    {
     "name": "stdout",
     "output_type": "stream",
     "text": [
      "def\n"
     ]
    }
   ],
   "source": [
    "# Table item label mode.\n",
    "print table.item_label_mode"
   ]
  },
  {
   "cell_type": "code",
   "execution_count": 11,
   "metadata": {
    "collapsed": false
   },
   "outputs": [
    {
     "name": "stdout",
     "output_type": "stream",
     "text": [
      "cmor_variable\n",
      "CMORvar\n"
     ]
    }
   ],
   "source": [
    "# Table label: confirms to python convention of lower-case-underscore.\n",
    "print table.label\n",
    "\n",
    "# Table label: data request original\n",
    "print table.label_drq"
   ]
  },
  {
   "cell_type": "code",
   "execution_count": 12,
   "metadata": {
    "collapsed": false
   },
   "outputs": [
    {
     "name": "stdout",
     "output_type": "stream",
     "text": [
      "1\n"
     ]
    }
   ],
   "source": [
    "# Table level.\n",
    "print table.level"
   ]
  },
  {
   "cell_type": "code",
   "execution_count": 13,
   "metadata": {
    "collapsed": false
   },
   "outputs": [
    {
     "name": "stdout",
     "output_type": "stream",
     "text": [
      "1\n"
     ]
    }
   ],
   "source": [
    "# Table max_occurs.\n",
    "print table.max_occurs"
   ]
  },
  {
   "cell_type": "code",
   "execution_count": 14,
   "metadata": {
    "collapsed": false
   },
   "outputs": [
    {
     "name": "stdout",
     "output_type": "stream",
     "text": [
      "1.3 CMOR Variable\n"
     ]
    }
   ],
   "source": [
    "# Table title.\n",
    "print table.title"
   ]
  },
  {
   "cell_type": "code",
   "execution_count": 15,
   "metadata": {
    "collapsed": false
   },
   "outputs": [
    {
     "name": "stdout",
     "output_type": "stream",
     "text": [
      "SECTION:CMORvar\n"
     ]
    }
   ],
   "source": [
    "# Table unique identifier.\n",
    "print table.uid"
   ]
  },
  {
   "cell_type": "markdown",
   "metadata": {},
   "source": [
    "### Data Request Content (dreq.xml)"
   ]
  },
  {
   "cell_type": "code",
   "execution_count": 16,
   "metadata": {
    "collapsed": true
   },
   "outputs": [],
   "source": [
    "# Set helper pointers. \n",
    "DRQ = pyesdoc.drq.content"
   ]
  },
  {
   "cell_type": "code",
   "execution_count": 17,
   "metadata": {
    "collapsed": true
   },
   "outputs": [],
   "source": [
    "# Python classes wrap dreq.xml.\n",
    "from pyesdoc.drq import Section\n",
    "from pyesdoc.drq import SectionItem"
   ]
  },
  {
   "cell_type": "code",
   "execution_count": 18,
   "metadata": {
    "collapsed": false
   },
   "outputs": [],
   "source": [
    "# Get section.\n",
    "assert DRQ.cmor_variable == DRQ['cmor_variable']\n",
    "\n",
    "# Iterate sections.\n",
    "for section in DRQ:\n",
    "    assert isinstance(section, Section)"
   ]
  },
  {
   "cell_type": "code",
   "execution_count": 19,
   "metadata": {
    "collapsed": false
   },
   "outputs": [],
   "source": [
    "# Get item.\n",
    "assert DRQ.cmor_variable.abs550aer == DRQ.cmor_variable['abs550aer']\n",
    "\n",
    "# Iterate items.\n",
    "for section in DRQ:\n",
    "    for item in section:\n",
    "        assert isinstance(item, SectionItem)"
   ]
  },
  {
   "cell_type": "code",
   "execution_count": 20,
   "metadata": {
    "collapsed": false
   },
   "outputs": [],
   "source": [
    "# Get item property.\n",
    "assert DRQ.cmor_variable.abs550aer.title == DRQ.cmor_variable.abs550aer['title']\n",
    "\n",
    "# Iterate item properties.\n",
    "for section in DRQ:\n",
    "    for item in section:\n",
    "        for prop, value in item:\n",
    "            assert isinstance(prop, TableAttribute)\n",
    "            assert isinstance(value, object)"
   ]
  },
  {
   "cell_type": "code",
   "execution_count": 21,
   "metadata": {
    "collapsed": false
   },
   "outputs": [],
   "source": [
    "# Print all sections\n",
    "for section in DRQ:\n",
    "    assert isinstance(section._TABLE, Table)\n",
    "    for item in section:\n",
    "        assert isinstance(item._TABLE, Table)"
   ]
  },
  {
   "cell_type": "code",
   "execution_count": 22,
   "metadata": {
    "collapsed": false
   },
   "outputs": [],
   "source": [
    "abs550aer = DRQ.cmor_variable.abs550aer\n",
    "assert abs550aer.links.mip_table.uid == abs550aer.mtid\n",
    "assert abs550aer.links.structure.uid == abs550aer.stid\n",
    "assert abs550aer.links.var.uid == abs550aer.vid"
   ]
  },
  {
   "cell_type": "code",
   "execution_count": 32,
   "metadata": {
    "collapsed": false
   },
   "outputs": [],
   "source": [
    "hfsso = DRQ.cmor_variable.fddtdic"
   ]
  },
  {
   "cell_type": "code",
   "execution_count": 43,
   "metadata": {
    "collapsed": false
   },
   "outputs": [
    {
     "name": "stdout",
     "output_type": "stream",
     "text": [
      "default_priority: 0\n",
      "deflate: \n",
      "deflate_level: \n",
      "description: \n",
      "frequency: mon\n",
      "label: fddtdic\n",
      "mip_table: None\n",
      "mip_table_section: None\n",
      "modeling_realm: ocnBgchem\n",
      "mtid: MIPtable::emMon\n",
      "positive: \n",
      "processing: None\n",
      "prov: C4MIP [C_Ocean_T2]\n",
      "provenance_note: None\n",
      "row_index: 0\n",
      "shuffle: \n",
      "stid: f7e4000e-562c-11e6-a2a4-ac72891c3257\n",
      "sub_group: None\n",
      "title: Rate of Change of Net Dissolved Inorganic Carbon\n",
      "type: real\n",
      "uid: e708e93c-aa7f-11e6-9a4a-5404a60d96b5\n",
      "vid: 1333394a296e7f8af6c9bad15cb9778d\n"
     ]
    }
   ],
   "source": [
    "for attr, value in DRQ.cmor_variable.fddtdic:\n",
    "    print \"{}: {}\".format(attr, value)"
   ]
  },
  {
   "cell_type": "code",
   "execution_count": 50,
   "metadata": {
    "collapsed": false
   },
   "outputs": [],
   "source": [
    "DRQ.cmor_variable.fddtdic.mt = DRQ.cmor_variable.fddtdic.links.mt"
   ]
  },
  {
   "cell_type": "code",
   "execution_count": null,
   "metadata": {
    "collapsed": true
   },
   "outputs": [],
   "source": [
    "DRQ.cmor_variable.fddtdic."
   ]
  }
 ],
 "metadata": {
  "kernelspec": {
   "display_name": "Python 2",
   "language": "python",
   "name": "python2"
  },
  "language_info": {
   "codemirror_mode": {
    "name": "ipython",
    "version": 2
   },
   "file_extension": ".py",
   "mimetype": "text/x-python",
   "name": "python",
   "nbconvert_exporter": "python",
   "pygments_lexer": "ipython2",
   "version": "2.7.10"
  }
 },
 "nbformat": 4,
 "nbformat_minor": 1
}
