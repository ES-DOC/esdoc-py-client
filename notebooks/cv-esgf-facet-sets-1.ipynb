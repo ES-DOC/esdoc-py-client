{
 "cells": [
  {
   "cell_type": "markdown",
   "metadata": {},
   "source": [
    "# Managing ESG-F facet sets with pyessv"
   ]
  },
  {
   "cell_type": "markdown",
   "metadata": {},
   "source": [
    "NOTE - this notebook is being run against a previously initialized set of facets"
   ]
  },
  {
   "cell_type": "markdown",
   "metadata": {},
   "source": [
    "## Setup"
   ]
  },
  {
   "cell_type": "markdown",
   "metadata": {},
   "source": [
    "### Import libs."
   ]
  },
  {
   "cell_type": "code",
   "execution_count": null,
   "metadata": {
    "collapsed": false
   },
   "outputs": [],
   "source": [
    "import os\n",
    "\n",
    "import pyessv"
   ]
  },
  {
   "cell_type": "markdown",
   "metadata": {},
   "source": [
    "### Local file system facet directory"
   ]
  },
  {
   "cell_type": "code",
   "execution_count": null,
   "metadata": {
    "collapsed": false
   },
   "outputs": [],
   "source": [
    "# Have mapped an environment variable upon file system\n",
    "os.getenv(\"ESGF_PYESSV_HOME\")"
   ]
  },
  {
   "cell_type": "markdown",
   "metadata": {},
   "source": [
    "### Partition creation"
   ]
  },
  {
   "cell_type": "code",
   "execution_count": null,
   "metadata": {
    "collapsed": false
   },
   "outputs": [],
   "source": [
    "# Create vocab partition.\n",
    "partition = pyessv.create_partition(u\"esgf.facets\", os.getenv(\"ESGF_PYESSV_HOME\"))"
   ]
  },
  {
   "cell_type": "markdown",
   "metadata": {},
   "source": [
    "### Partition cache"
   ]
  },
  {
   "cell_type": "code",
   "execution_count": null,
   "metadata": {
    "collapsed": false
   },
   "outputs": [],
   "source": [
    "# Cache loading from file system.\n",
    "partition.load()"
   ]
  },
  {
   "cell_type": "code",
   "execution_count": null,
   "metadata": {
    "collapsed": false
   },
   "outputs": [],
   "source": [
    "# Cache count - all facets in all facet sets;\n",
    "assert partition.get_count() == 6052\n",
    "\n",
    "# Cache count - facets within single facet set;\n",
    "assert partition.get_count(\"model\") == 185\n",
    "\n",
    "# Cache count - single term;\n",
    "assert partition.get_count(\"model\", \"ipsl-cm5a-lr\") == 1"
   ]
  },
  {
   "cell_type": "code",
   "execution_count": null,
   "metadata": {
    "collapsed": false
   },
   "outputs": [],
   "source": [
    "# Cache query - all facet sets;\n",
    "facet_sets = partition.query()\n",
    "assert isinstance(facet_sets, dict)\n",
    "\n",
    "# Cache query - single facet set;\n",
    "facet_set = partition.query(\"model\")\n",
    "assert isinstance(facet_set, list)\n",
    "\n",
    "# Cache query - single facet.\n",
    "facet = partition.query(\"model\", \"ipsl-cm5a-lr\")\n",
    "assert isinstance(facet, pyessv.Facet)"
   ]
  },
  {
   "cell_type": "code",
   "execution_count": null,
   "metadata": {
    "collapsed": false
   },
   "outputs": [],
   "source": [
    "# Cache listing - all facet sets;\n",
    "partition.show()"
   ]
  },
  {
   "cell_type": "code",
   "execution_count": null,
   "metadata": {
    "collapsed": false,
    "scrolled": true
   },
   "outputs": [],
   "source": [
    "# Cache listing - single facet set;\n",
    "partition.show(\"model\")"
   ]
  },
  {
   "cell_type": "code",
   "execution_count": null,
   "metadata": {
    "collapsed": false
   },
   "outputs": [],
   "source": [
    "# Cache listing - single facet;\n",
    "partition.show(\"model\", \"ipsl-cm5a-lr\")"
   ]
  },
  {
   "cell_type": "markdown",
   "metadata": {},
   "source": [
    "## Term management"
   ]
  },
  {
   "cell_type": "markdown",
   "metadata": {},
   "source": [
    "### Creation"
   ]
  },
  {
   "cell_type": "code",
   "execution_count": null,
   "metadata": {
    "collapsed": false
   },
   "outputs": [],
   "source": [
    "# Use partition to create new facet.\n",
    "facet = partition.create(\"model\", \"xxx\")\n",
    "assert isinstance(facet, pyessv.Facet)"
   ]
  },
  {
   "cell_type": "code",
   "execution_count": null,
   "metadata": {
    "collapsed": false
   },
   "outputs": [],
   "source": [
    "# Invalid facet - facet type has invalid characters.\n",
    "invalid_facet = partition.create(u\"&!@\", u\"xxx\")\n",
    "assert invalid_facet.is_valid == False\n",
    "assert len(invalid_facet.errors) == 1"
   ]
  },
  {
   "cell_type": "code",
   "execution_count": null,
   "metadata": {
    "collapsed": false
   },
   "outputs": [],
   "source": [
    "# Invalid facet - facet name has invalid characters.\n",
    "invalid_facet = partition.create(u\"model\", u\"x&!\")\n",
    "assert invalid_facet.is_valid == False\n",
    "assert len(invalid_facet.errors) == 1"
   ]
  },
  {
   "cell_type": "code",
   "execution_count": null,
   "metadata": {
    "collapsed": false
   },
   "outputs": [],
   "source": [
    "# Invalid facet - facet type & name have invalid characters.\n",
    "invalid_facet = partition.create(u\"&!@\", u\"x&!\")\n",
    "assert invalid_facet.is_valid == False\n",
    "assert len(invalid_facet.errors) == 2"
   ]
  },
  {
   "cell_type": "markdown",
   "metadata": {},
   "source": [
    "### Encoding"
   ]
  },
  {
   "cell_type": "code",
   "execution_count": null,
   "metadata": {
    "collapsed": false
   },
   "outputs": [],
   "source": [
    "# Encode as python dictionary.\n",
    "as_dict = facet.as_dict()\n",
    "assert isinstance(as_dict, dict)\n",
    "\n",
    "# Encode as JSON.\n",
    "as_json = facet.as_json()\n",
    "assert isinstance(as_json, str)"
   ]
  },
  {
   "cell_type": "markdown",
   "metadata": {},
   "source": [
    "### Persistence"
   ]
  },
  {
   "cell_type": "code",
   "execution_count": null,
   "metadata": {
    "collapsed": true
   },
   "outputs": [],
   "source": [
    "# Newly created facet is not yet saved to either in memory cache or local disk.\n",
    "facet = partition.create(\"model\", \"xxx\")\n",
    "assert facet.is_cached == False\n",
    "assert facet.is_written == False"
   ]
  },
  {
   "cell_type": "code",
   "execution_count": null,
   "metadata": {
    "collapsed": false
   },
   "outputs": [],
   "source": [
    "# Upon saving a facet it is written to both memory cache & file system.\n",
    "facet.save()\n",
    "assert facet.is_cached == True\n",
    "assert facet.is_written == True"
   ]
  },
  {
   "cell_type": "markdown",
   "metadata": {},
   "source": [
    "## Term Governance"
   ]
  },
  {
   "cell_type": "code",
   "execution_count": null,
   "metadata": {
    "collapsed": false
   },
   "outputs": [],
   "source": [
    "# What is initial governance status ?\n",
    "facet.status"
   ]
  },
  {
   "cell_type": "code",
   "execution_count": null,
   "metadata": {
    "collapsed": false
   },
   "outputs": [],
   "source": [
    "# Accept - auto updates cache & file system.\n",
    "facet.accept()"
   ]
  },
  {
   "cell_type": "code",
   "execution_count": null,
   "metadata": {
    "collapsed": false
   },
   "outputs": [],
   "source": [
    "# Reject - auto updates cache & file system.\n",
    "facet.reject()"
   ]
  },
  {
   "cell_type": "code",
   "execution_count": null,
   "metadata": {
    "collapsed": false
   },
   "outputs": [],
   "source": [
    "# Deprecate - auto updates cache & file system.\n",
    "facet.deprecate()"
   ]
  },
  {
   "cell_type": "code",
   "execution_count": null,
   "metadata": {
    "collapsed": false
   },
   "outputs": [],
   "source": [
    "# Destroy - deleted from cache & file system.\n",
    "facet_count = partition.get_count(u\"model\")\n",
    "facet.destroy()\n",
    "assert partition.get_count(u\"model\") == facet_count - 1\n",
    "assert partition.query(u\"model\", \"xxx\") is None"
   ]
  },
  {
   "cell_type": "markdown",
   "metadata": {},
   "source": [
    "## Facet Parsing"
   ]
  },
  {
   "cell_type": "code",
   "execution_count": null,
   "metadata": {
    "collapsed": false
   },
   "outputs": [],
   "source": [
    "# Use partition to create new test facet.\n",
    "facet = partition.create(u\"model\", u\"yyy\")\n",
    "\n",
    "# Set term alternative name.\n",
    "facet.alternative_name = u\"zzz\"\n",
    "\n",
    "# Set term alias.\n",
    "facet.aliases.append(\"YYY-1\")\n",
    "\n",
    "# Save term.\n",
    "partition.save(facet)"
   ]
  },
  {
   "cell_type": "code",
   "execution_count": null,
   "metadata": {
    "collapsed": true
   },
   "outputs": [],
   "source": [
    "# Parse a name that matches. \n",
    "name = \"yyy\"\n",
    "parsed_name = partition.parse(u\"model\", name)\n",
    "assert name == parsed_name"
   ]
  },
  {
   "cell_type": "code",
   "execution_count": null,
   "metadata": {
    "collapsed": false
   },
   "outputs": [],
   "source": [
    "# Parse a name that almost matches. \n",
    "name = \"yYY\"\n",
    "parsed_name = partition.parse(u\"model\", name)\n",
    "assert name != parsed_name\n",
    "assert parsed_name == \"yyy\""
   ]
  },
  {
   "cell_type": "code",
   "execution_count": null,
   "metadata": {
    "collapsed": true
   },
   "outputs": [],
   "source": [
    "# Parse an alternative name.\n",
    "alt_name = \"zzz\"\n",
    "parsed_name = partition.parse(u\"model\", alt_name)\n",
    "assert alt_name != parsed_name\n",
    "assert parsed_name == \"yyy\""
   ]
  },
  {
   "cell_type": "code",
   "execution_count": null,
   "metadata": {
    "collapsed": true
   },
   "outputs": [],
   "source": [
    "# Parse an alias.\n",
    "alias = \"YYY-1\"\n",
    "parsed_name = partition.parse(u\"model\", alias)\n",
    "assert alias != parsed_name\n",
    "assert parsed_name == \"yyy\""
   ]
  },
  {
   "cell_type": "code",
   "execution_count": null,
   "metadata": {
    "collapsed": false
   },
   "outputs": [],
   "source": [
    "# Parsing an invalid alias returns None.\n",
    "alias = \"YYY-1SSS\"\n",
    "parsed_name = partition.parse(u\"model\", alias)\n",
    "assert parsed_name is None"
   ]
  },
  {
   "cell_type": "code",
   "execution_count": null,
   "metadata": {
    "collapsed": false
   },
   "outputs": [],
   "source": [
    "# Destroy test facet.\n",
    "facet.destroy()"
   ]
  },
  {
   "cell_type": "code",
   "execution_count": null,
   "metadata": {
    "collapsed": true
   },
   "outputs": [],
   "source": []
  }
 ],
 "metadata": {
  "kernelspec": {
   "display_name": "Python 2",
   "language": "python",
   "name": "python2"
  },
  "language_info": {
   "codemirror_mode": {
    "name": "ipython",
    "version": 2
   },
   "file_extension": ".py",
   "mimetype": "text/x-python",
   "name": "python",
   "nbconvert_exporter": "python",
   "pygments_lexer": "ipython2",
   "version": "2.7.10"
  }
 },
 "nbformat": 4,
 "nbformat_minor": 0
}
