{
 "cells": [
  {
   "cell_type": "code",
   "execution_count": 1,
   "metadata": {
    "collapsed": false
   },
   "outputs": [],
   "source": [
    "import pyesdoc\n",
    "import pyesdoc.ontologies.cim as cim\n",
    "\n",
    "# Set example class / enum.\n",
    "v2_class = cim.v2.NumericalExperiment\n",
    "v2_enum = cim.v2.EnsembleTypes"
   ]
  },
  {
   "cell_type": "markdown",
   "metadata": {},
   "source": [
    "## Compare v1 & v2"
   ]
  },
  {
   "cell_type": "code",
   "execution_count": 2,
   "metadata": {
    "collapsed": false
   },
   "outputs": [
    {
     "name": "stdout",
     "output_type": "stream",
     "text": [
      "ES-DOC :: pyesdoc :: INFO > ONTOLOGY :: cim v1\n",
      "ES-DOC :: pyesdoc :: INFO > packages :: 7\n",
      "ES-DOC :: pyesdoc :: INFO > classes :: 103\n",
      "ES-DOC :: pyesdoc :: INFO > enums :: 48\n"
     ]
    }
   ],
   "source": [
    "pyesdoc.ontologies.list_stats(cim.v1)"
   ]
  },
  {
   "cell_type": "code",
   "execution_count": 3,
   "metadata": {
    "collapsed": false
   },
   "outputs": [
    {
     "name": "stdout",
     "output_type": "stream",
     "text": [
      "ES-DOC :: pyesdoc :: INFO > ONTOLOGY :: cim v2\n",
      "ES-DOC :: pyesdoc :: INFO > packages :: 8\n",
      "ES-DOC :: pyesdoc :: INFO > classes :: 74\n",
      "ES-DOC :: pyesdoc :: INFO > enums :: 25\n"
     ]
    }
   ],
   "source": [
    "pyesdoc.ontologies.list_stats(cim.v2)"
   ]
  },
  {
   "cell_type": "markdown",
   "metadata": {},
   "source": [
    "## Explore a class"
   ]
  },
  {
   "cell_type": "code",
   "execution_count": 4,
   "metadata": {
    "collapsed": false
   },
   "outputs": [
    {
     "name": "stdout",
     "output_type": "stream",
     "text": [
      "cim.2.designing.NumericalExperiment\n"
     ]
    }
   ],
   "source": [
    "# Class type key.\n",
    "print pyesdoc.KEYS[v2_class]"
   ]
  },
  {
   "cell_type": "code",
   "execution_count": 5,
   "metadata": {
    "collapsed": false
   },
   "outputs": [
    {
     "name": "stdout",
     "output_type": "stream",
     "text": [
      "AB\n"
     ]
    }
   ],
   "source": [
    "# Class sort key.\n",
    "print pyesdoc.SORT_KEYS[v2_class]"
   ]
  },
  {
   "cell_type": "code",
   "execution_count": 6,
   "metadata": {
    "collapsed": false
   },
   "outputs": [
    {
     "name": "stdout",
     "output_type": "stream",
     "text": [
      "Experiment\n"
     ]
    }
   ],
   "source": [
    "# Class display name.\n",
    "print pyesdoc.DISPLAY_NAMES[v2_class]"
   ]
  },
  {
   "cell_type": "code",
   "execution_count": 7,
   "metadata": {
    "collapsed": false
   },
   "outputs": [
    {
     "name": "stdout",
     "output_type": "stream",
     "text": [
      "\n",
      "\t\tDefines a numerical experiment.\n",
      "\n",
      "\t\n"
     ]
    }
   ],
   "source": [
    "# Class help.\n",
    "print pyesdoc.HELP[v2_class]"
   ]
  },
  {
   "cell_type": "code",
   "execution_count": 8,
   "metadata": {
    "collapsed": false
   },
   "outputs": [
    {
     "name": "stdout",
     "output_type": "stream",
     "text": [
      "Requirements that conformant simulations need to satisfy.\n"
     ]
    }
   ],
   "source": [
    "# Class property help.\n",
    "print pyesdoc.HELP[v2_class, 'requirements']"
   ]
  },
  {
   "cell_type": "code",
   "execution_count": 9,
   "metadata": {
    "collapsed": false
   },
   "outputs": [
    {
     "name": "stdout",
     "output_type": "stream",
     "text": [
      "requirements type <class 'pyesdoc.ontologies.cim.v2.typeset_for_designing_package.NumericalRequirement'>\n",
      "name type <type 'unicode'>\n",
      "long_name type <type 'unicode'>\n",
      "responsible_parties type <class 'pyesdoc.ontologies.cim.v2.typeset_for_shared_package.Responsibility'>\n",
      "keywords type <type 'unicode'>\n",
      "canonical_name type <type 'unicode'>\n",
      "meta type <class 'pyesdoc.ontologies.cim.v2.typeset_for_shared_package.DocMetaInfo'>\n",
      "references type <class 'pyesdoc.ontologies.cim.v2.typeset_for_shared_package.Reference'>\n",
      "rationale type <type 'unicode'>\n",
      "related_experiments type <class 'pyesdoc.ontologies.cim.v2.typeset_for_designing_package.NumericalExperiment'>\n",
      "duration type <class 'pyesdoc.ontologies.cim.v2.typeset_for_shared_package.TimePeriod'>\n",
      "description type <type 'unicode'>\n",
      "requirements cardinality 0.N\n",
      "name cardinality 1.1\n",
      "long_name cardinality 0.1\n",
      "responsible_parties cardinality 0.N\n",
      "keywords cardinality 0.N\n",
      "canonical_name cardinality 0.1\n",
      "meta cardinality 1.1\n",
      "references cardinality 0.N\n",
      "rationale cardinality 1.1\n",
      "related_experiments cardinality 0.N\n",
      "duration cardinality 0.0\n",
      "description cardinality 0.1\n"
     ]
    }
   ],
   "source": [
    "# Class constraints.\n",
    "for n, t, v in pyesdoc.CONSTRAINTS[v2_class]:\n",
    "    print n, t, v"
   ]
  },
  {
   "cell_type": "code",
   "execution_count": 10,
   "metadata": {
    "collapsed": false
   },
   "outputs": [
    {
     "name": "stdout",
     "output_type": "stream",
     "text": [
      "type <class 'pyesdoc.ontologies.cim.v2.typeset_for_designing_package.NumericalRequirement'>\n",
      "cardinality 0.N\n"
     ]
    }
   ],
   "source": [
    "# Class property constraints.\n",
    "for t, v in pyesdoc.CONSTRAINTS[v2_class, 'requirements']:\n",
    "    print t, v"
   ]
  },
  {
   "cell_type": "code",
   "execution_count": 11,
   "metadata": {
    "collapsed": false
   },
   "outputs": [
    {
     "name": "stdout",
     "output_type": "stream",
     "text": [
      "set(['regex', 'constant', 'cardinality', 'type'])\n"
     ]
    }
   ],
   "source": [
    "# Supported class constraint types.\n",
    "print pyesdoc.CONSTRAINT_TYPES"
   ]
  },
  {
   "cell_type": "code",
   "execution_count": 12,
   "metadata": {
    "collapsed": false
   },
   "outputs": [
    {
     "name": "stdout",
     "output_type": "stream",
     "text": [
      "requirements --> <class 'pyesdoc.ontologies.cim.v2.typeset_for_designing_package.NumericalRequirement'>\n",
      "name --> <type 'unicode'>\n",
      "long_name --> <type 'unicode'>\n",
      "responsible_parties --> <class 'pyesdoc.ontologies.cim.v2.typeset_for_shared_package.Responsibility'>\n",
      "keywords --> <type 'unicode'>\n",
      "canonical_name --> <type 'unicode'>\n",
      "meta --> <class 'pyesdoc.ontologies.cim.v2.typeset_for_shared_package.DocMetaInfo'>\n",
      "references --> <class 'pyesdoc.ontologies.cim.v2.typeset_for_shared_package.Reference'>\n",
      "rationale --> <type 'unicode'>\n",
      "related_experiments --> <class 'pyesdoc.ontologies.cim.v2.typeset_for_designing_package.NumericalExperiment'>\n",
      "duration --> <class 'pyesdoc.ontologies.cim.v2.typeset_for_shared_package.TimePeriod'>\n",
      "description --> <type 'unicode'>\n"
     ]
    }
   ],
   "source": [
    "# Class constraints (type).\n",
    "for p, t, v in [ct for ct in cim.CONSTRAINTS[v2_class] if ct[1] == pyesdoc.CONSTRAINT_TYPE_TYPEOF]:\n",
    "    print p, \"-->\", v"
   ]
  },
  {
   "cell_type": "code",
   "execution_count": 13,
   "metadata": {
    "collapsed": false
   },
   "outputs": [
    {
     "name": "stdout",
     "output_type": "stream",
     "text": [
      "requirements --> 0.N\n",
      "name --> 1.1\n",
      "long_name --> 0.1\n",
      "responsible_parties --> 0.N\n",
      "keywords --> 0.N\n",
      "canonical_name --> 0.1\n",
      "meta --> 1.1\n",
      "references --> 0.N\n",
      "rationale --> 1.1\n",
      "related_experiments --> 0.N\n",
      "duration --> 0.0\n",
      "description --> 0.1\n"
     ]
    }
   ],
   "source": [
    "# Class constraints (cardinality).\n",
    "for p, t, v in [ct for ct in cim.CONSTRAINTS[v2_class] if ct[1] == pyesdoc.CONSTRAINT_TYPE_CARDINALITY]:\n",
    "    print p, \"-->\", v"
   ]
  },
  {
   "cell_type": "code",
   "execution_count": 14,
   "metadata": {
    "collapsed": false
   },
   "outputs": [],
   "source": [
    "# Class constant constants.\n",
    "for p, t, v in [ct for ct in cim.CONSTRAINTS[v2_class] if ct[1] == pyesdoc.CONSTRAINT_TYPE_CONSTANT]:\n",
    "    print p, \"-->\", v"
   ]
  },
  {
   "cell_type": "code",
   "execution_count": 15,
   "metadata": {
    "collapsed": true
   },
   "outputs": [],
   "source": [
    "# Class regular-expression constants.\n",
    "for p, t, v in [ct for ct in cim.CONSTRAINTS[v2_class] if ct[1] == pyesdoc.CONSTRAINT_TYPE_REGEX]:\n",
    "    print p, \"-->\", v"
   ]
  },
  {
   "cell_type": "code",
   "execution_count": null,
   "metadata": {
    "collapsed": false
   },
   "outputs": [],
   "source": []
  },
  {
   "cell_type": "markdown",
   "metadata": {},
   "source": [
    "## Explore a class"
   ]
  },
  {
   "cell_type": "code",
   "execution_count": 16,
   "metadata": {
    "collapsed": false
   },
   "outputs": [
    {
     "ename": "AttributeError",
     "evalue": "'module' object has no attribute 'ENUM_HINTS'",
     "output_type": "error",
     "traceback": [
      "\u001b[0;31m---------------------------------------------------------------------------\u001b[0m",
      "\u001b[0;31mAttributeError\u001b[0m                            Traceback (most recent call last)",
      "\u001b[0;32m<ipython-input-16-dd4a0590d6c7>\u001b[0m in \u001b[0;36m<module>\u001b[0;34m()\u001b[0m\n\u001b[1;32m      3\u001b[0m \u001b[0me\u001b[0m \u001b[0;34m=\u001b[0m \u001b[0mcim\u001b[0m\u001b[0;34m.\u001b[0m\u001b[0mENUMS\u001b[0m\u001b[0;34m[\u001b[0m\u001b[0;36m0\u001b[0m\u001b[0;34m]\u001b[0m\u001b[0;34m\u001b[0m\u001b[0m\n\u001b[1;32m      4\u001b[0m \u001b[0;31m# print cim.TYPE_KEYS[e]\u001b[0m\u001b[0;34m\u001b[0m\u001b[0;34m\u001b[0m\u001b[0m\n\u001b[0;32m----> 5\u001b[0;31m \u001b[0;32mprint\u001b[0m \u001b[0mcim\u001b[0m\u001b[0;34m.\u001b[0m\u001b[0mENUM_HINTS\u001b[0m\u001b[0;34m[\u001b[0m\u001b[0me\u001b[0m\u001b[0;34m]\u001b[0m\u001b[0;34m\u001b[0m\u001b[0m\n\u001b[0m\u001b[1;32m      6\u001b[0m \u001b[0;32mfor\u001b[0m \u001b[0menum_member\u001b[0m\u001b[0;34m,\u001b[0m \u001b[0mhint\u001b[0m \u001b[0;32min\u001b[0m \u001b[0mcim\u001b[0m\u001b[0;34m.\u001b[0m\u001b[0mENUM_MEMBER_HINTS\u001b[0m\u001b[0;34m[\u001b[0m\u001b[0mcim\u001b[0m\u001b[0;34m.\u001b[0m\u001b[0mENUMS\u001b[0m\u001b[0;34m[\u001b[0m\u001b[0;36m0\u001b[0m\u001b[0;34m]\u001b[0m\u001b[0;34m]\u001b[0m\u001b[0;34m.\u001b[0m\u001b[0mitems\u001b[0m\u001b[0;34m(\u001b[0m\u001b[0;34m)\u001b[0m\u001b[0;34m:\u001b[0m\u001b[0;34m\u001b[0m\u001b[0m\n\u001b[1;32m      7\u001b[0m     \u001b[0;32mprint\u001b[0m \u001b[0menum_member\u001b[0m\u001b[0;34m,\u001b[0m \u001b[0mhint\u001b[0m\u001b[0;34m\u001b[0m\u001b[0m\n",
      "\u001b[0;31mAttributeError\u001b[0m: 'module' object has no attribute 'ENUM_HINTS'"
     ]
    }
   ],
   "source": [
    "v2_enum = cim.v2.EnsembleTypes\n",
    "\n",
    "e = cim.ENUMS[0]\n",
    "# print cim.TYPE_KEYS[e]\n",
    "print cim.ENUM_HINTS[e]\n",
    "for enum_member, hint in cim.ENUM_MEMBER_HINTS[cim.ENUMS[0]].items():\n",
    "    print enum_member, hint"
   ]
  },
  {
   "cell_type": "code",
   "execution_count": null,
   "metadata": {
    "collapsed": false
   },
   "outputs": [],
   "source": [
    "# Is enum open or closed ?\n",
    "print v2_enum.is_open"
   ]
  },
  {
   "cell_type": "code",
   "execution_count": null,
   "metadata": {
    "collapsed": false
   },
   "outputs": [],
   "source": [
    "# What are the enum's declared members ?\n",
    "for member in v2_enum.members:\n",
    "    print member"
   ]
  },
  {
   "cell_type": "code",
   "execution_count": null,
   "metadata": {
    "collapsed": true
   },
   "outputs": [],
   "source": [
    "for enum_member, hint in cim.ENUM_MEMBER_HINTS[cim.ENUMS[0]].items():\n",
    "    print enum_member, hint"
   ]
  },
  {
   "cell_type": "code",
   "execution_count": null,
   "metadata": {
    "collapsed": false
   },
   "outputs": [],
   "source": [
    "cim.v1.ENUM_HINTS"
   ]
  },
  {
   "cell_type": "code",
   "execution_count": null,
   "metadata": {
    "collapsed": false
   },
   "outputs": [],
   "source": [
    "# Enum doc string.\n",
    "print cim.ENUM_HINTS[v2_enum].strip()"
   ]
  },
  {
   "cell_type": "code",
   "execution_count": null,
   "metadata": {
    "collapsed": false
   },
   "outputs": [],
   "source": [
    "# Enum member doc strings.\n",
    "for enum_member, hint in cim.ENUM_MEMBER_HINTS[v2_enum].items():\n",
    "    print enum_member, \"-->\", hint"
   ]
  },
  {
   "cell_type": "code",
   "execution_count": null,
   "metadata": {
    "collapsed": true
   },
   "outputs": [],
   "source": []
  }
 ],
 "metadata": {
  "kernelspec": {
   "display_name": "Python 2",
   "language": "python",
   "name": "python2"
  },
  "language_info": {
   "codemirror_mode": {
    "name": "ipython",
    "version": 2
   },
   "file_extension": ".py",
   "mimetype": "text/x-python",
   "name": "python",
   "nbconvert_exporter": "python",
   "pygments_lexer": "ipython2",
   "version": "2.7.10"
  }
 },
 "nbformat": 4,
 "nbformat_minor": 0
}
