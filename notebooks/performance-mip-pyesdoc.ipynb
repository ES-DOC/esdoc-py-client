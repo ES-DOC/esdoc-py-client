{
 "cells": [
  {
   "cell_type": "markdown",
   "metadata": {},
   "source": [
    "## Performance MIP examples"
   ]
  },
  {
   "cell_type": "markdown",
   "metadata": {},
   "source": [
    "### These examples assume that you have [pip installed pyesdoc](https://pypi.python.org/pypi/pyesdoc/) \n",
    "\n",
    "### This example just shows how we can build a standalone set of performance descriptions using esdoc. The real thing will use the server ..."
   ]
  },
  {
   "cell_type": "markdown",
   "metadata": {},
   "source": [
    "## Setup"
   ]
  },
  {
   "cell_type": "markdown",
   "metadata": {},
   "source": [
    "First import the pyesdoc library, including the classes for the documents that we want to create. "
   ]
  },
  {
   "cell_type": "code",
   "execution_count": 1,
   "metadata": {
    "collapsed": false
   },
   "outputs": [],
   "source": [
    "import glob\n",
    "import os\n",
    "import uuid\n",
    "\n",
    "import pyesdoc\n",
    "from pyesdoc.ontologies.cim.v2 import DocReference\n",
    "from pyesdoc.ontologies.cim.v2 import Machine\n",
    "from pyesdoc.ontologies.cim.v2 import Model\n",
    "from pyesdoc.ontologies.cim.v2 import Party\n",
    "from pyesdoc.ontologies.cim.v2 import Performance"
   ]
  },
  {
   "cell_type": "markdown",
   "metadata": {},
   "source": [
    "Set up empty [CIM](https://github.com/ES-DOC/esdoc-cim/tree/master/v2/schema) documents for the Performance, Model and Machine."
   ]
  },
  {
   "cell_type": "code",
   "execution_count": 2,
   "metadata": {
    "collapsed": true
   },
   "outputs": [],
   "source": [
    "performance_of_hadgem3_on_archer = p = \\\n",
    "    pyesdoc.create(Performance, project='cmip6', sub_projects=['cpmip'], institute='ipsl', source='ipython')\n",
    "\n",
    "archer = a = \\\n",
    "    pyesdoc.create(Machine, project='cmip6', sub_projects=['cpmip'], institute='ipsl', source='ipython')"
   ]
  },
  {
   "cell_type": "markdown",
   "metadata": {},
   "source": [
    "## Setting details"
   ]
  },
  {
   "cell_type": "markdown",
   "metadata": {},
   "source": [
    "Add details to these documents"
   ]
  },
  {
   "cell_type": "code",
   "execution_count": 3,
   "metadata": {
    "collapsed": false
   },
   "outputs": [],
   "source": [
    "a.name         = 'Archer'\n",
    "a.description  = 'The UK national UK academic HPC platform'\n",
    "a.model_number = 'XC-30'"
   ]
  },
  {
   "cell_type": "code",
   "execution_count": 4,
   "metadata": {
    "collapsed": false
   },
   "outputs": [],
   "source": [
    "p.name                          = 'Our first performance example'\n",
    "p.resolution                     = 1  # TODO convert resolution to float: 1.8E8\n",
    "p.complexity                     = 66\n",
    "p.simulated_years_per_day        = 1.0\n",
    "p.core_hours_per_simulated_year  = 6504.0\n",
    "p.coupling_cost                  = 0.15\n",
    "p.actual_simulated_years_per_day = 0.57"
   ]
  },
  {
   "cell_type": "markdown",
   "metadata": {},
   "source": [
    "## Setting associations"
   ]
  },
  {
   "cell_type": "markdown",
   "metadata": {},
   "source": [
    "So at this point we realise that the links between the performance and model etc haven't been made.\n",
    "\n",
    "In the following we are mkaing a reference object to link between the performance and the model, and it needs to have the same properties as the target (hadgem3) so that when the links are actually made the binder can find the right type (Model.type_key) with the right name."
   ]
  },
  {
   "cell_type": "code",
   "execution_count": 5,
   "metadata": {
    "collapsed": true
   },
   "outputs": [],
   "source": [
    "a.vendor = pyesdoc.associate_by_name(a, Party, 'Cray')\n",
    "p.model = pyesdoc.associate_by_name(p, Model, 'HadGEM3-GC2')\n",
    "p.platform = pyesdoc.associate(p, a)"
   ]
  },
  {
   "cell_type": "code",
   "execution_count": 6,
   "metadata": {
    "collapsed": false
   },
   "outputs": [],
   "source": [
    "assert isinstance(a.vendor, DocReference)\n",
    "assert isinstance(p.model, DocReference)\n",
    "assert isinstance(p.platform, DocReference)"
   ]
  },
  {
   "cell_type": "markdown",
   "metadata": {},
   "source": [
    "## Validating"
   ]
  },
  {
   "cell_type": "code",
   "execution_count": 7,
   "metadata": {
    "collapsed": false
   },
   "outputs": [
    {
     "name": "stdout",
     "output_type": "stream",
     "text": [
      "doc.compute_pools --> is an empty list\n",
      "doc.institution --> is null\n"
     ]
    }
   ],
   "source": [
    "if not pyesdoc.is_valid(a):\n",
    "    for err in pyesdoc.validate(a):\n",
    "        print err"
   ]
  },
  {
   "cell_type": "code",
   "execution_count": 8,
   "metadata": {
    "collapsed": true
   },
   "outputs": [],
   "source": [
    "if not pyesdoc.is_valid(p):\n",
    "    for err in pyesdoc.validate(p):\n",
    "        print err"
   ]
  },
  {
   "cell_type": "markdown",
   "metadata": {},
   "source": [
    "## Serializing"
   ]
  },
  {
   "cell_type": "markdown",
   "metadata": {},
   "source": [
    "#### JSON"
   ]
  },
  {
   "cell_type": "code",
   "execution_count": 9,
   "metadata": {
    "collapsed": false
   },
   "outputs": [
    {
     "name": "stdout",
     "output_type": "stream",
     "text": [
      "{\"name\": \"Our first performance example\", \"platform\": {\"version\": 0, \"meta\": {\"type\": \"cim.2.shared.DocReference\"}, \"id\": \"5c87e75a-9e4c-413d-9ec7-9b24884fb33d\"}, \"coreHoursPerSimulatedYear\": 6504.0, \"actualSimulatedYearsPerDay\": 0.57, \"simulatedYearsPerDay\": 1.0, \"complexity\": 66, \"meta\": {\"institute\": \"ipsl\", \"createDate\": \"2016-11-24 11:17:15.377929\", \"subProjects\": [\"cpmip\"], \"project\": \"cmip6\", \"source\": \"ipython\", \"version\": 0, \"type\": \"cim.2.platform.Performance\", \"id\": \"763e3c5f-b46c-43d9-8de1-227bae35c314\"}, \"couplingCost\": 0.15, \"model\": {\"meta\": {\"type\": \"cim.2.shared.DocReference\"}, \"type\": \"cim.2.science.Model\", \"name\": \"HadGEM3-GC2\"}, \"resolution\": 1}\n"
     ]
    }
   ],
   "source": [
    "# Encode.\n",
    "p_as_json = pyesdoc.encode(p, 'json')\n",
    "print(p_as_json)"
   ]
  },
  {
   "cell_type": "code",
   "execution_count": 10,
   "metadata": {
    "collapsed": true
   },
   "outputs": [],
   "source": [
    "# Decode.\n",
    "assert isinstance(pyesdoc.decode(p_as_json, 'json'), Performance)"
   ]
  },
  {
   "cell_type": "markdown",
   "metadata": {},
   "source": [
    "#### XML"
   ]
  },
  {
   "cell_type": "code",
   "execution_count": 11,
   "metadata": {
    "collapsed": false
   },
   "outputs": [
    {
     "name": "stdout",
     "output_type": "stream",
     "text": [
      "<performance><actualSimulatedYearsPerDay>0.57</actualSimulatedYearsPerDay><complexity>66</complexity><coreHoursPerSimulatedYear>6504.0</coreHoursPerSimulatedYear><couplingCost>0.15</couplingCost><meta><createDate>2016-11-24 11:17:15.377929</createDate><id>763e3c5f-b46c-43d9-8de1-227bae35c314</id><institute>ipsl</institute><project>cmip6</project><source>ipython</source><subProjects><subProject>cpmip</subProject></subProjects><type>cim.2.platform.Performance</type></meta><model><meta><type>cim.2.shared.DocReference</type></meta><name>HadGEM3-GC2</name><type>cim.2.science.Model</type></model><name>Our first performance example</name><platform><id>5c87e75a-9e4c-413d-9ec7-9b24884fb33d</id><meta><type>cim.2.shared.DocReference</type></meta></platform><resolution>1</resolution><simulatedYearsPerDay>1.0</simulatedYearsPerDay></performance>\n"
     ]
    }
   ],
   "source": [
    "# Encode.\n",
    "p_as_xml = pyesdoc.encode(p, 'xml')\n",
    "print(p_as_xml)"
   ]
  },
  {
   "cell_type": "code",
   "execution_count": 12,
   "metadata": {
    "collapsed": true
   },
   "outputs": [],
   "source": [
    "# Decode.\n",
    "assert isinstance(pyesdoc.decode(p_as_xml, 'xml'), Performance)"
   ]
  },
  {
   "cell_type": "markdown",
   "metadata": {},
   "source": [
    "#### HTML"
   ]
  },
  {
   "cell_type": "code",
   "execution_count": 13,
   "metadata": {
    "collapsed": true
   },
   "outputs": [],
   "source": [
    "# HTML encoding WILL BE supported.\n",
    "assert pyesdoc.encode(p, 'html') is None"
   ]
  },
  {
   "cell_type": "markdown",
   "metadata": {},
   "source": [
    "## I/O - Write"
   ]
  },
  {
   "cell_type": "markdown",
   "metadata": {},
   "source": [
    "Write the Performance document to the local file system in JSON format (we need to provide a directory to pyesdoc)"
   ]
  },
  {
   "cell_type": "code",
   "execution_count": 14,
   "metadata": {
    "collapsed": false
   },
   "outputs": [],
   "source": [
    "# Initialise I/O directory.\n",
    "io_dir = os.path.join(os.getenv('HOME'), 'tmp/esdoc')\n",
    "if not os.path.isdir(io_dir):\n",
    "    os.mkdir(io_dir)\n",
    "\n",
    "# Delete previous created files.\n",
    "for fpath in glob.glob(\"{}/*\".format(io_dir)):\n",
    "    os.remove(fpath)"
   ]
  },
  {
   "cell_type": "code",
   "execution_count": 15,
   "metadata": {
    "collapsed": false
   },
   "outputs": [],
   "source": [
    "# Write performance document to local disk.\n",
    "p_fpath = pyesdoc.write(p, io_dir)\n",
    "assert os.path.exists(p_fpath)\n",
    "\n",
    "# Write machine document to local disk.\n",
    "a_fpath = pyesdoc.write(a, io_dir)\n",
    "assert os.path.exists(a_fpath)"
   ]
  },
  {
   "cell_type": "markdown",
   "metadata": {},
   "source": [
    "Have a look at the performance document on local disk"
   ]
  },
  {
   "cell_type": "code",
   "execution_count": 16,
   "metadata": {
    "collapsed": false
   },
   "outputs": [
    {
     "name": "stdout",
     "output_type": "stream",
     "text": [
      "{\"name\": \"Our first performance example\", \"platform\": {\"version\": 0, \"meta\": {\"type\": \"cim.2.shared.DocReference\"}, \"id\": \"5c87e75a-9e4c-413d-9ec7-9b24884fb33d\"}, \"coreHoursPerSimulatedYear\": 6504.0, \"actualSimulatedYearsPerDay\": 0.57, \"simulatedYearsPerDay\": 1.0, \"complexity\": 66, \"meta\": {\"institute\": \"ipsl\", \"createDate\": \"2016-11-24 11:17:15.377929\", \"subProjects\": [\"cpmip\"], \"project\": \"cmip6\", \"source\": \"ipython\", \"version\": 0, \"type\": \"cim.2.platform.Performance\", \"id\": \"763e3c5f-b46c-43d9-8de1-227bae35c314\"}, \"couplingCost\": 0.15, \"model\": {\"meta\": {\"type\": \"cim.2.shared.DocReference\"}, \"type\": \"cim.2.science.Model\", \"name\": \"HadGEM3-GC2\"}, \"resolution\": 1}"
     ]
    }
   ],
   "source": [
    "!cat $p_fpath"
   ]
  },
  {
   "cell_type": "markdown",
   "metadata": {},
   "source": [
    "Have a look at the machine document on local disk"
   ]
  },
  {
   "cell_type": "code",
   "execution_count": 17,
   "metadata": {
    "collapsed": false
   },
   "outputs": [
    {
     "name": "stdout",
     "output_type": "stream",
     "text": [
      "{\"modelNumber\": \"XC-30\", \"meta\": {\"institute\": \"ipsl\", \"createDate\": \"2016-11-24 11:17:15.378146\", \"subProjects\": [\"cpmip\"], \"project\": \"cmip6\", \"source\": \"ipython\", \"version\": 0, \"type\": \"cim.2.platform.Machine\", \"id\": \"5c87e75a-9e4c-413d-9ec7-9b24884fb33d\"}, \"vendor\": {\"meta\": {\"type\": \"cim.2.shared.DocReference\"}, \"type\": \"cim.2.shared.Party\", \"name\": \"Cray\"}, \"description\": \"The UK national UK academic HPC platform\", \"name\": \"Archer\"}"
     ]
    }
   ],
   "source": [
    "!cat $a_fpath"
   ]
  },
  {
   "cell_type": "markdown",
   "metadata": {},
   "source": [
    "## I/O - Read"
   ]
  },
  {
   "cell_type": "code",
   "execution_count": 18,
   "metadata": {
    "collapsed": false
   },
   "outputs": [],
   "source": [
    "doc = pyesdoc.read(p_fpath)\n",
    "assert isinstance(doc, Performance)"
   ]
  },
  {
   "cell_type": "code",
   "execution_count": 19,
   "metadata": {
    "collapsed": true
   },
   "outputs": [],
   "source": [
    "doc = pyesdoc.read(a_fpath)\n",
    "assert isinstance(doc, Machine)"
   ]
  },
  {
   "cell_type": "markdown",
   "metadata": {},
   "source": [
    "## I/O - Seek"
   ]
  },
  {
   "cell_type": "markdown",
   "metadata": {},
   "source": [
    "#### Simulate updating the documents"
   ]
  },
  {
   "cell_type": "code",
   "execution_count": 20,
   "metadata": {
    "collapsed": false
   },
   "outputs": [],
   "source": [
    "# Store identifier/version for later.\n",
    "p_id = p.meta.id\n",
    "p_version = p.meta.version\n",
    "\n",
    "# Simulate adding another 10 performance documents with different versions. \n",
    "for i in range(10):\n",
    "    p.meta.version += 1\n",
    "    pyesdoc.write(p, io_dir)\n",
    "\n",
    "# Simulate adding another 10 performance documents with different identifiers. \n",
    "p.meta.version = 0\n",
    "for i in range(10):\n",
    "    p.meta.id = unicode(uuid.uuid4())\n",
    "    pyesdoc.write(p, io_dir)"
   ]
  },
  {
   "cell_type": "markdown",
   "metadata": {},
   "source": [
    "#### Seek local disk"
   ]
  },
  {
   "cell_type": "code",
   "execution_count": 21,
   "metadata": {
    "collapsed": false
   },
   "outputs": [],
   "source": [
    "# Get documents - all.\n",
    "docs = pyesdoc.seek(io_dir)\n",
    "assert len(docs) == 22"
   ]
  },
  {
   "cell_type": "code",
   "execution_count": 22,
   "metadata": {
    "collapsed": false
   },
   "outputs": [],
   "source": [
    "# Get documents - latest.\n",
    "docs = pyesdoc.seek(io_dir, latest=True)\n",
    "assert len(docs) == 12"
   ]
  },
  {
   "cell_type": "code",
   "execution_count": 23,
   "metadata": {
    "collapsed": false
   },
   "outputs": [],
   "source": [
    "# Get documents by type - all.\n",
    "docs = pyesdoc.seek(io_dir, Performance)\n",
    "assert len(docs) == 21\n",
    "for doc in docs:\n",
    "    assert isinstance(doc, Performance)"
   ]
  },
  {
   "cell_type": "code",
   "execution_count": 24,
   "metadata": {
    "collapsed": false
   },
   "outputs": [],
   "source": [
    "# Get documents by type - latest.\n",
    "docs = pyesdoc.seek(io_dir, Performance, latest=True)\n",
    "assert len(docs) == 11\n",
    "for doc in docs:\n",
    "    assert isinstance(doc, Performance)"
   ]
  },
  {
   "cell_type": "code",
   "execution_count": 25,
   "metadata": {
    "collapsed": false
   },
   "outputs": [],
   "source": [
    "# Get a document - all versions.\n",
    "docs = pyesdoc.seek(io_dir, p_id)\n",
    "assert len(docs) == 11\n",
    "for doc in docs:\n",
    "    assert doc.meta.id == p_id"
   ]
  },
  {
   "cell_type": "code",
   "execution_count": 26,
   "metadata": {
    "collapsed": false
   },
   "outputs": [],
   "source": [
    "# Get a document - latest version.\n",
    "doc = pyesdoc.seek(io_dir, p_id, latest=True)\n",
    "assert doc.meta.id == p_id\n",
    "assert doc.meta.version == 10"
   ]
  },
  {
   "cell_type": "code",
   "execution_count": 27,
   "metadata": {
    "collapsed": false
   },
   "outputs": [],
   "source": [
    "# Get a document - specific version (note tuple usage).\n",
    "doc = pyesdoc.seek(io_dir, (p_id, p_version))\n",
    "assert doc is not None\n",
    "assert doc.meta.id == p_id\n",
    "assert doc.meta.version == p_version"
   ]
  }
 ],
 "metadata": {
  "kernelspec": {
   "display_name": "Python 2",
   "language": "python",
   "name": "python2"
  },
  "language_info": {
   "codemirror_mode": {
    "name": "ipython",
    "version": 2
   },
   "file_extension": ".py",
   "mimetype": "text/x-python",
   "name": "python",
   "nbconvert_exporter": "python",
   "pygments_lexer": "ipython2",
   "version": "2.7.10"
  }
 },
 "nbformat": 4,
 "nbformat_minor": 0
}
