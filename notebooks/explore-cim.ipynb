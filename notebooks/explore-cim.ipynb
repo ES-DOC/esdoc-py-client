{
 "cells": [
  {
   "cell_type": "markdown",
   "metadata": {},
   "source": [
    "# Exploring the CIM (v1 & v2)"
   ]
  },
  {
   "cell_type": "markdown",
   "metadata": {},
   "source": [
    "## Setup"
   ]
  },
  {
   "cell_type": "code",
   "execution_count": 1,
   "metadata": {
    "collapsed": false
   },
   "outputs": [],
   "source": [
    "import inspect\n",
    "\n",
    "import pyesdoc"
   ]
  },
  {
   "cell_type": "markdown",
   "metadata": {},
   "source": [
    "## Explore class type information."
   ]
  },
  {
   "cell_type": "code",
   "execution_count": 2,
   "metadata": {
    "collapsed": true
   },
   "outputs": [],
   "source": [
    "# A sample cim v2 class.\n",
    "kls = pyesdoc.ontologies.cim.v2.Activity"
   ]
  },
  {
   "cell_type": "code",
   "execution_count": 3,
   "metadata": {
    "collapsed": false
   },
   "outputs": [
    {
     "data": {
      "text/plain": [
       "True"
      ]
     },
     "execution_count": 3,
     "metadata": {},
     "output_type": "execute_result"
    }
   ],
   "source": [
    "# Is class a document type ?\n",
    "pyesdoc.type_info.get_is_document_type(kls)"
   ]
  },
  {
   "cell_type": "code",
   "execution_count": 4,
   "metadata": {
    "collapsed": false
   },
   "outputs": [
    {
     "data": {
      "text/plain": [
       "True"
      ]
     },
     "execution_count": 4,
     "metadata": {},
     "output_type": "execute_result"
    }
   ],
   "source": [
    "# Is class sub-classed by another class ?\n",
    "pyesdoc.type_info.get_is_sub_classed(kls)"
   ]
  },
  {
   "cell_type": "code",
   "execution_count": 5,
   "metadata": {
    "collapsed": false
   },
   "outputs": [
    {
     "data": {
      "text/plain": [
       "False"
      ]
     },
     "execution_count": 5,
     "metadata": {},
     "output_type": "execute_result"
    }
   ],
   "source": [
    "# Does class have a base class ?\n",
    "pyesdoc.type_info.get_has_base_class(kls)"
   ]
  },
  {
   "cell_type": "code",
   "execution_count": 6,
   "metadata": {
    "collapsed": false
   },
   "outputs": [
    {
     "data": {
      "text/plain": [
       "{'canonical_name',\n",
       " 'description',\n",
       " 'duration',\n",
       " 'keywords',\n",
       " 'long_name',\n",
       " 'meta',\n",
       " 'name',\n",
       " 'rationale',\n",
       " 'references',\n",
       " 'responsible_parties'}"
      ]
     },
     "execution_count": 6,
     "metadata": {},
     "output_type": "execute_result"
    }
   ],
   "source": [
    "# What properties does the class support ?\n",
    "pyesdoc.type_info.get_properties(kls)"
   ]
  },
  {
   "cell_type": "code",
   "execution_count": 7,
   "metadata": {
    "collapsed": false
   },
   "outputs": [
    {
     "data": {
      "text/plain": [
       "{'canonical_name',\n",
       " 'description',\n",
       " 'duration',\n",
       " 'keywords',\n",
       " 'long_name',\n",
       " 'meta',\n",
       " 'name',\n",
       " 'rationale',\n",
       " 'references',\n",
       " 'responsible_parties'}"
      ]
     },
     "execution_count": 7,
     "metadata": {},
     "output_type": "execute_result"
    }
   ],
   "source": [
    "# What properties does the class support that are not derived from base class hierachy ?\n",
    "pyesdoc.type_info.get_own_properties(kls)"
   ]
  },
  {
   "cell_type": "code",
   "execution_count": 8,
   "metadata": {
    "collapsed": false
   },
   "outputs": [
    {
     "data": {
      "text/plain": [
       "['cim.2.activity.Ensemble',\n",
       " 'cim.2.activity.Conformance',\n",
       " 'cim.2.data.Simulation',\n",
       " 'cim.2.designing.Project',\n",
       " 'cim.2.designing.SimulationPlan',\n",
       " 'cim.2.designing.NumericalExperiment',\n",
       " 'cim.2.designing.NumericalRequirement',\n",
       " 'cim.2.activity.UberEnsemble',\n",
       " 'cim.2.data.Downscaling',\n",
       " 'cim.2.designing.MultiTimeEnsemble',\n",
       " 'cim.2.designing.ForcingConstraint',\n",
       " 'cim.2.designing.DomainProperties',\n",
       " 'cim.2.designing.TemporalConstraint',\n",
       " 'cim.2.designing.EnsembleRequirement',\n",
       " 'cim.2.designing.OutputTemporalRequirement',\n",
       " 'cim.2.designing.MultiEnsemble']"
      ]
     },
     "execution_count": 8,
     "metadata": {},
     "output_type": "execute_result"
    }
   ],
   "source": [
    "# What are the set of sub-classes.\n",
    "pyesdoc.type_info.get_sub_classes(kls)"
   ]
  },
  {
   "cell_type": "code",
   "execution_count": 9,
   "metadata": {
    "collapsed": false
   },
   "outputs": [
    {
     "data": {
      "text/plain": [
       "'Base class for activities.'"
      ]
     },
     "execution_count": 9,
     "metadata": {},
     "output_type": "execute_result"
    }
   ],
   "source": [
    "# Class document string.\n",
    "pyesdoc.type_info.get_doc_string(kls)"
   ]
  },
  {
   "cell_type": "code",
   "execution_count": 10,
   "metadata": {
    "collapsed": false
   },
   "outputs": [
    {
     "data": {
      "text/plain": [
       "'User defined keywords.'"
      ]
     },
     "execution_count": 10,
     "metadata": {},
     "output_type": "execute_result"
    }
   ],
   "source": [
    "# Class property document string.\n",
    "pyesdoc.type_info.get_doc_string(kls, 'keywords')"
   ]
  },
  {
   "cell_type": "code",
   "execution_count": 11,
   "metadata": {
    "collapsed": false
   },
   "outputs": [
    {
     "data": {
      "text/plain": [
       "'cim.2.activity.Activity'"
      ]
     },
     "execution_count": 11,
     "metadata": {},
     "output_type": "execute_result"
    }
   ],
   "source": [
    "# What is the class key.\n",
    "pyesdoc.type_info.get_key(kls)"
   ]
  },
  {
   "cell_type": "code",
   "execution_count": 12,
   "metadata": {
    "collapsed": false
   },
   "outputs": [
    {
     "data": {
      "text/plain": [
       "'cim.2.activity.Activity.keywords'"
      ]
     },
     "execution_count": 12,
     "metadata": {},
     "output_type": "execute_result"
    }
   ],
   "source": [
    "# What is a class property key.\n",
    "pyesdoc.type_info.get_key(kls, 'keywords')"
   ]
  },
  {
   "cell_type": "code",
   "execution_count": 13,
   "metadata": {
    "collapsed": false
   },
   "outputs": [
    {
     "data": {
      "text/plain": [
       "{'canonical_name': {('cardinality', '0.1'), ('type', unicode)},\n",
       " 'description': {('cardinality', '0.1'), ('type', unicode)},\n",
       " 'duration': {('cardinality', '0.1'),\n",
       "  ('type', pyesdoc.ontologies.cim.v2.typeset_for_shared_package.TimePeriod)},\n",
       " 'keywords': {('cardinality', '0.N'), ('type', unicode)},\n",
       " 'long_name': {('cardinality', '0.1'), ('type', unicode)},\n",
       " 'meta': {('cardinality', '1.1'),\n",
       "  ('type', pyesdoc.ontologies.cim.v2.typeset_for_shared_package.DocMetaInfo)},\n",
       " 'name': {('cardinality', '1.1'), ('type', unicode)},\n",
       " 'rationale': {('cardinality', '0.1'), ('type', unicode)},\n",
       " 'references': {('cardinality', '0.N'),\n",
       "  ('type', pyesdoc.ontologies.cim.v2.typeset_for_shared_package.Reference)},\n",
       " 'responsible_parties': {('cardinality', '0.N'),\n",
       "  ('type',\n",
       "   pyesdoc.ontologies.cim.v2.typeset_for_shared_package.Responsibility)}}"
      ]
     },
     "execution_count": 13,
     "metadata": {},
     "output_type": "execute_result"
    }
   ],
   "source": [
    "# What are the full set of class constraints ?\n",
    "pyesdoc.type_info.get_constraints(kls)"
   ]
  },
  {
   "cell_type": "code",
   "execution_count": 14,
   "metadata": {
    "collapsed": false
   },
   "outputs": [
    {
     "data": {
      "text/plain": [
       "{('cardinality', '0.N'), ('type', unicode)}"
      ]
     },
     "execution_count": 14,
     "metadata": {},
     "output_type": "execute_result"
    }
   ],
   "source": [
    "# What are the set of class property constraints ?\n",
    "pyesdoc.type_info.get_constraints(kls, 'keywords')"
   ]
  },
  {
   "cell_type": "markdown",
   "metadata": {},
   "source": [
    "## Explore enum type information."
   ]
  },
  {
   "cell_type": "code",
   "execution_count": 15,
   "metadata": {
    "collapsed": true
   },
   "outputs": [],
   "source": [
    "# A sample cim v2 enum.\n",
    "enum = pyesdoc.ontologies.cim.v2.EnsembleTypes"
   ]
  },
  {
   "cell_type": "code",
   "execution_count": 16,
   "metadata": {
    "collapsed": false
   },
   "outputs": [
    {
     "data": {
      "text/plain": [
       "False"
      ]
     },
     "execution_count": 16,
     "metadata": {},
     "output_type": "execute_result"
    }
   ],
   "source": [
    "# Is enum open or closed ?\n",
    "enum.is_open"
   ]
  },
  {
   "cell_type": "code",
   "execution_count": 17,
   "metadata": {
    "collapsed": false
   },
   "outputs": [
    {
     "data": {
      "text/plain": [
       "['Forced',\n",
       " 'Initialisation Method',\n",
       " 'Initialisation',\n",
       " 'Perturbed Physics',\n",
       " 'Resolution',\n",
       " 'Staggered Start']"
      ]
     },
     "execution_count": 17,
     "metadata": {},
     "output_type": "execute_result"
    }
   ],
   "source": [
    "# What are the enum's declared members ?\n",
    "enum.members"
   ]
  },
  {
   "cell_type": "code",
   "execution_count": 18,
   "metadata": {
    "collapsed": false
   },
   "outputs": [
    {
     "data": {
      "text/plain": [
       "'Defines the various axes along which one can set up an ensemble.'"
      ]
     },
     "execution_count": 18,
     "metadata": {},
     "output_type": "execute_result"
    }
   ],
   "source": [
    "# Enum document string.\n",
    "pyesdoc.type_info.get_doc_string(enum)"
   ]
  },
  {
   "cell_type": "code",
   "execution_count": 19,
   "metadata": {
    "collapsed": false
   },
   "outputs": [
    {
     "data": {
      "text/plain": [
       "'Members used differing forcing data'"
      ]
     },
     "execution_count": 19,
     "metadata": {},
     "output_type": "execute_result"
    }
   ],
   "source": [
    "# Enum member document string.\n",
    "pyesdoc.type_info.get_doc_string(enum, 'Forced')"
   ]
  },
  {
   "cell_type": "markdown",
   "metadata": {},
   "source": [
    "## Compare v1 & v2"
   ]
  },
  {
   "cell_type": "code",
   "execution_count": 20,
   "metadata": {
    "collapsed": false
   },
   "outputs": [
    {
     "ename": "SyntaxError",
     "evalue": "invalid syntax (<ipython-input-20-4f45e8d0459a>, line 3)",
     "output_type": "error",
     "traceback": [
      "\u001b[0;36m  File \u001b[0;32m\"<ipython-input-20-4f45e8d0459a>\"\u001b[0;36m, line \u001b[0;32m3\u001b[0m\n\u001b[0;31m    g.type_info.\u001b[0m\n\u001b[0m                ^\u001b[0m\n\u001b[0;31mSyntaxError\u001b[0m\u001b[0;31m:\u001b[0m invalid syntax\n"
     ]
    }
   ],
   "source": [
    "f = pyesdoc.type_info.ONTOLOGIES[0]\n",
    "g = f.VERSIONS[0]\n",
    "g.type_info."
   ]
  },
  {
   "cell_type": "code",
   "execution_count": null,
   "metadata": {
    "collapsed": false
   },
   "outputs": [],
   "source": [
    "for o in pyesdoc.type_info.ONTOLOGIES:\n",
    "    for v in o.VERSIONS:\n",
    "        print v.NAME\n"
   ]
  },
  {
   "cell_type": "code",
   "execution_count": null,
   "metadata": {
    "collapsed": false
   },
   "outputs": [],
   "source": [
    "# Packages.\n",
    "for v in pyesdoc.type_info.ONTOLOGIES:\n",
    "    v.v1\n",
    "    print v.FULL_NAME, 'packages =' , len(v.PACKAGES)"
   ]
  },
  {
   "cell_type": "code",
   "execution_count": null,
   "metadata": {
    "collapsed": false
   },
   "outputs": [],
   "source": [
    "# Classes.\n",
    "for v in cim.type_info.VERSIONS:\n",
    "    print v.FULL_NAME, 'classes =' , len(v.CLASSES)"
   ]
  },
  {
   "cell_type": "code",
   "execution_count": null,
   "metadata": {
    "collapsed": false
   },
   "outputs": [],
   "source": [
    "# Class properties.\n",
    "for v in cim.type_info.VERSIONS:\n",
    "    print v.FULL_NAME, 'class properties =' , v.type_info.TOTAL_CLASS_PROPERTIES"
   ]
  },
  {
   "cell_type": "code",
   "execution_count": null,
   "metadata": {
    "collapsed": false,
    "scrolled": true
   },
   "outputs": [],
   "source": [
    "# Classes with a base class.\n",
    "for v in cim.type_info.VERSIONS:\n",
    "    print v.FULL_NAME, 'base classed =' , len(v.type_info.BASE_CLASSED)"
   ]
  },
  {
   "cell_type": "code",
   "execution_count": null,
   "metadata": {
    "collapsed": false
   },
   "outputs": [],
   "source": [
    "# Classes that are sub-classed.\n",
    "for v in cim.type_info.VERSIONS:\n",
    "    print v.FULL_NAME, 'sub classed =' , len(v.type_info.SUB_CLASSED)"
   ]
  },
  {
   "cell_type": "code",
   "execution_count": null,
   "metadata": {
    "collapsed": false
   },
   "outputs": [],
   "source": [
    "# Maximum class hierachy depth.\n",
    "for v in cim.type_info.VERSIONS:\n",
    "    print v.FULL_NAME, 'maximum class hierachy depth =' , v.type_info.CLASS_HIERACHY_DEPTH"
   ]
  },
  {
   "cell_type": "code",
   "execution_count": null,
   "metadata": {
    "collapsed": false
   },
   "outputs": [],
   "source": [
    "# Enums.\n",
    "for v in cim.type_info.VERSIONS:\n",
    "    print v.FULL_NAME, 'enums =' , len(v.type_info.ENUMS)"
   ]
  },
  {
   "cell_type": "code",
   "execution_count": null,
   "metadata": {
    "collapsed": false
   },
   "outputs": [],
   "source": [
    "# Enum members.\n",
    "for v in cim.type_info.VERSIONS:\n",
    "    print v.FULL_NAME, 'enum members =' , v.type_info.TOTAL_ENUM_MEMBERS"
   ]
  },
  {
   "cell_type": "code",
   "execution_count": null,
   "metadata": {
    "collapsed": false
   },
   "outputs": [],
   "source": [
    "# Constraints.\n",
    "for v in cim.type_info.VERSIONS:\n",
    "    print v.FULL_NAME, 'constraint count =' , v.type_info.TOTAL_CONSTRAINTS"
   ]
  },
  {
   "cell_type": "markdown",
   "metadata": {},
   "source": [
    "## Explore a class"
   ]
  },
  {
   "cell_type": "code",
   "execution_count": null,
   "metadata": {
    "collapsed": false
   },
   "outputs": [],
   "source": [
    "# Supported class constraint types.\n",
    "print pyesdoc.type_info.CONSTRAINT_TYPES"
   ]
  },
  {
   "cell_type": "code",
   "execution_count": null,
   "metadata": {
    "collapsed": false
   },
   "outputs": [],
   "source": [
    "# Class constraints (type).\n",
    "for p, t, v in [ct for ct in type_info.CONSTRAINTS[v2_class] if ct[1] == pyesdoc.CONSTRAINT_TYPE_TYPEOF]:\n",
    "    print p, \"-->\", v"
   ]
  },
  {
   "cell_type": "code",
   "execution_count": null,
   "metadata": {
    "collapsed": false
   },
   "outputs": [],
   "source": [
    "# Class constraints (cardinality).\n",
    "for p, t, v in [ct for ct in type_info.CONSTRAINTS[v2_class] if ct[1] == pyesdoc.CONSTRAINT_TYPE_CARDINALITY]:\n",
    "    print p, \"-->\", v"
   ]
  },
  {
   "cell_type": "code",
   "execution_count": null,
   "metadata": {
    "collapsed": false
   },
   "outputs": [],
   "source": [
    "# Class constant constants.\n",
    "for p, t, v in [ct for ct in type_info.CONSTRAINTS[v2_class] if ct[1] == pyesdoc.CONSTRAINT_TYPE_CONSTANT]:\n",
    "    print p, \"-->\", v"
   ]
  },
  {
   "cell_type": "code",
   "execution_count": null,
   "metadata": {
    "collapsed": true
   },
   "outputs": [],
   "source": [
    "# Class regular-expression constants.\n",
    "for p, t, v in [ct for ct in type_info.CONSTRAINTS[v2_class] if ct[1] == pyesdoc.CONSTRAINT_TYPE_REGEX]:\n",
    "    print p, \"-->\", v"
   ]
  }
 ],
 "metadata": {
  "kernelspec": {
   "display_name": "Python 2",
   "language": "python",
   "name": "python2"
  },
  "language_info": {
   "codemirror_mode": {
    "name": "ipython",
    "version": 2
   },
   "file_extension": ".py",
   "mimetype": "text/x-python",
   "name": "python",
   "nbconvert_exporter": "python",
   "pygments_lexer": "ipython2",
   "version": "2.7.10"
  }
 },
 "nbformat": 4,
 "nbformat_minor": 0
}
