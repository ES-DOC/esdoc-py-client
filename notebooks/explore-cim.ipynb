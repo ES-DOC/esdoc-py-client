{
 "cells": [
  {
   "cell_type": "markdown",
   "metadata": {},
   "source": [
    "# Exploring the CIM (v1 & v2)"
   ]
  },
  {
   "cell_type": "markdown",
   "metadata": {},
   "source": [
    "## Setup"
   ]
  },
  {
   "cell_type": "code",
   "execution_count": 1,
   "metadata": {
    "collapsed": false
   },
   "outputs": [],
   "source": [
    "import inspect\n",
    "\n",
    "import pyesdoc\n",
    "from pyesdoc.ontologies import type_info\n",
    "from pyesdoc.ontologies import cim"
   ]
  },
  {
   "cell_type": "code",
   "execution_count": 2,
   "metadata": {
    "collapsed": false
   },
   "outputs": [
    {
     "ename": "SyntaxError",
     "evalue": "invalid syntax (<ipython-input-2-9309fb71c845>, line 1)",
     "output_type": "error",
     "traceback": [
      "\u001b[0;36m  File \u001b[0;32m\"<ipython-input-2-9309fb71c845>\"\u001b[0;36m, line \u001b[0;32m1\u001b[0m\n\u001b[0;31m    pyesdoc.ontologies.\u001b[0m\n\u001b[0m                       ^\u001b[0m\n\u001b[0;31mSyntaxError\u001b[0m\u001b[0;31m:\u001b[0m invalid syntax\n"
     ]
    }
   ],
   "source": [
    "pyesdoc.ontologies."
   ]
  },
  {
   "cell_type": "markdown",
   "metadata": {},
   "source": [
    "## Compare v1 & v2"
   ]
  },
  {
   "cell_type": "code",
   "execution_count": 4,
   "metadata": {
    "collapsed": false
   },
   "outputs": [
    {
     "ename": "AttributeError",
     "evalue": "'module' object has no attribute 'FULL_NAME'",
     "output_type": "error",
     "traceback": [
      "\u001b[0;31m---------------------------------------------------------------------------\u001b[0m",
      "\u001b[0;31mAttributeError\u001b[0m                            Traceback (most recent call last)",
      "\u001b[0;32m<ipython-input-4-13116a8316c2>\u001b[0m in \u001b[0;36m<module>\u001b[0;34m()\u001b[0m\n\u001b[1;32m      1\u001b[0m \u001b[0;31m# Packages.\u001b[0m\u001b[0;34m\u001b[0m\u001b[0;34m\u001b[0m\u001b[0m\n\u001b[1;32m      2\u001b[0m \u001b[0;32mfor\u001b[0m \u001b[0mv\u001b[0m \u001b[0;32min\u001b[0m \u001b[0mcim\u001b[0m\u001b[0;34m.\u001b[0m\u001b[0mtype_info\u001b[0m\u001b[0;34m.\u001b[0m\u001b[0mVERSIONS\u001b[0m\u001b[0;34m:\u001b[0m\u001b[0;34m\u001b[0m\u001b[0m\n\u001b[0;32m----> 3\u001b[0;31m     \u001b[0;32mprint\u001b[0m \u001b[0mv\u001b[0m\u001b[0;34m.\u001b[0m\u001b[0mFULL_NAME\u001b[0m\u001b[0;34m,\u001b[0m \u001b[0;34m'packages ='\u001b[0m \u001b[0;34m,\u001b[0m \u001b[0mlen\u001b[0m\u001b[0;34m(\u001b[0m\u001b[0mv\u001b[0m\u001b[0;34m.\u001b[0m\u001b[0mPACKAGES\u001b[0m\u001b[0;34m)\u001b[0m\u001b[0;34m\u001b[0m\u001b[0m\n\u001b[0m",
      "\u001b[0;31mAttributeError\u001b[0m: 'module' object has no attribute 'FULL_NAME'"
     ]
    }
   ],
   "source": [
    "# Packages.\n",
    "for v in cim.type_info.VERSIONS:\n",
    "    print v.FULL_NAME, 'packages =' , len(v.PACKAGES)"
   ]
  },
  {
   "cell_type": "code",
   "execution_count": null,
   "metadata": {
    "collapsed": false
   },
   "outputs": [],
   "source": [
    "# Classes.\n",
    "for v in cim.type_info.VERSIONS:\n",
    "    print v.FULL_NAME, 'classes =' , len(v.CLASSES)"
   ]
  },
  {
   "cell_type": "code",
   "execution_count": null,
   "metadata": {
    "collapsed": false
   },
   "outputs": [],
   "source": [
    "# Class properties.\n",
    "for v in cim.type_info.VERSIONS:\n",
    "    print v.FULL_NAME, 'class properties =' , v.type_info.TOTAL_CLASS_PROPERTIES"
   ]
  },
  {
   "cell_type": "code",
   "execution_count": null,
   "metadata": {
    "collapsed": false,
    "scrolled": true
   },
   "outputs": [],
   "source": [
    "# Classes with a base class.\n",
    "for v in cim.type_info.VERSIONS:\n",
    "    print v.FULL_NAME, 'base classed =' , len(v.type_info.BASE_CLASSED)"
   ]
  },
  {
   "cell_type": "code",
   "execution_count": null,
   "metadata": {
    "collapsed": false
   },
   "outputs": [],
   "source": [
    "# Classes that are sub-classed.\n",
    "for v in cim.type_info.VERSIONS:\n",
    "    print v.FULL_NAME, 'sub classed =' , len(v.type_info.SUB_CLASSED)"
   ]
  },
  {
   "cell_type": "code",
   "execution_count": null,
   "metadata": {
    "collapsed": false
   },
   "outputs": [],
   "source": [
    "# Maximum class hierachy depth.\n",
    "for v in cim.type_info.VERSIONS:\n",
    "    print v.FULL_NAME, 'maximum class hierachy depth =' , v.type_info.CLASS_HIERACHY_DEPTH"
   ]
  },
  {
   "cell_type": "code",
   "execution_count": null,
   "metadata": {
    "collapsed": false
   },
   "outputs": [],
   "source": [
    "# Enums.\n",
    "for v in cim.type_info.VERSIONS:\n",
    "    print v.FULL_NAME, 'enums =' , len(v.type_info.ENUMS)"
   ]
  },
  {
   "cell_type": "code",
   "execution_count": null,
   "metadata": {
    "collapsed": false
   },
   "outputs": [],
   "source": [
    "# Enum members.\n",
    "for v in cim.type_info.VERSIONS:\n",
    "    print v.FULL_NAME, 'enum members =' , v.type_info.TOTAL_ENUM_MEMBERS"
   ]
  },
  {
   "cell_type": "code",
   "execution_count": null,
   "metadata": {
    "collapsed": false
   },
   "outputs": [],
   "source": [
    "# Constraints.\n",
    "for v in cim.type_info.VERSIONS:\n",
    "    print v.FULL_NAME, 'constraint count =' , v.type_info.TOTAL_CONSTRAINTS"
   ]
  },
  {
   "cell_type": "markdown",
   "metadata": {},
   "source": [
    "## Explore a class"
   ]
  },
  {
   "cell_type": "code",
   "execution_count": null,
   "metadata": {
    "collapsed": true
   },
   "outputs": [],
   "source": [
    "# Set example class.\n",
    "v2_class = cim.v2.NumericalExperiment"
   ]
  },
  {
   "cell_type": "code",
   "execution_count": null,
   "metadata": {
    "collapsed": false
   },
   "outputs": [],
   "source": [
    "# Class type key.\n",
    "print type_info.KEYS[v2_class]"
   ]
  },
  {
   "cell_type": "code",
   "execution_count": null,
   "metadata": {
    "collapsed": false
   },
   "outputs": [],
   "source": [
    "type_info.SORT_KEYS"
   ]
  },
  {
   "cell_type": "code",
   "execution_count": null,
   "metadata": {
    "collapsed": false
   },
   "outputs": [],
   "source": [
    "# Class sort key.\n",
    "print type_info.SORT_KEYS[v2_class]"
   ]
  },
  {
   "cell_type": "code",
   "execution_count": null,
   "metadata": {
    "collapsed": false
   },
   "outputs": [],
   "source": [
    "# Class display name.\n",
    "print type_info.DISPLAY_NAMES[v2_class]"
   ]
  },
  {
   "cell_type": "code",
   "execution_count": null,
   "metadata": {
    "collapsed": false
   },
   "outputs": [],
   "source": [
    "# Class properties.\n",
    "print type_info.CLASS_PROPERTIES[v2_class]"
   ]
  },
  {
   "cell_type": "code",
   "execution_count": null,
   "metadata": {
    "collapsed": false
   },
   "outputs": [],
   "source": [
    "# Class own properties.\n",
    "print type_info.CLASS_OWN_PROPERTIES[v2_class]"
   ]
  },
  {
   "cell_type": "code",
   "execution_count": null,
   "metadata": {
    "collapsed": false
   },
   "outputs": [],
   "source": [
    "# Class help.\n",
    "print type_info.HELP[v2_class]"
   ]
  },
  {
   "cell_type": "code",
   "execution_count": null,
   "metadata": {
    "collapsed": false
   },
   "outputs": [],
   "source": [
    "# Class property help.\n",
    "print type_info.HELP[v2_class, 'requirements']"
   ]
  },
  {
   "cell_type": "code",
   "execution_count": null,
   "metadata": {
    "collapsed": false
   },
   "outputs": [],
   "source": [
    "# Class constraints.\n",
    "for n, t, v in type_info.CONSTRAINTS[v2_class]:\n",
    "    print n, t, v"
   ]
  },
  {
   "cell_type": "code",
   "execution_count": null,
   "metadata": {
    "collapsed": false
   },
   "outputs": [],
   "source": [
    "# Class property constraints.\n",
    "for t, v in type_info.CONSTRAINTS[v2_class, 'requirements']:\n",
    "    print t, v"
   ]
  },
  {
   "cell_type": "code",
   "execution_count": null,
   "metadata": {
    "collapsed": false
   },
   "outputs": [],
   "source": [
    "# Supported class constraint types.\n",
    "print type_info.CONSTRAINT_TYPES"
   ]
  },
  {
   "cell_type": "code",
   "execution_count": null,
   "metadata": {
    "collapsed": false
   },
   "outputs": [],
   "source": [
    "# Class constraints (type).\n",
    "for p, t, v in [ct for ct in type_info.CONSTRAINTS[v2_class] if ct[1] == pyesdoc.CONSTRAINT_TYPE_TYPEOF]:\n",
    "    print p, \"-->\", v"
   ]
  },
  {
   "cell_type": "code",
   "execution_count": null,
   "metadata": {
    "collapsed": false
   },
   "outputs": [],
   "source": [
    "# Class constraints (cardinality).\n",
    "for p, t, v in [ct for ct in type_info.CONSTRAINTS[v2_class] if ct[1] == pyesdoc.CONSTRAINT_TYPE_CARDINALITY]:\n",
    "    print p, \"-->\", v"
   ]
  },
  {
   "cell_type": "code",
   "execution_count": null,
   "metadata": {
    "collapsed": false
   },
   "outputs": [],
   "source": [
    "# Class constant constants.\n",
    "for p, t, v in [ct for ct in type_info.CONSTRAINTS[v2_class] if ct[1] == pyesdoc.CONSTRAINT_TYPE_CONSTANT]:\n",
    "    print p, \"-->\", v"
   ]
  },
  {
   "cell_type": "code",
   "execution_count": null,
   "metadata": {
    "collapsed": true
   },
   "outputs": [],
   "source": [
    "# Class regular-expression constants.\n",
    "for p, t, v in [ct for ct in type_info.CONSTRAINTS[v2_class] if ct[1] == pyesdoc.CONSTRAINT_TYPE_REGEX]:\n",
    "    print p, \"-->\", v"
   ]
  },
  {
   "cell_type": "code",
   "execution_count": null,
   "metadata": {
    "collapsed": false
   },
   "outputs": [],
   "source": [
    "type_info.BASE_CLASSES"
   ]
  },
  {
   "cell_type": "markdown",
   "metadata": {},
   "source": [
    "## Explore an enum"
   ]
  },
  {
   "cell_type": "code",
   "execution_count": null,
   "metadata": {
    "collapsed": true
   },
   "outputs": [],
   "source": [
    "# Set example enum.\n",
    "v2_enum = cim.v2.EnsembleTypes"
   ]
  },
  {
   "cell_type": "code",
   "execution_count": null,
   "metadata": {
    "collapsed": false
   },
   "outputs": [],
   "source": [
    "# Is enum open or closed ?\n",
    "print v2_enum.is_open"
   ]
  },
  {
   "cell_type": "code",
   "execution_count": null,
   "metadata": {
    "collapsed": false
   },
   "outputs": [],
   "source": [
    "# What are the enum's declared members ?\n",
    "for member in v2_enum.members:\n",
    "    print member"
   ]
  },
  {
   "cell_type": "code",
   "execution_count": null,
   "metadata": {
    "collapsed": false
   },
   "outputs": [],
   "source": [
    "# Enum help.\n",
    "print type_info.HELP[v2_enum]"
   ]
  },
  {
   "cell_type": "code",
   "execution_count": null,
   "metadata": {
    "collapsed": false
   },
   "outputs": [],
   "source": [
    "# Enum member help.\n",
    "print type_info.HELP[v2_enum, 'Forced']"
   ]
  },
  {
   "cell_type": "code",
   "execution_count": null,
   "metadata": {
    "collapsed": true
   },
   "outputs": [],
   "source": []
  }
 ],
 "metadata": {
  "kernelspec": {
   "display_name": "Python 2",
   "language": "python",
   "name": "python2"
  },
  "language_info": {
   "codemirror_mode": {
    "name": "ipython",
    "version": 2
   },
   "file_extension": ".py",
   "mimetype": "text/x-python",
   "name": "python",
   "nbconvert_exporter": "python",
   "pygments_lexer": "ipython2",
   "version": "2.7.10"
  }
 },
 "nbformat": 4,
 "nbformat_minor": 0
}
