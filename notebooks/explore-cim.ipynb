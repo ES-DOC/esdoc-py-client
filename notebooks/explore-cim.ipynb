{
 "cells": [
  {
   "cell_type": "markdown",
   "metadata": {},
   "source": [
    "# Exploring the CIM (v1 & v2)"
   ]
  },
  {
   "cell_type": "markdown",
   "metadata": {},
   "source": [
    "## Setup"
   ]
  },
  {
   "cell_type": "code",
   "execution_count": 1,
   "metadata": {
    "collapsed": false
   },
   "outputs": [],
   "source": [
    "import inspect\n",
    "\n",
    "import pyesdoc\n",
    "import pyesdoc.ontologies.cim as cim"
   ]
  },
  {
   "cell_type": "markdown",
   "metadata": {},
   "source": [
    "## Compare v1 & v2"
   ]
  },
  {
   "cell_type": "code",
   "execution_count": 7,
   "metadata": {
    "collapsed": false
   },
   "outputs": [
    {
     "name": "stdout",
     "output_type": "stream",
     "text": [
      "cim.1 packages = 7\n",
      "cim.2 packages = 8\n"
     ]
    }
   ],
   "source": [
    "# Packages.\n",
    "for v in cim.VERSIONS:\n",
    "    print v.FULL_NAME, 'packages =' , len(v.PACKAGES)"
   ]
  },
  {
   "cell_type": "code",
   "execution_count": 8,
   "metadata": {
    "collapsed": false
   },
   "outputs": [
    {
     "name": "stdout",
     "output_type": "stream",
     "text": [
      "cim.1 classes = 103\n",
      "cim.2 classes = 74\n"
     ]
    }
   ],
   "source": [
    "# Classes.\n",
    "for v in cim.VERSIONS:\n",
    "    print v.FULL_NAME, 'classes =' , len(v.CLASSES)"
   ]
  },
  {
   "cell_type": "code",
   "execution_count": 9,
   "metadata": {
    "collapsed": false
   },
   "outputs": [
    {
     "name": "stdout",
     "output_type": "stream",
     "text": [
      "cim.1 class properties = 439\n",
      "cim.2 class properties = 334\n"
     ]
    }
   ],
   "source": [
    "# Class properties.\n",
    "for v in cim.VERSIONS:\n",
    "    print v.FULL_NAME, 'class properties =' , v.TOTAL_CLASS_PROPERTIES"
   ]
  },
  {
   "cell_type": "code",
   "execution_count": 10,
   "metadata": {
    "collapsed": false,
    "scrolled": true
   },
   "outputs": [
    {
     "name": "stdout",
     "output_type": "stream",
     "text": [
      "cim.1 base classed = 42\n",
      "cim.2 base classed = 27\n"
     ]
    }
   ],
   "source": [
    "# Classes with a base class.\n",
    "for v in cim.VERSIONS:\n",
    "    print v.FULL_NAME, 'base classed =' , len(v.BASE_CLASSED)"
   ]
  },
  {
   "cell_type": "code",
   "execution_count": 11,
   "metadata": {
    "collapsed": false
   },
   "outputs": [
    {
     "name": "stdout",
     "output_type": "stream",
     "text": [
      "cim.1 sub classed = 14\n",
      "cim.2 sub classed = 10\n"
     ]
    }
   ],
   "source": [
    "# Classes that are sub-classed.\n",
    "for v in cim.VERSIONS:\n",
    "    print v.FULL_NAME, 'sub classed =' , len(v.SUB_CLASSED)"
   ]
  },
  {
   "cell_type": "code",
   "execution_count": 12,
   "metadata": {
    "collapsed": false
   },
   "outputs": [
    {
     "name": "stdout",
     "output_type": "stream",
     "text": [
      "cim.1 maximum class hierachy depth = 3\n",
      "cim.2 maximum class hierachy depth = 2\n"
     ]
    }
   ],
   "source": [
    "# Maximum class hierachy depth.\n",
    "for v in cim.VERSIONS:\n",
    "    print v.FULL_NAME, 'maximum class hierachy depth =' , v.CLASS_HIERACHY_DEPTH"
   ]
  },
  {
   "cell_type": "code",
   "execution_count": 13,
   "metadata": {
    "collapsed": false
   },
   "outputs": [
    {
     "name": "stdout",
     "output_type": "stream",
     "text": [
      "cim.1 enums = 48\n",
      "cim.2 enums = 25\n"
     ]
    }
   ],
   "source": [
    "# Enums.\n",
    "for v in cim.VERSIONS:\n",
    "    print v.FULL_NAME, 'enums =' , len(v.ENUMS)"
   ]
  },
  {
   "cell_type": "code",
   "execution_count": 14,
   "metadata": {
    "collapsed": false
   },
   "outputs": [
    {
     "name": "stdout",
     "output_type": "stream",
     "text": [
      "cim.1 enum members = 162\n",
      "cim.2 enum members = 161\n"
     ]
    }
   ],
   "source": [
    "# Enum members.\n",
    "for v in cim.VERSIONS:\n",
    "    print v.FULL_NAME, 'enum members =' , v.TOTAL_ENUM_MEMBERS"
   ]
  },
  {
   "cell_type": "code",
   "execution_count": 15,
   "metadata": {
    "collapsed": false
   },
   "outputs": [
    {
     "name": "stdout",
     "output_type": "stream",
     "text": [
      "cim.1 constraint count = 1372\n",
      "cim.2 constraint count = 1144\n"
     ]
    }
   ],
   "source": [
    "# Constraints.\n",
    "for v in cim.VERSIONS:\n",
    "    print v.FULL_NAME, 'constraint count =' , v.TOTAL_CONSTRAINTS"
   ]
  },
  {
   "cell_type": "markdown",
   "metadata": {},
   "source": [
    "## Explore a class"
   ]
  },
  {
   "cell_type": "code",
   "execution_count": 16,
   "metadata": {
    "collapsed": true
   },
   "outputs": [],
   "source": [
    "# Set example class.\n",
    "v2_class = cim.v2.NumericalExperiment"
   ]
  },
  {
   "cell_type": "code",
   "execution_count": 17,
   "metadata": {
    "collapsed": false
   },
   "outputs": [
    {
     "name": "stdout",
     "output_type": "stream",
     "text": [
      "cim.2.designing.NumericalExperiment\n"
     ]
    }
   ],
   "source": [
    "# Class type key.\n",
    "print pyesdoc.KEYS[v2_class]"
   ]
  },
  {
   "cell_type": "code",
   "execution_count": 18,
   "metadata": {
    "collapsed": false
   },
   "outputs": [
    {
     "name": "stdout",
     "output_type": "stream",
     "text": [
      "AB\n"
     ]
    }
   ],
   "source": [
    "# Class sort key.\n",
    "print pyesdoc.SORT_KEYS[v2_class]"
   ]
  },
  {
   "cell_type": "code",
   "execution_count": 19,
   "metadata": {
    "collapsed": false
   },
   "outputs": [
    {
     "name": "stdout",
     "output_type": "stream",
     "text": [
      "Experiment\n"
     ]
    }
   ],
   "source": [
    "# Class display name.\n",
    "print pyesdoc.DISPLAY_NAMES[v2_class]"
   ]
  },
  {
   "cell_type": "code",
   "execution_count": 20,
   "metadata": {
    "collapsed": false
   },
   "outputs": [
    {
     "name": "stdout",
     "output_type": "stream",
     "text": [
      "('related_experiments', 'name', 'keywords', 'long_name', 'requirements', 'references', 'description', 'meta', 'rationale', 'canonical_name', 'duration', 'responsible_parties')\n"
     ]
    }
   ],
   "source": [
    "# Class properties.\n",
    "print pyesdoc.CLASS_PROPERTIES[v2_class]"
   ]
  },
  {
   "cell_type": "code",
   "execution_count": 21,
   "metadata": {
    "collapsed": false
   },
   "outputs": [
    {
     "name": "stdout",
     "output_type": "stream",
     "text": [
      "('related_experiments', 'requirements')\n"
     ]
    }
   ],
   "source": [
    "# Class own properties.\n",
    "print pyesdoc.CLASS_OWN_PROPERTIES[v2_class]"
   ]
  },
  {
   "cell_type": "code",
   "execution_count": 22,
   "metadata": {
    "collapsed": false
   },
   "outputs": [
    {
     "name": "stdout",
     "output_type": "stream",
     "text": [
      "\n",
      "\t\tDefines a numerical experiment.\n",
      "\n",
      "\t\n"
     ]
    }
   ],
   "source": [
    "# Class help.\n",
    "print pyesdoc.HELP[v2_class]"
   ]
  },
  {
   "cell_type": "code",
   "execution_count": 23,
   "metadata": {
    "collapsed": false
   },
   "outputs": [
    {
     "name": "stdout",
     "output_type": "stream",
     "text": [
      "Requirements that conformant simulations need to satisfy.\n"
     ]
    }
   ],
   "source": [
    "# Class property help.\n",
    "print pyesdoc.HELP[v2_class, 'requirements']"
   ]
  },
  {
   "cell_type": "code",
   "execution_count": 24,
   "metadata": {
    "collapsed": false
   },
   "outputs": [
    {
     "name": "stdout",
     "output_type": "stream",
     "text": [
      "requirements type <class 'pyesdoc.ontologies.cim.v2.typeset_for_designing_package.NumericalRequirement'>\n",
      "description type <type 'unicode'>\n",
      "keywords type <type 'unicode'>\n",
      "responsible_parties type <class 'pyesdoc.ontologies.cim.v2.typeset_for_shared_package.Responsibility'>\n",
      "long_name type <type 'unicode'>\n",
      "canonical_name type <type 'unicode'>\n",
      "meta type <class 'pyesdoc.ontologies.cim.v2.typeset_for_shared_package.DocMetaInfo'>\n",
      "references type <class 'pyesdoc.ontologies.cim.v2.typeset_for_shared_package.Reference'>\n",
      "rationale type <type 'unicode'>\n",
      "related_experiments type <class 'pyesdoc.ontologies.cim.v2.typeset_for_designing_package.NumericalExperiment'>\n",
      "duration type <class 'pyesdoc.ontologies.cim.v2.typeset_for_shared_package.TimePeriod'>\n",
      "name type <type 'unicode'>\n",
      "requirements cardinality 0.N\n",
      "description cardinality 0.1\n",
      "keywords cardinality 0.N\n",
      "responsible_parties cardinality 0.N\n",
      "long_name cardinality 0.1\n",
      "canonical_name cardinality 0.1\n",
      "meta cardinality 1.1\n",
      "references cardinality 0.N\n",
      "rationale cardinality 1.1\n",
      "related_experiments cardinality 0.N\n",
      "duration cardinality 0.0\n",
      "name cardinality 1.1\n"
     ]
    }
   ],
   "source": [
    "# Class constraints.\n",
    "for n, t, v in pyesdoc.CONSTRAINTS[v2_class]:\n",
    "    print n, t, v"
   ]
  },
  {
   "cell_type": "code",
   "execution_count": 25,
   "metadata": {
    "collapsed": false
   },
   "outputs": [
    {
     "name": "stdout",
     "output_type": "stream",
     "text": [
      "type <class 'pyesdoc.ontologies.cim.v2.typeset_for_designing_package.NumericalRequirement'>\n",
      "cardinality 0.N\n"
     ]
    }
   ],
   "source": [
    "# Class property constraints.\n",
    "for t, v in pyesdoc.CONSTRAINTS[v2_class, 'requirements']:\n",
    "    print t, v"
   ]
  },
  {
   "cell_type": "code",
   "execution_count": 26,
   "metadata": {
    "collapsed": false
   },
   "outputs": [
    {
     "name": "stdout",
     "output_type": "stream",
     "text": [
      "set(['regex', 'constant', 'cardinality', 'type'])\n"
     ]
    }
   ],
   "source": [
    "# Supported class constraint types.\n",
    "print pyesdoc.CONSTRAINT_TYPES"
   ]
  },
  {
   "cell_type": "code",
   "execution_count": 27,
   "metadata": {
    "collapsed": false
   },
   "outputs": [
    {
     "name": "stdout",
     "output_type": "stream",
     "text": [
      "requirements --> <class 'pyesdoc.ontologies.cim.v2.typeset_for_designing_package.NumericalRequirement'>\n",
      "description --> <type 'unicode'>\n",
      "keywords --> <type 'unicode'>\n",
      "responsible_parties --> <class 'pyesdoc.ontologies.cim.v2.typeset_for_shared_package.Responsibility'>\n",
      "long_name --> <type 'unicode'>\n",
      "canonical_name --> <type 'unicode'>\n",
      "meta --> <class 'pyesdoc.ontologies.cim.v2.typeset_for_shared_package.DocMetaInfo'>\n",
      "references --> <class 'pyesdoc.ontologies.cim.v2.typeset_for_shared_package.Reference'>\n",
      "rationale --> <type 'unicode'>\n",
      "related_experiments --> <class 'pyesdoc.ontologies.cim.v2.typeset_for_designing_package.NumericalExperiment'>\n",
      "duration --> <class 'pyesdoc.ontologies.cim.v2.typeset_for_shared_package.TimePeriod'>\n",
      "name --> <type 'unicode'>\n"
     ]
    }
   ],
   "source": [
    "# Class constraints (type).\n",
    "for p, t, v in [ct for ct in cim.CONSTRAINTS[v2_class] if ct[1] == pyesdoc.CONSTRAINT_TYPE_TYPEOF]:\n",
    "    print p, \"-->\", v"
   ]
  },
  {
   "cell_type": "code",
   "execution_count": 28,
   "metadata": {
    "collapsed": false
   },
   "outputs": [
    {
     "name": "stdout",
     "output_type": "stream",
     "text": [
      "requirements --> 0.N\n",
      "description --> 0.1\n",
      "keywords --> 0.N\n",
      "responsible_parties --> 0.N\n",
      "long_name --> 0.1\n",
      "canonical_name --> 0.1\n",
      "meta --> 1.1\n",
      "references --> 0.N\n",
      "rationale --> 1.1\n",
      "related_experiments --> 0.N\n",
      "duration --> 0.0\n",
      "name --> 1.1\n"
     ]
    }
   ],
   "source": [
    "# Class constraints (cardinality).\n",
    "for p, t, v in [ct for ct in cim.CONSTRAINTS[v2_class] if ct[1] == pyesdoc.CONSTRAINT_TYPE_CARDINALITY]:\n",
    "    print p, \"-->\", v"
   ]
  },
  {
   "cell_type": "code",
   "execution_count": 29,
   "metadata": {
    "collapsed": false
   },
   "outputs": [],
   "source": [
    "# Class constant constants.\n",
    "for p, t, v in [ct for ct in cim.CONSTRAINTS[v2_class] if ct[1] == pyesdoc.CONSTRAINT_TYPE_CONSTANT]:\n",
    "    print p, \"-->\", v"
   ]
  },
  {
   "cell_type": "code",
   "execution_count": 30,
   "metadata": {
    "collapsed": true
   },
   "outputs": [],
   "source": [
    "# Class regular-expression constants.\n",
    "for p, t, v in [ct for ct in cim.CONSTRAINTS[v2_class] if ct[1] == pyesdoc.CONSTRAINT_TYPE_REGEX]:\n",
    "    print p, \"-->\", v"
   ]
  },
  {
   "cell_type": "code",
   "execution_count": 31,
   "metadata": {
    "collapsed": false
   },
   "outputs": [
    {
     "data": {
      "text/plain": [
       "defaultdict(tuple,\n",
       "            {pyesdoc.ontologies.cim.v1.typeset_for_activity_package.SimulationRelationship: (pyesdoc.ontologies.cim.v1.typeset_for_shared_package.Relationship,),\n",
       "             pyesdoc.ontologies.cim.v1.typeset_for_activity_package.BoundaryCondition: (pyesdoc.ontologies.cim.v1.typeset_for_activity_package.NumericalRequirement,),\n",
       "             pyesdoc.ontologies.cim.v1.typeset_for_activity_package.Experiment: (pyesdoc.ontologies.cim.v1.typeset_for_activity_package.Activity,),\n",
       "             pyesdoc.ontologies.cim.v1.typeset_for_activity_package.InitialCondition: (pyesdoc.ontologies.cim.v1.typeset_for_activity_package.NumericalRequirement,),\n",
       "             pyesdoc.ontologies.cim.v1.typeset_for_activity_package.LateralBoundaryCondition: (pyesdoc.ontologies.cim.v1.typeset_for_activity_package.NumericalRequirement,),\n",
       "             pyesdoc.ontologies.cim.v1.typeset_for_activity_package.MeasurementCampaign: (pyesdoc.ontologies.cim.v1.typeset_for_activity_package.Activity,),\n",
       "             pyesdoc.ontologies.cim.v1.typeset_for_activity_package.NumericalActivity: (pyesdoc.ontologies.cim.v1.typeset_for_activity_package.Activity,),\n",
       "             pyesdoc.ontologies.cim.v1.typeset_for_activity_package.NumericalExperiment: (pyesdoc.ontologies.cim.v1.typeset_for_activity_package.Experiment,\n",
       "              pyesdoc.ontologies.cim.v1.typeset_for_activity_package.Activity),\n",
       "             pyesdoc.ontologies.cim.v1.typeset_for_activity_package.OutputRequirement: (pyesdoc.ontologies.cim.v1.typeset_for_activity_package.NumericalRequirement,),\n",
       "             pyesdoc.ontologies.cim.v1.typeset_for_activity_package.PhysicalModification: (pyesdoc.ontologies.cim.v1.typeset_for_activity_package.Conformance,),\n",
       "             pyesdoc.ontologies.cim.v1.typeset_for_activity_package.Simulation: (pyesdoc.ontologies.cim.v1.typeset_for_activity_package.NumericalActivity,\n",
       "              pyesdoc.ontologies.cim.v1.typeset_for_activity_package.Activity),\n",
       "             pyesdoc.ontologies.cim.v1.typeset_for_activity_package.SimulationComposite: (pyesdoc.ontologies.cim.v1.typeset_for_activity_package.Simulation,\n",
       "              pyesdoc.ontologies.cim.v1.typeset_for_activity_package.NumericalActivity,\n",
       "              pyesdoc.ontologies.cim.v1.typeset_for_activity_package.Activity),\n",
       "             pyesdoc.ontologies.cim.v1.typeset_for_activity_package.SimulationRun: (pyesdoc.ontologies.cim.v1.typeset_for_activity_package.Simulation,\n",
       "              pyesdoc.ontologies.cim.v1.typeset_for_activity_package.NumericalActivity,\n",
       "              pyesdoc.ontologies.cim.v1.typeset_for_activity_package.Activity),\n",
       "             pyesdoc.ontologies.cim.v1.typeset_for_activity_package.SpatioTemporalConstraint: (pyesdoc.ontologies.cim.v1.typeset_for_activity_package.NumericalRequirement,),\n",
       "             pyesdoc.ontologies.cim.v1.typeset_for_activity_package.DownscalingSimulation: (pyesdoc.ontologies.cim.v1.typeset_for_activity_package.NumericalActivity,\n",
       "              pyesdoc.ontologies.cim.v1.typeset_for_activity_package.Activity),\n",
       "             pyesdoc.ontologies.cim.v1.typeset_for_activity_package.Ensemble: (pyesdoc.ontologies.cim.v1.typeset_for_activity_package.NumericalActivity,\n",
       "              pyesdoc.ontologies.cim.v1.typeset_for_activity_package.Activity),\n",
       "             pyesdoc.ontologies.cim.v1.typeset_for_activity_package.EnsembleMember: (pyesdoc.ontologies.cim.v1.typeset_for_activity_package.NumericalActivity,\n",
       "              pyesdoc.ontologies.cim.v1.typeset_for_activity_package.Activity),\n",
       "             pyesdoc.ontologies.cim.v2.typeset_for_activity_package.Conformance: (pyesdoc.ontologies.cim.v2.typeset_for_activity_package.Activity,),\n",
       "             pyesdoc.ontologies.cim.v2.typeset_for_activity_package.Ensemble: (pyesdoc.ontologies.cim.v2.typeset_for_activity_package.Activity,),\n",
       "             pyesdoc.ontologies.cim.v2.typeset_for_activity_package.UberEnsemble: (pyesdoc.ontologies.cim.v2.typeset_for_activity_package.Ensemble,\n",
       "              pyesdoc.ontologies.cim.v2.typeset_for_activity_package.Activity),\n",
       "             pyesdoc.ontologies.cim.v2.typeset_for_designing_package.NumericalExperiment: (pyesdoc.ontologies.cim.v2.typeset_for_activity_package.Activity,),\n",
       "             pyesdoc.ontologies.cim.v2.typeset_for_designing_package.NumericalRequirement: (pyesdoc.ontologies.cim.v2.typeset_for_activity_package.Activity,),\n",
       "             pyesdoc.ontologies.cim.v2.typeset_for_designing_package.Project: (pyesdoc.ontologies.cim.v2.typeset_for_activity_package.Activity,),\n",
       "             pyesdoc.ontologies.cim.v2.typeset_for_designing_package.SimulationPlan: (pyesdoc.ontologies.cim.v2.typeset_for_activity_package.Activity,),\n",
       "             pyesdoc.ontologies.cim.v2.typeset_for_designing_package.DomainProperties: (pyesdoc.ontologies.cim.v2.typeset_for_designing_package.NumericalRequirement,\n",
       "              pyesdoc.ontologies.cim.v2.typeset_for_activity_package.Activity),\n",
       "             pyesdoc.ontologies.cim.v2.typeset_for_designing_package.EnsembleRequirement: (pyesdoc.ontologies.cim.v2.typeset_for_designing_package.NumericalRequirement,\n",
       "              pyesdoc.ontologies.cim.v2.typeset_for_activity_package.Activity),\n",
       "             pyesdoc.ontologies.cim.v2.typeset_for_designing_package.ForcingConstraint: (pyesdoc.ontologies.cim.v2.typeset_for_designing_package.NumericalRequirement,\n",
       "              pyesdoc.ontologies.cim.v2.typeset_for_activity_package.Activity),\n",
       "             pyesdoc.ontologies.cim.v2.typeset_for_designing_package.MultiEnsemble: (pyesdoc.ontologies.cim.v2.typeset_for_designing_package.NumericalRequirement,\n",
       "              pyesdoc.ontologies.cim.v2.typeset_for_activity_package.Activity),\n",
       "             pyesdoc.ontologies.cim.v2.typeset_for_designing_package.MultiTimeEnsemble: (pyesdoc.ontologies.cim.v2.typeset_for_designing_package.NumericalRequirement,\n",
       "              pyesdoc.ontologies.cim.v2.typeset_for_activity_package.Activity),\n",
       "             pyesdoc.ontologies.cim.v2.typeset_for_designing_package.OutputTemporalRequirement: (pyesdoc.ontologies.cim.v2.typeset_for_designing_package.NumericalRequirement,\n",
       "              pyesdoc.ontologies.cim.v2.typeset_for_activity_package.Activity),\n",
       "             pyesdoc.ontologies.cim.v2.typeset_for_designing_package.TemporalConstraint: (pyesdoc.ontologies.cim.v2.typeset_for_designing_package.NumericalRequirement,\n",
       "              pyesdoc.ontologies.cim.v2.typeset_for_activity_package.Activity),\n",
       "             pyesdoc.ontologies.cim.v2.typeset_for_data_package.Simulation: (pyesdoc.ontologies.cim.v2.typeset_for_activity_package.Activity,),\n",
       "             pyesdoc.ontologies.cim.v2.typeset_for_data_package.Downscaling: (pyesdoc.ontologies.cim.v2.typeset_for_data_package.Simulation,\n",
       "              pyesdoc.ontologies.cim.v2.typeset_for_activity_package.Activity),\n",
       "             pyesdoc.ontologies.cim.v2.typeset_for_drs_package.DrsAtomicDataset: (pyesdoc.ontologies.cim.v2.typeset_for_drs_package.DrsPublicationDataset,),\n",
       "             pyesdoc.ontologies.cim.v2.typeset_for_software_package.SoftwareComponent: (pyesdoc.ontologies.cim.v2.typeset_for_software_package.ComponentBase,),\n",
       "             pyesdoc.ontologies.cim.v2.typeset_for_science_package.Model: (pyesdoc.ontologies.cim.v2.typeset_for_software_package.ComponentBase,),\n",
       "             pyesdoc.ontologies.cim.v2.typeset_for_science_package.Algorithm: (pyesdoc.ontologies.cim.v2.typeset_for_science_package.ScienceContext,),\n",
       "             pyesdoc.ontologies.cim.v2.typeset_for_science_package.Detail: (pyesdoc.ontologies.cim.v2.typeset_for_science_package.ScienceContext,),\n",
       "             pyesdoc.ontologies.cim.v2.typeset_for_science_package.Process: (pyesdoc.ontologies.cim.v2.typeset_for_science_package.ScienceContext,),\n",
       "             pyesdoc.ontologies.cim.v2.typeset_for_science_package.SubProcess: (pyesdoc.ontologies.cim.v2.typeset_for_science_package.ScienceContext,),\n",
       "             pyesdoc.ontologies.cim.v1.typeset_for_data_package.DataContent: (pyesdoc.ontologies.cim.v1.typeset_for_shared_package.DataSource,),\n",
       "             pyesdoc.ontologies.cim.v1.typeset_for_shared_package.ChangeProperty: (pyesdoc.ontologies.cim.v1.typeset_for_shared_package.Property,),\n",
       "             pyesdoc.ontologies.cim.v1.typeset_for_shared_package.ClosedDateRange: (pyesdoc.ontologies.cim.v1.typeset_for_shared_package.DateRange,),\n",
       "             pyesdoc.ontologies.cim.v1.typeset_for_shared_package.Daily360: (pyesdoc.ontologies.cim.v1.typeset_for_shared_package.Calendar,),\n",
       "             pyesdoc.ontologies.cim.v1.typeset_for_shared_package.DocRelationship: (pyesdoc.ontologies.cim.v1.typeset_for_shared_package.Relationship,),\n",
       "             pyesdoc.ontologies.cim.v1.typeset_for_shared_package.OpenDateRange: (pyesdoc.ontologies.cim.v1.typeset_for_shared_package.DateRange,),\n",
       "             pyesdoc.ontologies.cim.v1.typeset_for_shared_package.PerpetualPeriod: (pyesdoc.ontologies.cim.v1.typeset_for_shared_package.Calendar,),\n",
       "             pyesdoc.ontologies.cim.v1.typeset_for_shared_package.RealCalendar: (pyesdoc.ontologies.cim.v1.typeset_for_shared_package.Calendar,),\n",
       "             pyesdoc.ontologies.cim.v1.typeset_for_data_package.DataObject: (pyesdoc.ontologies.cim.v1.typeset_for_shared_package.DataSource,),\n",
       "             pyesdoc.ontologies.cim.v1.typeset_for_data_package.DataProperty: (pyesdoc.ontologies.cim.v1.typeset_for_shared_package.Property,),\n",
       "             pyesdoc.ontologies.cim.v1.typeset_for_data_package.DataStorageDb: (pyesdoc.ontologies.cim.v1.typeset_for_data_package.DataStorage,),\n",
       "             pyesdoc.ontologies.cim.v1.typeset_for_data_package.DataStorageFile: (pyesdoc.ontologies.cim.v1.typeset_for_data_package.DataStorage,),\n",
       "             pyesdoc.ontologies.cim.v1.typeset_for_data_package.DataStorageIp: (pyesdoc.ontologies.cim.v1.typeset_for_data_package.DataStorage,),\n",
       "             pyesdoc.ontologies.cim.v1.typeset_for_software_package.Component: (pyesdoc.ontologies.cim.v1.typeset_for_shared_package.DataSource,),\n",
       "             pyesdoc.ontologies.cim.v1.typeset_for_software_package.ComponentLanguageProperty: (pyesdoc.ontologies.cim.v1.typeset_for_shared_package.Property,),\n",
       "             pyesdoc.ontologies.cim.v1.typeset_for_software_package.ComponentProperty: (pyesdoc.ontologies.cim.v1.typeset_for_shared_package.DataSource,),\n",
       "             pyesdoc.ontologies.cim.v1.typeset_for_software_package.ConnectionProperty: (pyesdoc.ontologies.cim.v1.typeset_for_shared_package.Property,),\n",
       "             pyesdoc.ontologies.cim.v1.typeset_for_software_package.CouplingProperty: (pyesdoc.ontologies.cim.v1.typeset_for_shared_package.Property,),\n",
       "             pyesdoc.ontologies.cim.v1.typeset_for_software_package.SpatialRegriddingProperty: (pyesdoc.ontologies.cim.v1.typeset_for_shared_package.Property,),\n",
       "             pyesdoc.ontologies.cim.v1.typeset_for_software_package.ModelComponent: (pyesdoc.ontologies.cim.v1.typeset_for_software_package.Component,\n",
       "              pyesdoc.ontologies.cim.v1.typeset_for_shared_package.DataSource),\n",
       "             pyesdoc.ontologies.cim.v1.typeset_for_software_package.ProcessorComponent: (pyesdoc.ontologies.cim.v1.typeset_for_software_package.Component,\n",
       "              pyesdoc.ontologies.cim.v1.typeset_for_shared_package.DataSource),\n",
       "             pyesdoc.ontologies.cim.v1.typeset_for_software_package.StatisticalModelComponent: (pyesdoc.ontologies.cim.v1.typeset_for_software_package.Component,\n",
       "              pyesdoc.ontologies.cim.v1.typeset_for_shared_package.DataSource),\n",
       "             pyesdoc.ontologies.cim.v1.typeset_for_grids_package.GridProperty: (pyesdoc.ontologies.cim.v1.typeset_for_shared_package.Property,),\n",
       "             pyesdoc.ontologies.cim.v1.typeset_for_grids_package.VerticalCoordinateList: (pyesdoc.ontologies.cim.v1.typeset_for_grids_package.CoordinateList,),\n",
       "             pyesdoc.ontologies.cim.v1.typeset_for_activity_package.ExperimentRelationship: (pyesdoc.ontologies.cim.v1.typeset_for_shared_package.Relationship,),\n",
       "             pyesdoc.ontologies.cim.v2.typeset_for_shared_package.DocReference: (pyesdoc.ontologies.cim.v2.typeset_for_shared_package.OnlineResource,),\n",
       "             pyesdoc.ontologies.cim.v2.typeset_for_shared_package.IrregularDateset: (pyesdoc.ontologies.cim.v2.typeset_for_shared_package.DatetimeSet,),\n",
       "             pyesdoc.ontologies.cim.v2.typeset_for_shared_package.RegularTimeset: (pyesdoc.ontologies.cim.v2.typeset_for_shared_package.DatetimeSet,),\n",
       "             pyesdoc.ontologies.cim.v2.typeset_for_platform_package.Machine: (pyesdoc.ontologies.cim.v2.typeset_for_platform_package.Partition,)})"
      ]
     },
     "execution_count": 31,
     "metadata": {},
     "output_type": "execute_result"
    }
   ],
   "source": [
    "pyesdoc.BASE_CLASSES"
   ]
  },
  {
   "cell_type": "markdown",
   "metadata": {},
   "source": [
    "## Explore an enum"
   ]
  },
  {
   "cell_type": "code",
   "execution_count": 32,
   "metadata": {
    "collapsed": true
   },
   "outputs": [],
   "source": [
    "# Set example enum.\n",
    "v2_enum = cim.v2.EnsembleTypes"
   ]
  },
  {
   "cell_type": "code",
   "execution_count": 33,
   "metadata": {
    "collapsed": false
   },
   "outputs": [
    {
     "name": "stdout",
     "output_type": "stream",
     "text": [
      "False\n"
     ]
    }
   ],
   "source": [
    "# Is enum open or closed ?\n",
    "print v2_enum.is_open"
   ]
  },
  {
   "cell_type": "code",
   "execution_count": 34,
   "metadata": {
    "collapsed": false
   },
   "outputs": [
    {
     "name": "stdout",
     "output_type": "stream",
     "text": [
      "Forced\n",
      "Initialisation Method\n",
      "Initialisation\n",
      "Perturbed Physics\n",
      "Resolution\n",
      "Staggered Start\n"
     ]
    }
   ],
   "source": [
    "# What are the enum's declared members ?\n",
    "for member in v2_enum.members:\n",
    "    print member"
   ]
  },
  {
   "cell_type": "code",
   "execution_count": 35,
   "metadata": {
    "collapsed": false
   },
   "outputs": [
    {
     "name": "stdout",
     "output_type": "stream",
     "text": [
      "\n",
      "\t\tDefines the various axes along which one can set up an ensemble.\n",
      "\n",
      "\t\n"
     ]
    }
   ],
   "source": [
    "# Enum help.\n",
    "print pyesdoc.HELP[v2_enum]"
   ]
  },
  {
   "cell_type": "code",
   "execution_count": 36,
   "metadata": {
    "collapsed": false
   },
   "outputs": [
    {
     "name": "stdout",
     "output_type": "stream",
     "text": [
      "Members used differing forcing data\n"
     ]
    }
   ],
   "source": [
    "# Enum member help.\n",
    "print pyesdoc.HELP[v2_enum, 'Forced']"
   ]
  }
 ],
 "metadata": {
  "kernelspec": {
   "display_name": "Python 2",
   "language": "python",
   "name": "python2"
  },
  "language_info": {
   "codemirror_mode": {
    "name": "ipython",
    "version": 2
   },
   "file_extension": ".py",
   "mimetype": "text/x-python",
   "name": "python",
   "nbconvert_exporter": "python",
   "pygments_lexer": "ipython2",
   "version": "2.7.10"
  }
 },
 "nbformat": 4,
 "nbformat_minor": 0
}
