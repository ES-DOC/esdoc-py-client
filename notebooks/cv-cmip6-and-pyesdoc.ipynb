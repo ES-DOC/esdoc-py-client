{
 "cells": [
  {
   "cell_type": "markdown",
   "metadata": {},
   "source": [
    "## CMIP6 controlled vocabularies & pyesdoc "
   ]
  },
  {
   "cell_type": "markdown",
   "metadata": {},
   "source": [
    "1. pyesdoc has a pragmatic, simple to use CV management feature\n",
    "2. pyesdoc inbuilt CV archive has been [seeded](https://github.com/ES-DOC/esdoc-shell/blob/master/bash/cmip6/write_cv.py) with CV's pulled from [WCRP-CMIP CMIP6 CVs](https://github.com/WCRP-CMIP/CMIP6_CVs)\n",
    "3. pyesdoc CV data model:  \n",
    "   3.1  Authority (e.g. WCRP)  \n",
    "   3.2  Scope (e.g. CMIP6)  \n",
    "   3.3  Collection (e.g. institution-id)  \n",
    "   3.4  Term (e.g. noaa-gfdl)  "
   ]
  },
  {
   "cell_type": "markdown",
   "metadata": {},
   "source": [
    "### Imports"
   ]
  },
  {
   "cell_type": "code",
   "execution_count": 1,
   "metadata": {
    "collapsed": true
   },
   "outputs": [],
   "source": [
    "import pyesdoc\n",
    "\n",
    "from pyesdoc.cv.model import Authority\n",
    "from pyesdoc.cv.model import Scope\n",
    "from pyesdoc.cv.model import Collection\n",
    "from pyesdoc.cv.model import Term\n",
    "\n",
    "from pyesdoc.cv.archive import load_authority\n",
    "from pyesdoc.cv.archive import load_scope\n",
    "from pyesdoc.cv.archive import load_collection\n",
    "from pyesdoc.cv.archive import load_term"
   ]
  },
  {
   "cell_type": "markdown",
   "metadata": {},
   "source": [
    "### Loading from archive"
   ]
  },
  {
   "cell_type": "code",
   "execution_count": 2,
   "metadata": {
    "collapsed": false
   },
   "outputs": [],
   "source": [
    "# Load the WCRP authority (once loaded it is cached).\n",
    "wcrp = load_authority('wcrp')\n",
    "assert isinstance(wcrp, Authority)"
   ]
  },
  {
   "cell_type": "code",
   "execution_count": 3,
   "metadata": {
    "collapsed": false
   },
   "outputs": [],
   "source": [
    "# Load the WCRP-CMIP6 scope.\n",
    "cmip6 = load_scope('wcrp', 'cmip6')\n",
    "assert isinstance(cmip6, Scope)"
   ]
  },
  {
   "cell_type": "code",
   "execution_count": 4,
   "metadata": {
    "collapsed": true
   },
   "outputs": [],
   "source": [
    "# Load the WCRP-CMIP6 institutional collection.\n",
    "institutions = load_collection('wcrp', 'cmip6', 'institution-id')\n",
    "assert isinstance(institutions, Collection)"
   ]
  },
  {
   "cell_type": "code",
   "execution_count": 5,
   "metadata": {
    "collapsed": false
   },
   "outputs": [],
   "source": [
    "# Load the WCRP-CMIP6 IPSL institution.\n",
    "gfdl = load_term('wcrp', 'cmip6', 'institution-id', 'noaa-gfdl')\n",
    "assert isinstance(gfdl, Term)"
   ]
  },
  {
   "cell_type": "markdown",
   "metadata": {},
   "source": [
    "### Iterating"
   ]
  },
  {
   "cell_type": "code",
   "execution_count": 6,
   "metadata": {
    "collapsed": true
   },
   "outputs": [],
   "source": [
    "# Iterate all scopes managed by an authority.\n",
    "for scope in wcrp:\n",
    "    assert isinstance(scope, Scope)"
   ]
  },
  {
   "cell_type": "code",
   "execution_count": 7,
   "metadata": {
    "collapsed": false
   },
   "outputs": [],
   "source": [
    "# Iterate all collections within a scope.\n",
    "for collection in cmip6:\n",
    "    assert isinstance(collection, Collection)"
   ]
  },
  {
   "cell_type": "code",
   "execution_count": 8,
   "metadata": {
    "collapsed": true
   },
   "outputs": [],
   "source": [
    "# Iterate all terms within a collection.\n",
    "for term in institutions:\n",
    "    assert isinstance(term, Term)"
   ]
  },
  {
   "cell_type": "markdown",
   "metadata": {},
   "source": [
    "### Key based access"
   ]
  },
  {
   "cell_type": "code",
   "execution_count": 9,
   "metadata": {
    "collapsed": true
   },
   "outputs": [],
   "source": [
    "# Set pointer to a scope within an authority.\n",
    "assert wcrp['cmip6'] == cmip6"
   ]
  },
  {
   "cell_type": "code",
   "execution_count": 10,
   "metadata": {
    "collapsed": false
   },
   "outputs": [],
   "source": [
    "# Set pointer to a collection within a scope.\n",
    "assert cmip6['institution-id'] == institutions"
   ]
  },
  {
   "cell_type": "code",
   "execution_count": 11,
   "metadata": {
    "collapsed": true
   },
   "outputs": [],
   "source": [
    "# Set pointer to a term within a collection.\n",
    "assert institutions['noaa-gfdl'] == gfdl"
   ]
  },
  {
   "cell_type": "markdown",
   "metadata": {},
   "source": [
    "### CV Model properties"
   ]
  },
  {
   "cell_type": "markdown",
   "metadata": {},
   "source": [
    "#### Authority properties"
   ]
  },
  {
   "cell_type": "code",
   "execution_count": 12,
   "metadata": {
    "collapsed": false
   },
   "outputs": [
    {
     "name": "stdout",
     "output_type": "stream",
     "text": [
      "wcrp\n",
      "WCRP\n",
      "World Climate Research Program\n",
      "https://www.wcrp-climate.org/wgcm-overview\n",
      "wcrp\n"
     ]
    }
   ],
   "source": [
    "# Canonical name (always lower cased).\n",
    "print wcrp.name\n",
    "\n",
    "# Label for UI purposes.\n",
    "print wcrp.label\n",
    "\n",
    "# Description.\n",
    "print wcrp.description\n",
    "\n",
    "# Homepage / URL.\n",
    "print wcrp.url\n",
    "\n",
    "# Namespace.\n",
    "print wcrp.namespace"
   ]
  },
  {
   "cell_type": "markdown",
   "metadata": {},
   "source": [
    "#### Scope properties"
   ]
  },
  {
   "cell_type": "code",
   "execution_count": 13,
   "metadata": {
    "collapsed": false
   },
   "outputs": [
    {
     "name": "stdout",
     "output_type": "stream",
     "text": [
      "cmip6\n",
      "CMIP6\n",
      "Controlled Vocabularies (CVs) for use in CMIP6\n",
      "https://github.com/WCRP-CMIP/CMIP6_CVs\n",
      "wcrp:cmip6\n"
     ]
    }
   ],
   "source": [
    "# Canonical name (always lower cased).\n",
    "print cmip6.name\n",
    "\n",
    "# Label for UI purposes.\n",
    "print cmip6.label\n",
    "\n",
    "# Description.\n",
    "print cmip6.description\n",
    "\n",
    "# Homepage / URL.\n",
    "print cmip6.url\n",
    "\n",
    "# Namespace.\n",
    "print cmip6.namespace"
   ]
  },
  {
   "cell_type": "markdown",
   "metadata": {},
   "source": [
    "#### Collection properties"
   ]
  },
  {
   "cell_type": "code",
   "execution_count": 14,
   "metadata": {
    "collapsed": false
   },
   "outputs": [
    {
     "name": "stdout",
     "output_type": "stream",
     "text": [
      "institution-id\n",
      "institution-id\n",
      "WCRP CMIP6 CV collection:\n",
      "None\n",
      "wcrp:cmip6:institution-id\n"
     ]
    }
   ],
   "source": [
    "# Canonical name (always lower cased).\n",
    "print institutions.name\n",
    "\n",
    "# Label for UI purposes.\n",
    "print institutions.label\n",
    "\n",
    "# Description.\n",
    "print institutions.description\n",
    "\n",
    "# Homepage / URL.\n",
    "print institutions.url\n",
    "\n",
    "# Namespace.\n",
    "print institutions.namespace"
   ]
  },
  {
   "cell_type": "markdown",
   "metadata": {},
   "source": [
    "#### Term properties"
   ]
  },
  {
   "cell_type": "code",
   "execution_count": 15,
   "metadata": {
    "collapsed": false
   },
   "outputs": [
    {
     "name": "stdout",
     "output_type": "stream",
     "text": [
      "noaa-gfdl\n",
      "NOAA-GFDL\n",
      "2016-12-12 21:57:04.783969+00:00\n",
      "d89db814-2457-41a5-80b3-d3b1126bcf2b\n",
      "22\n",
      "pending\n",
      "wcrp:cmip6:institution-id:noaa-gfdl\n"
     ]
    }
   ],
   "source": [
    "# Canonical name (always lower cased).\n",
    "print gfdl.name\n",
    "\n",
    "# Label for UI purposes.\n",
    "print gfdl.label\n",
    "\n",
    "# Creation date\n",
    "print gfdl.create_date\n",
    "\n",
    "# Universally unique identifier (assigned at point of creation).\n",
    "print gfdl.uid\n",
    "\n",
    "# Collection position identifier.\n",
    "print gfdl.idx\n",
    "\n",
    "# Governance status.\n",
    "print gfdl.status\n",
    "\n",
    "# Namespace (authority:scope:collection:term).\n",
    "print gfdl.namespace"
   ]
  },
  {
   "cell_type": "markdown",
   "metadata": {},
   "source": [
    "### Discovery"
   ]
  },
  {
   "cell_type": "code",
   "execution_count": 16,
   "metadata": {
    "collapsed": false
   },
   "outputs": [
    {
     "name": "stdout",
     "output_type": "stream",
     "text": [
      "wcrp:cmip6\n"
     ]
    }
   ],
   "source": [
    "# Scopes within an authority are sorted.\n",
    "for scope in wcrp:\n",
    "    print scope"
   ]
  },
  {
   "cell_type": "code",
   "execution_count": 17,
   "metadata": {
    "collapsed": false
   },
   "outputs": [
    {
     "name": "stdout",
     "output_type": "stream",
     "text": [
      "wcrp:cmip6:activity-id\n",
      "wcrp:cmip6:experiment-id\n",
      "wcrp:cmip6:institution-id\n",
      "wcrp:cmip6:realm\n",
      "wcrp:cmip6:source-id\n",
      "wcrp:cmip6:source-type\n"
     ]
    }
   ],
   "source": [
    "# Collections within a scope are sorted.\n",
    "for collection in cmip6:\n",
    "    print collection"
   ]
  },
  {
   "cell_type": "code",
   "execution_count": 18,
   "metadata": {
    "collapsed": false
   },
   "outputs": [
    {
     "name": "stdout",
     "output_type": "stream",
     "text": [
      "wcrp:cmip6:institution-id:bnu -> [pending]\n",
      "wcrp:cmip6:institution-id:cccma -> [pending]\n",
      "wcrp:cmip6:institution-id:cccr-iitm -> [pending]\n",
      "wcrp:cmip6:institution-id:cmcc -> [pending]\n",
      "wcrp:cmip6:institution-id:cnrm-cerfacs -> [pending]\n",
      "wcrp:cmip6:institution-id:cola-cfs -> [pending]\n",
      "wcrp:cmip6:institution-id:csir-csiro -> [pending]\n",
      "wcrp:cmip6:institution-id:csiro-bom -> [pending]\n",
      "wcrp:cmip6:institution-id:ec-earth-consortium -> [pending]\n",
      "wcrp:cmip6:institution-id:fio -> [pending]\n",
      "wcrp:cmip6:institution-id:inm -> [pending]\n",
      "wcrp:cmip6:institution-id:ipsl -> [pending]\n",
      "wcrp:cmip6:institution-id:lasg-iap -> [pending]\n",
      "wcrp:cmip6:institution-id:messy-consortium -> [pending]\n",
      "wcrp:cmip6:institution-id:miroc -> [pending]\n",
      "wcrp:cmip6:institution-id:mohc -> [pending]\n",
      "wcrp:cmip6:institution-id:mpi-m -> [pending]\n",
      "wcrp:cmip6:institution-id:mri -> [pending]\n",
      "wcrp:cmip6:institution-id:nasa-giss -> [pending]\n",
      "wcrp:cmip6:institution-id:ncar -> [pending]\n",
      "wcrp:cmip6:institution-id:ncc -> [pending]\n",
      "wcrp:cmip6:institution-id:nims-kma -> [pending]\n",
      "wcrp:cmip6:institution-id:noaa-gfdl -> [pending]\n",
      "wcrp:cmip6:institution-id:noaa-ncep -> [pending]\n",
      "wcrp:cmip6:institution-id:nuist -> [pending]\n",
      "wcrp:cmip6:institution-id:pcmdi -> [pending]\n"
     ]
    }
   ],
   "source": [
    "# Terms within a collection are sorted.\n",
    "for term in institutions:\n",
    "    print term"
   ]
  },
  {
   "cell_type": "markdown",
   "metadata": {},
   "source": [
    "### Encoding"
   ]
  },
  {
   "cell_type": "code",
   "execution_count": 19,
   "metadata": {
    "collapsed": false
   },
   "outputs": [],
   "source": [
    "# Encode authority as a python dictionary.\n",
    "assert isinstance(pyesdoc.cv.to_dict(wcrp), dict)\n",
    "\n",
    "# Encode scope as a python dictionary.\n",
    "assert isinstance(pyesdoc.cv.to_dict(cmip6), dict)\n",
    "\n",
    "# Encode collection as a python dictionary.\n",
    "assert isinstance(pyesdoc.cv.to_dict(institutions), dict)\n",
    "\n",
    "# Encode term as a python dictionary.\n",
    "assert isinstance(pyesdoc.cv.to_dict(gfdl), dict)"
   ]
  },
  {
   "cell_type": "code",
   "execution_count": 20,
   "metadata": {
    "collapsed": false
   },
   "outputs": [],
   "source": [
    "# Encode authority as a JSON text blob.\n",
    "assert isinstance(pyesdoc.cv.to_json(wcrp), basestring)\n",
    "\n",
    "# Encode scope as a JSON text blob.\n",
    "assert isinstance(pyesdoc.cv.to_json(cmip6), basestring)\n",
    "\n",
    "# Encode collection as a JSON text blob.\n",
    "assert isinstance(pyesdoc.cv.to_json(institutions), basestring)\n",
    "\n",
    "# Encode term as a JSON text blob.\n",
    "assert isinstance(pyesdoc.cv.to_json(gfdl), basestring)"
   ]
  }
 ],
 "metadata": {
  "kernelspec": {
   "display_name": "Python 2",
   "language": "python",
   "name": "python2"
  },
  "language_info": {
   "codemirror_mode": {
    "name": "ipython",
    "version": 2
   },
   "file_extension": ".py",
   "mimetype": "text/x-python",
   "name": "python",
   "nbconvert_exporter": "python",
   "pygments_lexer": "ipython2",
   "version": "2.7.10"
  }
 },
 "nbformat": 4,
 "nbformat_minor": 1
}
