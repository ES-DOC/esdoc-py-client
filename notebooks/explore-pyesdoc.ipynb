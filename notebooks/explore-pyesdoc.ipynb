{
 "cells": [
  {
   "cell_type": "markdown",
   "metadata": {},
   "source": [
    "# Exploring pyesdoc features"
   ]
  },
  {
   "cell_type": "markdown",
   "metadata": {},
   "source": [
    "## Setup"
   ]
  },
  {
   "cell_type": "code",
   "execution_count": 1,
   "metadata": {
    "collapsed": false
   },
   "outputs": [],
   "source": [
    "import inspect\n",
    "\n",
    "import pyesdoc"
   ]
  },
  {
   "cell_type": "markdown",
   "metadata": {},
   "source": [
    "## List set of pyesdoc functions"
   ]
  },
  {
   "cell_type": "code",
   "execution_count": 2,
   "metadata": {
    "collapsed": false
   },
   "outputs": [
    {
     "name": "stdout",
     "output_type": "stream",
     "text": [
      "convert\n",
      "\tConverts a document\n",
      "\n",
      "convert_file\n",
      "\tConverts a document upon file system\n",
      "\n",
      "create\n",
      "\tCreates a document\n",
      "\n",
      "decode\n",
      "\tDecodes a document from a text blob\n",
      "\n",
      "encode\n",
      "\tEncodes a document\n",
      "\n",
      "extend\n",
      "\tInvokes a document extender\n",
      "\n",
      "get_filename\n",
      "\tReturns document file name\n",
      "\n",
      "is_extendable\n",
      "\tReturns flag indicating whether a document is extensible or not\n",
      "\n",
      "is_valid\n",
      "\tReturns validation status of a document\n",
      "\n",
      "list_constants\n",
      "\tLists pyesdoc constants\n",
      "\n",
      "list_functions\n",
      "\tLists pyesdoc functions\n",
      "\n",
      "publish\n",
      "\tPublishes a document to web service\n",
      "\n",
      "read\n",
      "\tReads a document from file system\n",
      "\n",
      "retrieve\n",
      "\tRetrieves a document from web service\n",
      "\n",
      "unpublish\n",
      "\tUnpublishes a document from web service\n",
      "\n",
      "validate\n",
      "\tValidates a document\n",
      "\n",
      "write\n",
      "\tWrites a document to the file system\n",
      "\n"
     ]
    }
   ],
   "source": [
    "pyesdoc.list_functions()"
   ]
  },
  {
   "cell_type": "markdown",
   "metadata": {},
   "source": [
    "## List set of pyesdoc constants"
   ]
  },
  {
   "cell_type": "code",
   "execution_count": 3,
   "metadata": {
    "collapsed": false
   },
   "outputs": [
    {
     "name": "stdout",
     "output_type": "stream",
     "text": [
      "CARDINALITY_TYPES\n",
      "\tset(['0.1', '0.0', '1.N', '1.1', '0.N'])\n",
      "\n",
      "CARDINALITY_TYPE_0_0\n",
      "\t0.0\n",
      "\n",
      "CARDINALITY_TYPE_0_1\n",
      "\t0.1\n",
      "\n",
      "CARDINALITY_TYPE_0_N\n",
      "\t0.N\n",
      "\n",
      "CARDINALITY_TYPE_1_1\n",
      "\t1.1\n",
      "\n",
      "CARDINALITY_TYPE_1_N\n",
      "\t1.N\n",
      "\n",
      "CONSTRAINT_TYPES\n",
      "\tset(['regex', 'constant', 'cardinality', 'type'])\n",
      "\n",
      "CONSTRAINT_TYPE_CARDINALITY\n",
      "\tcardinality\n",
      "\n",
      "CONSTRAINT_TYPE_CONSTANT\n",
      "\tconstant\n",
      "\n",
      "CONSTRAINT_TYPE_REGEX\n",
      "\tregex\n",
      "\n",
      "CONSTRAINT_TYPE_TYPEOF\n",
      "\ttype\n",
      "\n",
      "DEFAULT_ENCODING\n",
      "\tjson\n",
      "\n",
      "DEFAULT_INSTITUTE\n",
      "\t--\n",
      "\n",
      "DEFAULT_LANGUAGE\n",
      "\ten\n",
      "\n",
      "DEFAULT_PROJECT\n",
      "\t--\n",
      "\n",
      "DEFAULT_SOURCE\n",
      "\tscripts\n",
      "\n",
      "DOC_VERSION_ALL\n",
      "\tall\n",
      "\n",
      "DOC_VERSION_LATEST\n",
      "\tlatest\n",
      "\n",
      "ENCODINGS\n",
      "\t('dict', 'html', 'json', 'pdf', 'xml')\n",
      "\n",
      "ENCODINGS_ALL\n",
      "\t('dict', 'html', 'json', 'pdf', 'xml', 'xml-metafor-cim-v1')\n",
      "\n",
      "ENCODINGS_CUSTOM\n",
      "\t('xml-metafor-cim-v1',)\n",
      "\n",
      "ENCODINGS_FILE\n",
      "\t('json', 'xml', 'html')\n",
      "\n",
      "ENCODINGS_FILE_CUSTOM\n",
      "\t('xml-metafor-cim-v1',)\n",
      "\n",
      "ENCODING_DICT\n",
      "\tdict\n",
      "\n",
      "ENCODING_HTML\n",
      "\thtml\n",
      "\n",
      "ENCODING_HTTP_MEDIA_TYPES\n",
      "\t{'xml': 'application/xml', 'pdf': 'application/pdf', 'json': 'application/json', 'html': 'text/html'}\n",
      "\n",
      "ENCODING_JSON\n",
      "\tjson\n",
      "\n",
      "ENCODING_PDF\n",
      "\tpdf\n",
      "\n",
      "ENCODING_XML\n",
      "\txml\n",
      "\n",
      "METAFOR_CIM_XML_ENCODING\n",
      "\txml-metafor-cim-v1\n",
      "\n",
      "VIEWER_URL\n",
      "\tindex.html?renderMethod=id&project={0}&id={1}&version={2}\n",
      "\n"
     ]
    }
   ],
   "source": [
    "pyesdoc.list_constants()"
   ]
  },
  {
   "cell_type": "code",
   "execution_count": null,
   "metadata": {
    "collapsed": true
   },
   "outputs": [],
   "source": []
  }
 ],
 "metadata": {
  "kernelspec": {
   "display_name": "Python 2",
   "language": "python",
   "name": "python2"
  },
  "language_info": {
   "codemirror_mode": {
    "name": "ipython",
    "version": 2
   },
   "file_extension": ".py",
   "mimetype": "text/x-python",
   "name": "python",
   "nbconvert_exporter": "python",
   "pygments_lexer": "ipython2",
   "version": "2.7.10"
  }
 },
 "nbformat": 4,
 "nbformat_minor": 0
}
