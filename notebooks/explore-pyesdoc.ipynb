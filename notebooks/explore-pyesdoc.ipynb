{
 "cells": [
  {
   "cell_type": "markdown",
   "metadata": {},
   "source": [
    "# Exploring pyesdoc features"
   ]
  },
  {
   "cell_type": "markdown",
   "metadata": {},
   "source": [
    "## Setup"
   ]
  },
  {
   "cell_type": "code",
   "execution_count": 3,
   "metadata": {
    "collapsed": false
   },
   "outputs": [],
   "source": [
    "import inspect\n",
    "\n",
    "import pyesdoc\n",
    "import pyesdoc.ontologies.cim as cim"
   ]
  },
  {
   "cell_type": "code",
   "execution_count": 15,
   "metadata": {
    "collapsed": false
   },
   "outputs": [
    {
     "name": "stdout",
     "output_type": "stream",
     "text": [
      "BASE_CLASSED\n",
      "BASE_CLASSES\n",
      "CARDINALITY_TYPES\n",
      "CARDINALITY_TYPE_0_0\n",
      "CARDINALITY_TYPE_0_1\n",
      "CARDINALITY_TYPE_0_N\n",
      "CARDINALITY_TYPE_1_1\n",
      "CARDINALITY_TYPE_1_N\n",
      "CLASSES\n",
      "CLASS_OWN_PROPERTIES\n",
      "CLASS_PROPERTIES\n",
      "CONSTRAINTS\n",
      "CONSTRAINT_TYPES\n",
      "CONSTRAINT_TYPE_CARDINALITY\n",
      "CONSTRAINT_TYPE_CONSTANT\n",
      "CONSTRAINT_TYPE_REGEX\n",
      "CONSTRAINT_TYPE_TYPEOF\n",
      "DISPLAY_NAMES\n",
      "DOCUMENT_TYPES\n",
      "ENUMS\n",
      "ESDOC_DEFAULT_ENCODING\n",
      "ESDOC_DEFAULT_INSTITUTE\n",
      "ESDOC_DEFAULT_LANGUAGE\n",
      "ESDOC_DEFAULT_PROJECT\n",
      "ESDOC_DEFAULT_SOURCE\n",
      "ESDOC_DOC_VERSION_ALL\n",
      "ESDOC_DOC_VERSION_LATEST\n",
      "ESDOC_ENCODINGS\n",
      "ESDOC_ENCODINGS_CUSTOM\n",
      "ESDOC_ENCODINGS_FILE\n",
      "ESDOC_ENCODINGS_FILE_CUSTOM\n",
      "ESDOC_ENCODING_DICT\n",
      "ESDOC_ENCODING_HTML\n",
      "ESDOC_ENCODING_HTTP_MEDIA_TYPES\n",
      "ESDOC_ENCODING_JSON\n",
      "ESDOC_ENCODING_PDF\n",
      "ESDOC_ENCODING_XML\n",
      "ESDOC_VIEWER_URL\n",
      "HELP\n",
      "KEYS\n",
      "METAFOR_CIM_XML_ENCODING\n",
      "ONTOLOGIES\n",
      "PACKAGES\n",
      "SORT_KEYS\n",
      "SUB_CLASSED\n",
      "SUB_CLASSES\n",
      "TYPES\n"
     ]
    }
   ],
   "source": [
    "# What can we explore across pyesdoc ?\n",
    "for name in sorted([n for n, _ in inspect.getmembers(pyesdoc) if n.upper() == n]):\n",
    "    print name"
   ]
  },
  {
   "cell_type": "code",
   "execution_count": 3,
   "metadata": {
    "collapsed": false
   },
   "outputs": [
    {
     "ename": "AttributeError",
     "evalue": "'module' object has no attribute 'list_constants'",
     "output_type": "error",
     "traceback": [
      "\u001b[0;31m---------------------------------------------------------------------------\u001b[0m",
      "\u001b[0;31mAttributeError\u001b[0m                            Traceback (most recent call last)",
      "\u001b[0;32m<ipython-input-3-77a1e2ae926f>\u001b[0m in \u001b[0;36m<module>\u001b[0;34m()\u001b[0m\n\u001b[1;32m      1\u001b[0m \u001b[0;31m# What constants does pyesdoc expose ?\u001b[0m\u001b[0;34m\u001b[0m\u001b[0;34m\u001b[0m\u001b[0m\n\u001b[0;32m----> 2\u001b[0;31m \u001b[0mpyesdoc\u001b[0m\u001b[0;34m.\u001b[0m\u001b[0minspect\u001b[0m\u001b[0;34m.\u001b[0m\u001b[0mlist_constants\u001b[0m\u001b[0;34m(\u001b[0m\u001b[0;34m)\u001b[0m\u001b[0;34m\u001b[0m\u001b[0m\n\u001b[0m\u001b[1;32m      3\u001b[0m \u001b[0;32mfor\u001b[0m \u001b[0mname\u001b[0m\u001b[0;34m,\u001b[0m \u001b[0mmbr\u001b[0m \u001b[0;32min\u001b[0m \u001b[0msorted\u001b[0m\u001b[0;34m(\u001b[0m\u001b[0;34m[\u001b[0m\u001b[0;34m(\u001b[0m\u001b[0mn\u001b[0m\u001b[0;34m,\u001b[0m \u001b[0mm\u001b[0m\u001b[0;34m)\u001b[0m \u001b[0;32mfor\u001b[0m \u001b[0mn\u001b[0m\u001b[0;34m,\u001b[0m \u001b[0mm\u001b[0m \u001b[0;32min\u001b[0m \u001b[0minspect\u001b[0m\u001b[0;34m.\u001b[0m\u001b[0mgetmembers\u001b[0m\u001b[0;34m(\u001b[0m\u001b[0mpyesdoc\u001b[0m\u001b[0;34m.\u001b[0m\u001b[0mconstants\u001b[0m\u001b[0;34m)\u001b[0m\u001b[0;34m]\u001b[0m\u001b[0;34m)\u001b[0m\u001b[0;34m:\u001b[0m\u001b[0;34m\u001b[0m\u001b[0m\n\u001b[1;32m      4\u001b[0m     \u001b[0;32mif\u001b[0m \u001b[0;32mnot\u001b[0m \u001b[0mname\u001b[0m\u001b[0;34m.\u001b[0m\u001b[0mstartswith\u001b[0m\u001b[0;34m(\u001b[0m\u001b[0;34m'_'\u001b[0m\u001b[0;34m)\u001b[0m\u001b[0;34m:\u001b[0m\u001b[0;34m\u001b[0m\u001b[0m\n\u001b[1;32m      5\u001b[0m         \u001b[0;32mprint\u001b[0m \u001b[0mname\u001b[0m\u001b[0;34m\u001b[0m\u001b[0m\n",
      "\u001b[0;31mAttributeError\u001b[0m: 'module' object has no attribute 'list_constants'"
     ]
    }
   ],
   "source": [
    "# What constants does pyesdoc expose ?\n",
    "pyesdoc.inspect.list_constants()\n",
    "for name, mbr in sorted([(n, m) for n, m in inspect.getmembers(pyesdoc.constants)]):\n",
    "    if not name.startswith('_'):\n",
    "        print name"
   ]
  },
  {
   "cell_type": "code",
   "execution_count": null,
   "metadata": {
    "collapsed": true
   },
   "outputs": [],
   "source": []
  },
  {
   "cell_type": "code",
   "execution_count": 5,
   "metadata": {
    "collapsed": false
   },
   "outputs": [
    {
     "ename": "AttributeError",
     "evalue": "'module' object has no attribute 'list_functions'",
     "output_type": "error",
     "traceback": [
      "\u001b[0;31m---------------------------------------------------------------------------\u001b[0m",
      "\u001b[0;31mAttributeError\u001b[0m                            Traceback (most recent call last)",
      "\u001b[0;32m<ipython-input-5-00c960dd2459>\u001b[0m in \u001b[0;36m<module>\u001b[0;34m()\u001b[0m\n\u001b[1;32m      1\u001b[0m \u001b[0;31m# What functions does pyesdoc expose ?\u001b[0m\u001b[0;34m\u001b[0m\u001b[0;34m\u001b[0m\u001b[0m\n\u001b[0;32m----> 2\u001b[0;31m \u001b[0mpyesdoc\u001b[0m\u001b[0;34m.\u001b[0m\u001b[0minspect\u001b[0m\u001b[0;34m.\u001b[0m\u001b[0mlist_functions\u001b[0m\u001b[0;34m(\u001b[0m\u001b[0;34m)\u001b[0m\u001b[0;34m\u001b[0m\u001b[0m\n\u001b[0m\u001b[1;32m      3\u001b[0m \u001b[0;32mfor\u001b[0m \u001b[0mname\u001b[0m\u001b[0;34m,\u001b[0m \u001b[0mmbr\u001b[0m \u001b[0;32min\u001b[0m \u001b[0msorted\u001b[0m\u001b[0;34m(\u001b[0m\u001b[0;34m[\u001b[0m\u001b[0;34m(\u001b[0m\u001b[0mn\u001b[0m\u001b[0;34m,\u001b[0m \u001b[0mm\u001b[0m\u001b[0;34m)\u001b[0m \u001b[0;32mfor\u001b[0m \u001b[0mn\u001b[0m\u001b[0;34m,\u001b[0m \u001b[0mm\u001b[0m \u001b[0;32min\u001b[0m \u001b[0minspect\u001b[0m\u001b[0;34m.\u001b[0m\u001b[0mgetmembers\u001b[0m\u001b[0;34m(\u001b[0m\u001b[0mpyesdoc\u001b[0m\u001b[0;34m)\u001b[0m \u001b[0;32mif\u001b[0m \u001b[0mn\u001b[0m\u001b[0;34m.\u001b[0m\u001b[0mupper\u001b[0m\u001b[0;34m(\u001b[0m\u001b[0;34m)\u001b[0m \u001b[0;34m!=\u001b[0m \u001b[0mn\u001b[0m \u001b[0;32mand\u001b[0m \u001b[0;32mnot\u001b[0m \u001b[0mn\u001b[0m\u001b[0;34m.\u001b[0m\u001b[0mstartswith\u001b[0m\u001b[0;34m(\u001b[0m\u001b[0;34m'_'\u001b[0m\u001b[0;34m)\u001b[0m\u001b[0;34m]\u001b[0m\u001b[0;34m)\u001b[0m\u001b[0;34m:\u001b[0m\u001b[0;34m\u001b[0m\u001b[0m\n\u001b[1;32m      4\u001b[0m     \u001b[0;32mif\u001b[0m \u001b[0minspect\u001b[0m\u001b[0;34m.\u001b[0m\u001b[0misfunction\u001b[0m\u001b[0;34m(\u001b[0m\u001b[0mmbr\u001b[0m\u001b[0;34m)\u001b[0m\u001b[0;34m:\u001b[0m\u001b[0;34m\u001b[0m\u001b[0m\n\u001b[1;32m      5\u001b[0m         \u001b[0;32mprint\u001b[0m \u001b[0mname\u001b[0m\u001b[0;34m\u001b[0m\u001b[0m\n",
      "\u001b[0;31mAttributeError\u001b[0m: 'module' object has no attribute 'list_functions'"
     ]
    }
   ],
   "source": [
    "# What functions does pyesdoc expose ?\n",
    "pyesdoc.inspect.list_functions()\n",
    "for name, mbr in sorted([(n, m) for n, m in inspect.getmembers(pyesdoc) if n.upper() != n and not n.startswith('_')]):\n",
    "    if inspect.isfunction(mbr):\n",
    "        print name"
   ]
  },
  {
   "cell_type": "code",
   "execution_count": 16,
   "metadata": {
    "collapsed": false
   },
   "outputs": [
    {
     "name": "stdout",
     "output_type": "stream",
     "text": [
      "BASE_CLASSED\n",
      "BASE_CLASSES\n",
      "CLASSES\n",
      "CLASS_OWN_PROPERTIES\n",
      "CLASS_PROPERTIES\n",
      "CONSTRAINTS\n",
      "DISPLAY_NAMES\n",
      "DOCUMENT_TYPES\n",
      "ENUMS\n",
      "HELP\n",
      "KEYS\n",
      "NAME\n",
      "PACKAGES\n",
      "SORT_KEYS\n",
      "SUB_CLASSED\n",
      "SUB_CLASSES\n",
      "TYPES\n",
      "VERSIONS\n",
      "v1\n",
      "v2\n"
     ]
    }
   ],
   "source": [
    "# What can we explore across the cim.\n",
    "pyesdoc.inspect.list_cim()\n",
    "for name in sorted([n for n, _ in inspect.getmembers(cim) if not n.startswith('_')]):\n",
    "    print name"
   ]
  },
  {
   "cell_type": "code",
   "execution_count": 17,
   "metadata": {
    "collapsed": false
   },
   "outputs": [
    {
     "name": "stdout",
     "output_type": "stream",
     "text": [
      "BASE_CLASSED\n",
      "BASE_CLASSES\n",
      "CLASSES\n",
      "CLASS_HIERACHY_DEPTH\n",
      "CLASS_OWN_PROPERTIES\n",
      "CLASS_PROPERTIES\n",
      "CONSTRAINTS\n",
      "DOCUMENT_TYPES\n",
      "ENUMS\n",
      "FULL_NAME\n",
      "HELP\n",
      "KEYS\n",
      "NAME\n",
      "PACKAGES\n",
      "SUB_CLASSED\n",
      "SUB_CLASSES\n",
      "TOTAL_CLASS_PROPERTIES\n",
      "TOTAL_CONSTRAINTS\n",
      "TOTAL_ENUM_MEMBERS\n",
      "TYPES\n",
      "VERSION\n"
     ]
    }
   ],
   "source": [
    "# What can we explore across a particualr version of the cim.\n",
    "pyesdoc.inspect.list_cim(1)\n",
    "for name in sorted([n for n, _ in inspect.getmembers(cim.v1) if n.upper() == n]):\n",
    "    print name"
   ]
  }
 ],
 "metadata": {
  "kernelspec": {
   "display_name": "Python 2",
   "language": "python",
   "name": "python2"
  },
  "language_info": {
   "codemirror_mode": {
    "name": "ipython",
    "version": 2
   },
   "file_extension": ".py",
   "mimetype": "text/x-python",
   "name": "python",
   "nbconvert_exporter": "python",
   "pygments_lexer": "ipython2",
   "version": "2.7.10"
  }
 },
 "nbformat": 4,
 "nbformat_minor": 0
}
