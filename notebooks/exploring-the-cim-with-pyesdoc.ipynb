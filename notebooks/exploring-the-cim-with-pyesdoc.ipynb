{
 "cells": [
  {
   "cell_type": "markdown",
   "metadata": {},
   "source": [
    "# Exploring CIM versions 1 & 2 with pyesdoc"
   ]
  },
  {
   "cell_type": "markdown",
   "metadata": {},
   "source": [
    "## Setup"
   ]
  },
  {
   "cell_type": "code",
   "execution_count": null,
   "metadata": {
    "collapsed": false
   },
   "outputs": [],
   "source": [
    "import inspect\n",
    "\n",
    "import pyesdoc\n",
    "import pyesdoc.ontologies.cim as cim"
   ]
  },
  {
   "cell_type": "code",
   "execution_count": null,
   "metadata": {
    "collapsed": false
   },
   "outputs": [],
   "source": [
    "# What can we explore across pyesdoc ?\n",
    "for name in sorted([n for n, _ in inspect.getmembers(pyesdoc) if n.upper() == n]):\n",
    "    print name"
   ]
  },
  {
   "cell_type": "code",
   "execution_count": null,
   "metadata": {
    "collapsed": false
   },
   "outputs": [],
   "source": [
    "# What constants does pyesdoc expose ?\n",
    "for name, mbr in sorted([(n, m) for n, m in inspect.getmembers(pyesdoc.constants)]):\n",
    "    if not name.startswith('_'):\n",
    "        print name"
   ]
  },
  {
   "cell_type": "code",
   "execution_count": null,
   "metadata": {
    "collapsed": false
   },
   "outputs": [],
   "source": [
    "# What functions does pyesdoc expose ?\n",
    "for name, mbr in sorted([(n, m) for n, m in inspect.getmembers(pyesdoc) if n.upper() != n and not n.startswith('_')]):\n",
    "    if inspect.isfunction(mbr):\n",
    "        print name"
   ]
  },
  {
   "cell_type": "code",
   "execution_count": null,
   "metadata": {
    "collapsed": false
   },
   "outputs": [],
   "source": [
    "# What can we explore across the cim.\n",
    "for name in sorted([n for n, _ in inspect.getmembers(cim) if not n.startswith('_')]):\n",
    "    print name"
   ]
  },
  {
   "cell_type": "code",
   "execution_count": null,
   "metadata": {
    "collapsed": false
   },
   "outputs": [],
   "source": [
    "# What can we explore across a particualr version of the cim.\n",
    "for name in sorted([n for n, _ in inspect.getmembers(cim.v1) if n.upper() == n]):\n",
    "    print name"
   ]
  },
  {
   "cell_type": "markdown",
   "metadata": {},
   "source": [
    "## Compare v1 & v2"
   ]
  },
  {
   "cell_type": "code",
   "execution_count": null,
   "metadata": {
    "collapsed": false
   },
   "outputs": [],
   "source": [
    "# Packages.\n",
    "for v in cim.VERSIONS:\n",
    "    print v.FULL_NAME, 'packages =' , len(v.PACKAGES)"
   ]
  },
  {
   "cell_type": "code",
   "execution_count": null,
   "metadata": {
    "collapsed": false
   },
   "outputs": [],
   "source": [
    "# Classes.\n",
    "for v in cim.VERSIONS:\n",
    "    print v.FULL_NAME, 'classes =' , len(v.CLASSES)"
   ]
  },
  {
   "cell_type": "code",
   "execution_count": null,
   "metadata": {
    "collapsed": false
   },
   "outputs": [],
   "source": [
    "# Class properties.\n",
    "for v in cim.VERSIONS:\n",
    "    print v.FULL_NAME, 'class properties =' , v.TOTAL_CLASS_PROPERTIES"
   ]
  },
  {
   "cell_type": "code",
   "execution_count": null,
   "metadata": {
    "collapsed": false,
    "scrolled": true
   },
   "outputs": [],
   "source": [
    "# Classes with a base class.\n",
    "for v in cim.VERSIONS:\n",
    "    print v.FULL_NAME, 'base classed =' , len(v.BASE_CLASSED)"
   ]
  },
  {
   "cell_type": "code",
   "execution_count": null,
   "metadata": {
    "collapsed": false
   },
   "outputs": [],
   "source": [
    "# Classes that are sub-classed.\n",
    "for v in cim.VERSIONS:\n",
    "    print v.FULL_NAME, 'sub classed =' , len(v.SUB_CLASSED)"
   ]
  },
  {
   "cell_type": "code",
   "execution_count": null,
   "metadata": {
    "collapsed": false
   },
   "outputs": [],
   "source": [
    "# Maximum class hierachy depth.\n",
    "for v in cim.VERSIONS:\n",
    "    print v.FULL_NAME, 'maximum class hierachy depth =' , v.CLASS_HIERACHY_DEPTH"
   ]
  },
  {
   "cell_type": "code",
   "execution_count": null,
   "metadata": {
    "collapsed": false
   },
   "outputs": [],
   "source": [
    "# Enums.\n",
    "for v in cim.VERSIONS:\n",
    "    print v.FULL_NAME, 'enums =' , len(v.ENUMS)"
   ]
  },
  {
   "cell_type": "code",
   "execution_count": null,
   "metadata": {
    "collapsed": false
   },
   "outputs": [],
   "source": [
    "# Enum members.\n",
    "for v in cim.VERSIONS:\n",
    "    print v.FULL_NAME, 'enum members =' , v.TOTAL_ENUM_MEMBERS"
   ]
  },
  {
   "cell_type": "code",
   "execution_count": null,
   "metadata": {
    "collapsed": false
   },
   "outputs": [],
   "source": [
    "# Constraints.\n",
    "for v in cim.VERSIONS:\n",
    "    print v.FULL_NAME, 'constraint count =' , v.TOTAL_CONSTRAINTS"
   ]
  },
  {
   "cell_type": "markdown",
   "metadata": {},
   "source": [
    "## Explore a class"
   ]
  },
  {
   "cell_type": "code",
   "execution_count": null,
   "metadata": {
    "collapsed": true
   },
   "outputs": [],
   "source": [
    "# Set example class.\n",
    "v2_class = cim.v2.NumericalExperiment"
   ]
  },
  {
   "cell_type": "code",
   "execution_count": null,
   "metadata": {
    "collapsed": false
   },
   "outputs": [],
   "source": [
    "# Class type key.\n",
    "print pyesdoc.KEYS[v2_class]"
   ]
  },
  {
   "cell_type": "code",
   "execution_count": null,
   "metadata": {
    "collapsed": false
   },
   "outputs": [],
   "source": [
    "# Class sort key.\n",
    "print pyesdoc.SORT_KEYS[v2_class]"
   ]
  },
  {
   "cell_type": "code",
   "execution_count": null,
   "metadata": {
    "collapsed": false
   },
   "outputs": [],
   "source": [
    "# Class display name.\n",
    "print pyesdoc.DISPLAY_NAMES[v2_class]"
   ]
  },
  {
   "cell_type": "code",
   "execution_count": null,
   "metadata": {
    "collapsed": false
   },
   "outputs": [],
   "source": [
    "# Class properties.\n",
    "print pyesdoc.CLASS_PROPERTIES[v2_class]"
   ]
  },
  {
   "cell_type": "code",
   "execution_count": null,
   "metadata": {
    "collapsed": false
   },
   "outputs": [],
   "source": [
    "# Class own properties.\n",
    "print pyesdoc.CLASS_OWN_PROPERTIES[v2_class]"
   ]
  },
  {
   "cell_type": "code",
   "execution_count": null,
   "metadata": {
    "collapsed": false
   },
   "outputs": [],
   "source": [
    "# Class help.\n",
    "print pyesdoc.HELP[v2_class]"
   ]
  },
  {
   "cell_type": "code",
   "execution_count": null,
   "metadata": {
    "collapsed": false
   },
   "outputs": [],
   "source": [
    "# Class property help.\n",
    "print pyesdoc.HELP[v2_class, 'requirements']"
   ]
  },
  {
   "cell_type": "code",
   "execution_count": null,
   "metadata": {
    "collapsed": false
   },
   "outputs": [],
   "source": [
    "# Class constraints.\n",
    "for n, t, v in pyesdoc.CONSTRAINTS[v2_class]:\n",
    "    print n, t, v"
   ]
  },
  {
   "cell_type": "code",
   "execution_count": null,
   "metadata": {
    "collapsed": false
   },
   "outputs": [],
   "source": [
    "# Class property constraints.\n",
    "for t, v in pyesdoc.CONSTRAINTS[v2_class, 'requirements']:\n",
    "    print t, v"
   ]
  },
  {
   "cell_type": "code",
   "execution_count": null,
   "metadata": {
    "collapsed": false
   },
   "outputs": [],
   "source": [
    "# Supported class constraint types.\n",
    "print pyesdoc.CONSTRAINT_TYPES"
   ]
  },
  {
   "cell_type": "code",
   "execution_count": null,
   "metadata": {
    "collapsed": false
   },
   "outputs": [],
   "source": [
    "# Class constraints (type).\n",
    "for p, t, v in [ct for ct in cim.CONSTRAINTS[v2_class] if ct[1] == pyesdoc.CONSTRAINT_TYPE_TYPEOF]:\n",
    "    print p, \"-->\", v"
   ]
  },
  {
   "cell_type": "code",
   "execution_count": null,
   "metadata": {
    "collapsed": false
   },
   "outputs": [],
   "source": [
    "# Class constraints (cardinality).\n",
    "for p, t, v in [ct for ct in cim.CONSTRAINTS[v2_class] if ct[1] == pyesdoc.CONSTRAINT_TYPE_CARDINALITY]:\n",
    "    print p, \"-->\", v"
   ]
  },
  {
   "cell_type": "code",
   "execution_count": null,
   "metadata": {
    "collapsed": false
   },
   "outputs": [],
   "source": [
    "# Class constant constants.\n",
    "for p, t, v in [ct for ct in cim.CONSTRAINTS[v2_class] if ct[1] == pyesdoc.CONSTRAINT_TYPE_CONSTANT]:\n",
    "    print p, \"-->\", v"
   ]
  },
  {
   "cell_type": "code",
   "execution_count": null,
   "metadata": {
    "collapsed": true
   },
   "outputs": [],
   "source": [
    "# Class regular-expression constants.\n",
    "for p, t, v in [ct for ct in cim.CONSTRAINTS[v2_class] if ct[1] == pyesdoc.CONSTRAINT_TYPE_REGEX]:\n",
    "    print p, \"-->\", v"
   ]
  },
  {
   "cell_type": "code",
   "execution_count": null,
   "metadata": {
    "collapsed": false
   },
   "outputs": [],
   "source": [
    "pyesdoc.BASE_CLASSES"
   ]
  },
  {
   "cell_type": "markdown",
   "metadata": {},
   "source": [
    "## Explore an enum"
   ]
  },
  {
   "cell_type": "code",
   "execution_count": null,
   "metadata": {
    "collapsed": true
   },
   "outputs": [],
   "source": [
    "# Set example enum.\n",
    "v2_enum = cim.v2.EnsembleTypes"
   ]
  },
  {
   "cell_type": "code",
   "execution_count": null,
   "metadata": {
    "collapsed": false
   },
   "outputs": [],
   "source": [
    "# Is enum open or closed ?\n",
    "print v2_enum.is_open"
   ]
  },
  {
   "cell_type": "code",
   "execution_count": null,
   "metadata": {
    "collapsed": false
   },
   "outputs": [],
   "source": [
    "# What are the enum's declared members ?\n",
    "for member in v2_enum.members:\n",
    "    print member"
   ]
  },
  {
   "cell_type": "code",
   "execution_count": null,
   "metadata": {
    "collapsed": false
   },
   "outputs": [],
   "source": [
    "# Enum help.\n",
    "print pyesdoc.HELP[v2_enum]"
   ]
  },
  {
   "cell_type": "code",
   "execution_count": null,
   "metadata": {
    "collapsed": false
   },
   "outputs": [],
   "source": [
    "# Enum member help.\n",
    "print pyesdoc.HELP[v2_enum, 'Forced']"
   ]
  }
 ],
 "metadata": {
  "kernelspec": {
   "display_name": "Python 2",
   "language": "python",
   "name": "python2"
  },
  "language_info": {
   "codemirror_mode": {
    "name": "ipython",
    "version": 2
   },
   "file_extension": ".py",
   "mimetype": "text/x-python",
   "name": "python",
   "nbconvert_exporter": "python",
   "pygments_lexer": "ipython2",
   "version": "2.7.10"
  }
 },
 "nbformat": 4,
 "nbformat_minor": 0
}
