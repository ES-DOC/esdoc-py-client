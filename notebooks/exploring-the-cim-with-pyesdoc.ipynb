{
 "cells": [
  {
   "cell_type": "markdown",
   "metadata": {},
   "source": [
    "# Exploring CIM versions 1 & 2 with pyesdoc"
   ]
  },
  {
   "cell_type": "markdown",
   "metadata": {},
   "source": [
    "## Setup"
   ]
  },
  {
   "cell_type": "code",
   "execution_count": 1,
   "metadata": {
    "collapsed": false
   },
   "outputs": [],
   "source": [
    "import inspect\n",
    "\n",
    "import pyesdoc\n",
    "import pyesdoc.ontologies.cim as cim"
   ]
  },
  {
   "cell_type": "code",
   "execution_count": 15,
   "metadata": {
    "collapsed": false
   },
   "outputs": [
    {
     "name": "stdout",
     "output_type": "stream",
     "text": [
      "BASE_CLASSED\n",
      "BASE_CLASSES\n",
      "CARDINALITY_TYPES\n",
      "CARDINALITY_TYPE_0_0\n",
      "CARDINALITY_TYPE_0_1\n",
      "CARDINALITY_TYPE_0_N\n",
      "CARDINALITY_TYPE_1_1\n",
      "CARDINALITY_TYPE_1_N\n",
      "CLASSES\n",
      "CLASS_OWN_PROPERTIES\n",
      "CLASS_PROPERTIES\n",
      "CONSTRAINTS\n",
      "CONSTRAINT_TYPES\n",
      "CONSTRAINT_TYPE_CARDINALITY\n",
      "CONSTRAINT_TYPE_CONSTANT\n",
      "CONSTRAINT_TYPE_REGEX\n",
      "CONSTRAINT_TYPE_TYPEOF\n",
      "DISPLAY_NAMES\n",
      "DOCUMENT_TYPES\n",
      "ENUMS\n",
      "ESDOC_DEFAULT_ENCODING\n",
      "ESDOC_DEFAULT_INSTITUTE\n",
      "ESDOC_DEFAULT_LANGUAGE\n",
      "ESDOC_DEFAULT_PROJECT\n",
      "ESDOC_DEFAULT_SOURCE\n",
      "ESDOC_DOC_VERSION_ALL\n",
      "ESDOC_DOC_VERSION_LATEST\n",
      "ESDOC_ENCODINGS\n",
      "ESDOC_ENCODINGS_CUSTOM\n",
      "ESDOC_ENCODINGS_FILE\n",
      "ESDOC_ENCODINGS_FILE_CUSTOM\n",
      "ESDOC_ENCODING_DICT\n",
      "ESDOC_ENCODING_HTML\n",
      "ESDOC_ENCODING_HTTP_MEDIA_TYPES\n",
      "ESDOC_ENCODING_JSON\n",
      "ESDOC_ENCODING_PDF\n",
      "ESDOC_ENCODING_XML\n",
      "ESDOC_VIEWER_URL\n",
      "HELP\n",
      "KEYS\n",
      "METAFOR_CIM_XML_ENCODING\n",
      "ONTOLOGIES\n",
      "PACKAGES\n",
      "SORT_KEYS\n",
      "SUB_CLASSED\n",
      "SUB_CLASSES\n",
      "TYPES\n"
     ]
    }
   ],
   "source": [
    "# What can we explore across pyesdoc ?\n",
    "for name in sorted([n for n, _ in inspect.getmembers(pyesdoc) if n.upper() == n]):\n",
    "    print name"
   ]
  },
  {
   "cell_type": "code",
   "execution_count": 38,
   "metadata": {
    "collapsed": false
   },
   "outputs": [
    {
     "name": "stdout",
     "output_type": "stream",
     "text": [
      "CARDINALITY_TYPES\n",
      "CARDINALITY_TYPE_0_0\n",
      "CARDINALITY_TYPE_0_1\n",
      "CARDINALITY_TYPE_0_N\n",
      "CARDINALITY_TYPE_1_1\n",
      "CARDINALITY_TYPE_1_N\n",
      "CONSTRAINT_TYPES\n",
      "CONSTRAINT_TYPE_CARDINALITY\n",
      "CONSTRAINT_TYPE_CONSTANT\n",
      "CONSTRAINT_TYPE_REGEX\n",
      "CONSTRAINT_TYPE_TYPEOF\n",
      "ESDOC_DEFAULT_ENCODING\n",
      "ESDOC_DEFAULT_INSTITUTE\n",
      "ESDOC_DEFAULT_LANGUAGE\n",
      "ESDOC_DEFAULT_PROJECT\n",
      "ESDOC_DEFAULT_SOURCE\n",
      "ESDOC_DOC_VERSION_ALL\n",
      "ESDOC_DOC_VERSION_LATEST\n",
      "ESDOC_ENCODINGS\n",
      "ESDOC_ENCODINGS_CUSTOM\n",
      "ESDOC_ENCODINGS_FILE\n",
      "ESDOC_ENCODINGS_FILE_CUSTOM\n",
      "ESDOC_ENCODING_DICT\n",
      "ESDOC_ENCODING_HTML\n",
      "ESDOC_ENCODING_HTTP_MEDIA_TYPES\n",
      "ESDOC_ENCODING_JSON\n",
      "ESDOC_ENCODING_PDF\n",
      "ESDOC_ENCODING_XML\n",
      "ESDOC_VIEWER_URL\n",
      "METAFOR_CIM_XML_ENCODING\n"
     ]
    }
   ],
   "source": [
    "# What constants does pyesdoc expose ?\n",
    "for name, mbr in sorted([(n, m) for n, m in inspect.getmembers(pyesdoc.constants)]):\n",
    "    if not name.startswith('_'):\n",
    "        print name"
   ]
  },
  {
   "cell_type": "code",
   "execution_count": 32,
   "metadata": {
    "collapsed": false
   },
   "outputs": [
    {
     "name": "stdout",
     "output_type": "stream",
     "text": [
      "associate\n",
      "convert\n",
      "convert_file\n",
      "create\n",
      "decode\n",
      "encode\n",
      "extend\n",
      "get_filename\n",
      "get_option\n",
      "get_types\n",
      "is_extendable\n",
      "is_supported\n",
      "is_valid\n",
      "list_options\n",
      "list_types\n",
      "publish\n",
      "read\n",
      "retrieve\n",
      "set_option\n",
      "unpublish\n",
      "validate\n",
      "write\n"
     ]
    }
   ],
   "source": [
    "# What functions does pyesdoc expose ?\n",
    "for name, mbr in sorted([(n, m) for n, m in inspect.getmembers(pyesdoc) if n.upper() != n and not n.startswith('_')]):\n",
    "    if inspect.isfunction(mbr):\n",
    "        print name"
   ]
  },
  {
   "cell_type": "code",
   "execution_count": 16,
   "metadata": {
    "collapsed": false
   },
   "outputs": [
    {
     "name": "stdout",
     "output_type": "stream",
     "text": [
      "BASE_CLASSED\n",
      "BASE_CLASSES\n",
      "CLASSES\n",
      "CLASS_OWN_PROPERTIES\n",
      "CLASS_PROPERTIES\n",
      "CONSTRAINTS\n",
      "DISPLAY_NAMES\n",
      "DOCUMENT_TYPES\n",
      "ENUMS\n",
      "HELP\n",
      "KEYS\n",
      "NAME\n",
      "PACKAGES\n",
      "SORT_KEYS\n",
      "SUB_CLASSED\n",
      "SUB_CLASSES\n",
      "TYPES\n",
      "VERSIONS\n",
      "v1\n",
      "v2\n"
     ]
    }
   ],
   "source": [
    "# What can we explore across the cim.\n",
    "for name in sorted([n for n, _ in inspect.getmembers(cim) if not n.startswith('_')]):\n",
    "    print name"
   ]
  },
  {
   "cell_type": "code",
   "execution_count": 17,
   "metadata": {
    "collapsed": false
   },
   "outputs": [
    {
     "name": "stdout",
     "output_type": "stream",
     "text": [
      "BASE_CLASSED\n",
      "BASE_CLASSES\n",
      "CLASSES\n",
      "CLASS_HIERACHY_DEPTH\n",
      "CLASS_OWN_PROPERTIES\n",
      "CLASS_PROPERTIES\n",
      "CONSTRAINTS\n",
      "DOCUMENT_TYPES\n",
      "ENUMS\n",
      "FULL_NAME\n",
      "HELP\n",
      "KEYS\n",
      "NAME\n",
      "PACKAGES\n",
      "SUB_CLASSED\n",
      "SUB_CLASSES\n",
      "TOTAL_CLASS_PROPERTIES\n",
      "TOTAL_CONSTRAINTS\n",
      "TOTAL_ENUM_MEMBERS\n",
      "TYPES\n",
      "VERSION\n"
     ]
    }
   ],
   "source": [
    "# What can we explore across a particualr version of the cim.\n",
    "for name in sorted([n for n, _ in inspect.getmembers(cim.v1) if n.upper() == n]):\n",
    "    print name"
   ]
  },
  {
   "cell_type": "markdown",
   "metadata": {},
   "source": [
    "## Compare v1 & v2"
   ]
  },
  {
   "cell_type": "code",
   "execution_count": null,
   "metadata": {
    "collapsed": false
   },
   "outputs": [],
   "source": [
    "# Packages.\n",
    "for v in cim.VERSIONS:\n",
    "    print v.FULL_NAME, 'packages =' , len(v.PACKAGES)"
   ]
  },
  {
   "cell_type": "code",
   "execution_count": null,
   "metadata": {
    "collapsed": false
   },
   "outputs": [],
   "source": [
    "# Classes.\n",
    "for v in cim.VERSIONS:\n",
    "    print v.FULL_NAME, 'classes =' , len(v.CLASSES)"
   ]
  },
  {
   "cell_type": "code",
   "execution_count": null,
   "metadata": {
    "collapsed": false
   },
   "outputs": [],
   "source": [
    "# Class properties.\n",
    "for v in cim.VERSIONS:\n",
    "    print v.FULL_NAME, 'class properties =' , v.TOTAL_CLASS_PROPERTIES"
   ]
  },
  {
   "cell_type": "code",
   "execution_count": null,
   "metadata": {
    "collapsed": false,
    "scrolled": true
   },
   "outputs": [],
   "source": [
    "# Classes with a base class.\n",
    "for v in cim.VERSIONS:\n",
    "    print v.FULL_NAME, 'base classed =' , len(v.BASE_CLASSED)"
   ]
  },
  {
   "cell_type": "code",
   "execution_count": null,
   "metadata": {
    "collapsed": false
   },
   "outputs": [],
   "source": [
    "# Classes that are sub-classed.\n",
    "for v in cim.VERSIONS:\n",
    "    print v.FULL_NAME, 'sub classed =' , len(v.SUB_CLASSED)"
   ]
  },
  {
   "cell_type": "code",
   "execution_count": null,
   "metadata": {
    "collapsed": false
   },
   "outputs": [],
   "source": [
    "# Maximum class hierachy depth.\n",
    "for v in cim.VERSIONS:\n",
    "    print v.FULL_NAME, 'maximum class hierachy depth =' , v.CLASS_HIERACHY_DEPTH"
   ]
  },
  {
   "cell_type": "code",
   "execution_count": null,
   "metadata": {
    "collapsed": false
   },
   "outputs": [],
   "source": [
    "# Enums.\n",
    "for v in cim.VERSIONS:\n",
    "    print v.FULL_NAME, 'enums =' , len(v.ENUMS)"
   ]
  },
  {
   "cell_type": "code",
   "execution_count": 6,
   "metadata": {
    "collapsed": false
   },
   "outputs": [
    {
     "name": "stdout",
     "output_type": "stream",
     "text": [
      "cim.1 enum members = 162\n",
      "cim.2 enum members = 161\n"
     ]
    }
   ],
   "source": [
    "# Enum members.\n",
    "for v in cim.VERSIONS:\n",
    "    print v.FULL_NAME, 'enum members =' , v.TOTAL_ENUM_MEMBERS"
   ]
  },
  {
   "cell_type": "code",
   "execution_count": 7,
   "metadata": {
    "collapsed": false
   },
   "outputs": [
    {
     "name": "stdout",
     "output_type": "stream",
     "text": [
      "cim.1 constraint count = 1372\n",
      "cim.2 constraint count = 1144\n"
     ]
    }
   ],
   "source": [
    "# Constraints.\n",
    "for v in cim.VERSIONS:\n",
    "    print v.FULL_NAME, 'constraint count =' , v.TOTAL_CONSTRAINTS"
   ]
  },
  {
   "cell_type": "markdown",
   "metadata": {},
   "source": [
    "## Explore a class"
   ]
  },
  {
   "cell_type": "code",
   "execution_count": null,
   "metadata": {
    "collapsed": true
   },
   "outputs": [],
   "source": [
    "# Set example class.\n",
    "v2_class = cim.v2.NumericalExperiment"
   ]
  },
  {
   "cell_type": "code",
   "execution_count": null,
   "metadata": {
    "collapsed": false
   },
   "outputs": [],
   "source": [
    "# Class type key.\n",
    "print pyesdoc.KEYS[v2_class]"
   ]
  },
  {
   "cell_type": "code",
   "execution_count": null,
   "metadata": {
    "collapsed": false
   },
   "outputs": [],
   "source": [
    "# Class sort key.\n",
    "print pyesdoc.SORT_KEYS[v2_class]"
   ]
  },
  {
   "cell_type": "code",
   "execution_count": null,
   "metadata": {
    "collapsed": false
   },
   "outputs": [],
   "source": [
    "# Class display name.\n",
    "print pyesdoc.DISPLAY_NAMES[v2_class]"
   ]
  },
  {
   "cell_type": "code",
   "execution_count": null,
   "metadata": {
    "collapsed": false
   },
   "outputs": [],
   "source": [
    "# Class properties.\n",
    "print pyesdoc.CLASS_PROPERTIES[v2_class]"
   ]
  },
  {
   "cell_type": "code",
   "execution_count": null,
   "metadata": {
    "collapsed": false
   },
   "outputs": [],
   "source": [
    "# Class own properties.\n",
    "print pyesdoc.CLASS_OWN_PROPERTIES[v2_class]"
   ]
  },
  {
   "cell_type": "code",
   "execution_count": null,
   "metadata": {
    "collapsed": false
   },
   "outputs": [],
   "source": [
    "# Class help.\n",
    "print pyesdoc.HELP[v2_class]"
   ]
  },
  {
   "cell_type": "code",
   "execution_count": null,
   "metadata": {
    "collapsed": false
   },
   "outputs": [],
   "source": [
    "# Class property help.\n",
    "print pyesdoc.HELP[v2_class, 'requirements']"
   ]
  },
  {
   "cell_type": "code",
   "execution_count": null,
   "metadata": {
    "collapsed": false
   },
   "outputs": [],
   "source": [
    "# Class constraints.\n",
    "for n, t, v in pyesdoc.CONSTRAINTS[v2_class]:\n",
    "    print n, t, v"
   ]
  },
  {
   "cell_type": "code",
   "execution_count": null,
   "metadata": {
    "collapsed": false
   },
   "outputs": [],
   "source": [
    "# Class property constraints.\n",
    "for t, v in pyesdoc.CONSTRAINTS[v2_class, 'requirements']:\n",
    "    print t, v"
   ]
  },
  {
   "cell_type": "code",
   "execution_count": null,
   "metadata": {
    "collapsed": false
   },
   "outputs": [],
   "source": [
    "# Supported class constraint types.\n",
    "print pyesdoc.CONSTRAINT_TYPES"
   ]
  },
  {
   "cell_type": "code",
   "execution_count": null,
   "metadata": {
    "collapsed": false
   },
   "outputs": [],
   "source": [
    "# Class constraints (type).\n",
    "for p, t, v in [ct for ct in cim.CONSTRAINTS[v2_class] if ct[1] == pyesdoc.CONSTRAINT_TYPE_TYPEOF]:\n",
    "    print p, \"-->\", v"
   ]
  },
  {
   "cell_type": "code",
   "execution_count": null,
   "metadata": {
    "collapsed": false
   },
   "outputs": [],
   "source": [
    "# Class constraints (cardinality).\n",
    "for p, t, v in [ct for ct in cim.CONSTRAINTS[v2_class] if ct[1] == pyesdoc.CONSTRAINT_TYPE_CARDINALITY]:\n",
    "    print p, \"-->\", v"
   ]
  },
  {
   "cell_type": "code",
   "execution_count": null,
   "metadata": {
    "collapsed": false
   },
   "outputs": [],
   "source": [
    "# Class constant constants.\n",
    "for p, t, v in [ct for ct in cim.CONSTRAINTS[v2_class] if ct[1] == pyesdoc.CONSTRAINT_TYPE_CONSTANT]:\n",
    "    print p, \"-->\", v"
   ]
  },
  {
   "cell_type": "code",
   "execution_count": null,
   "metadata": {
    "collapsed": true
   },
   "outputs": [],
   "source": [
    "# Class regular-expression constants.\n",
    "for p, t, v in [ct for ct in cim.CONSTRAINTS[v2_class] if ct[1] == pyesdoc.CONSTRAINT_TYPE_REGEX]:\n",
    "    print p, \"-->\", v"
   ]
  },
  {
   "cell_type": "code",
   "execution_count": null,
   "metadata": {
    "collapsed": false
   },
   "outputs": [],
   "source": [
    "pyesdoc.BASE_CLASSES"
   ]
  },
  {
   "cell_type": "markdown",
   "metadata": {},
   "source": [
    "## Explore an enum"
   ]
  },
  {
   "cell_type": "code",
   "execution_count": 8,
   "metadata": {
    "collapsed": true
   },
   "outputs": [],
   "source": [
    "# Set example enum.\n",
    "v2_enum = cim.v2.EnsembleTypes"
   ]
  },
  {
   "cell_type": "code",
   "execution_count": 9,
   "metadata": {
    "collapsed": false
   },
   "outputs": [
    {
     "name": "stdout",
     "output_type": "stream",
     "text": [
      "False\n"
     ]
    }
   ],
   "source": [
    "# Is enum open or closed ?\n",
    "print v2_enum.is_open"
   ]
  },
  {
   "cell_type": "code",
   "execution_count": 10,
   "metadata": {
    "collapsed": false
   },
   "outputs": [
    {
     "name": "stdout",
     "output_type": "stream",
     "text": [
      "Forced\n",
      "Initialisation Method\n",
      "Initialisation\n",
      "Perturbed Physics\n",
      "Resolution\n",
      "Staggered Start\n"
     ]
    }
   ],
   "source": [
    "# What are the enum's declared members ?\n",
    "for member in v2_enum.members:\n",
    "    print member"
   ]
  },
  {
   "cell_type": "code",
   "execution_count": 11,
   "metadata": {
    "collapsed": false
   },
   "outputs": [
    {
     "name": "stdout",
     "output_type": "stream",
     "text": [
      "\n",
      "\t\tDefines the various axes along which one can set up an ensemble.\n",
      "\n",
      "\t\n"
     ]
    }
   ],
   "source": [
    "# Enum help.\n",
    "print pyesdoc.HELP[v2_enum]"
   ]
  },
  {
   "cell_type": "code",
   "execution_count": 12,
   "metadata": {
    "collapsed": false
   },
   "outputs": [
    {
     "name": "stdout",
     "output_type": "stream",
     "text": [
      "Members used differing forcing data\n"
     ]
    }
   ],
   "source": [
    "# Enum member help.\n",
    "print pyesdoc.HELP[v2_enum, 'Forced']"
   ]
  }
 ],
 "metadata": {
  "kernelspec": {
   "display_name": "Python 2",
   "language": "python",
   "name": "python2"
  },
  "language_info": {
   "codemirror_mode": {
    "name": "ipython",
    "version": 2
   },
   "file_extension": ".py",
   "mimetype": "text/x-python",
   "name": "python",
   "nbconvert_exporter": "python",
   "pygments_lexer": "ipython2",
   "version": "2.7.10"
  }
 },
 "nbformat": 4,
 "nbformat_minor": 0
}
