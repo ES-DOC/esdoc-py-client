{
 "cells": [
  {
   "cell_type": "markdown",
   "metadata": {},
   "source": [
    "# Exploring CIM v2 with esdoc-mp"
   ]
  },
  {
   "cell_type": "code",
   "execution_count": 1,
   "metadata": {
    "collapsed": false
   },
   "outputs": [],
   "source": [
    "import esdoc_mp as mp"
   ]
  },
  {
   "cell_type": "code",
   "execution_count": 2,
   "metadata": {
    "collapsed": false
   },
   "outputs": [],
   "source": [
    "# Get pointer to schema.\n",
    "schema = mp.get_schema('cim', '2')"
   ]
  },
  {
   "cell_type": "code",
   "execution_count": 3,
   "metadata": {
    "collapsed": true
   },
   "outputs": [],
   "source": [
    "# Get pointer to ontology.\n",
    "o = mp.get_ontology(schema)"
   ]
  },
  {
   "cell_type": "code",
   "execution_count": 4,
   "metadata": {
    "collapsed": true
   },
   "outputs": [],
   "source": [
    "# Classes\n",
    "for c in o.classes:\n",
    "    assert isinstance(c, mp.ontologies.core.Class)"
   ]
  },
  {
   "cell_type": "code",
   "execution_count": 5,
   "metadata": {
    "collapsed": true
   },
   "outputs": [],
   "source": [
    "# Entities ... i.e. 'documents'.\n",
    "for e in o.entities:\n",
    "    assert isinstance(e, mp.ontologies.core.Class)"
   ]
  },
  {
   "cell_type": "code",
   "execution_count": 6,
   "metadata": {
    "collapsed": false
   },
   "outputs": [],
   "source": [
    "# Class properties\n",
    "for c in o.classes:\n",
    "    for cp in c.properties:\n",
    "        assert isinstance(cp, mp.ontologies.core.Property)"
   ]
  },
  {
   "cell_type": "code",
   "execution_count": 7,
   "metadata": {
    "collapsed": false
   },
   "outputs": [],
   "source": [
    "# Enums\n",
    "for e in o.enums:\n",
    "    assert isinstance(e, mp.ontologies.core.Enum)"
   ]
  },
  {
   "cell_type": "code",
   "execution_count": 8,
   "metadata": {
    "collapsed": false
   },
   "outputs": [],
   "source": [
    "# Enum members\n",
    "for e in o.enums:\n",
    "    for em in e.members:\n",
    "        assert isinstance(em, mp.ontologies.core.EnumMember)"
   ]
  },
  {
   "cell_type": "markdown",
   "metadata": {},
   "source": [
    "### Inspecting class hierachies"
   ]
  },
  {
   "cell_type": "code",
   "execution_count": 9,
   "metadata": {
    "collapsed": false
   },
   "outputs": [],
   "source": [
    "# Inspect an individual class.\n",
    "a = o.get_type('activity.activity')\n",
    "nr = o.get_type('designing.numerical_requirement')\n",
    "fc = o.get_type('designing.forcing_constraint')"
   ]
  },
  {
   "cell_type": "code",
   "execution_count": 10,
   "metadata": {
    "collapsed": false
   },
   "outputs": [],
   "source": [
    "# Numerical requirement is a sub-class of activity.\n",
    "assert nr.base == a"
   ]
  },
  {
   "cell_type": "code",
   "execution_count": 11,
   "metadata": {
    "collapsed": true
   },
   "outputs": [],
   "source": [
    "# Forcing constraint is a sub-class of numerical requirement.\n",
    "assert fc.base == nr\n",
    "assert a in fc.bases"
   ]
  },
  {
   "cell_type": "code",
   "execution_count": 12,
   "metadata": {
    "collapsed": false
   },
   "outputs": [
    {
     "data": {
      "text/plain": [
       "[activity.conformance,\n",
       " activity.ensemble,\n",
       " data.simulation,\n",
       " designing.numerical_experiment,\n",
       " designing.numerical_requirement,\n",
       " designing.project,\n",
       " designing.simulation_plan,\n",
       " activity.uber_ensemble,\n",
       " data.downscaling,\n",
       " designing.domain_requirements,\n",
       " designing.ensemble_requirement,\n",
       " designing.forcing_constraint,\n",
       " designing.initialisation_requirement,\n",
       " designing.multi_ensemble,\n",
       " designing.output_requirement,\n",
       " designing.start_date_ensemble,\n",
       " designing.temporal_constraint]"
      ]
     },
     "execution_count": 12,
     "metadata": {},
     "output_type": "execute_result"
    }
   ],
   "source": [
    "# What other sub-classes ?\n",
    "a.sub_classes"
   ]
  }
 ],
 "metadata": {
  "kernelspec": {
   "display_name": "Python 2",
   "language": "python",
   "name": "python2"
  },
  "language_info": {
   "codemirror_mode": {
    "name": "ipython",
    "version": 2
   },
   "file_extension": ".py",
   "mimetype": "text/x-python",
   "name": "python",
   "nbconvert_exporter": "python",
   "pygments_lexer": "ipython2",
   "version": "2.7.10"
  }
 },
 "nbformat": 4,
 "nbformat_minor": 0
}
