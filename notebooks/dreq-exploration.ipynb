{
 "cells": [
  {
   "cell_type": "markdown",
   "metadata": {},
   "source": [
    "## Setup"
   ]
  },
  {
   "cell_type": "code",
   "execution_count": 1,
   "metadata": {
    "collapsed": true
   },
   "outputs": [],
   "source": [
    "import dreq"
   ]
  },
  {
   "cell_type": "code",
   "execution_count": 2,
   "metadata": {
    "collapsed": false
   },
   "outputs": [
    {
     "name": "stdout",
     "output_type": "stream",
     "text": [
      "C4MIP quantify and understand land and ocean carbon cycle feedbacks with climate\n",
      "C4MIP quantitative evaluation of carbon cycle and other BGC components of the Earth System\n",
      "C4MIP projections of future carbon fluxes and stores and implications for carbon budgets to achieve targets\n",
      "CFMIP What physical processes and mechanisms are important for a credible simulation of clouds, cloud feedbacks and cloud adjustments in climate models?  Which models have the most credible representations of processes relevant to the simulation of clouds?\n",
      "CFMIP How do clouds and their changes interact with other elements of the climate system?\n",
      "CFMIP How well do clouds and other relevant variables simulated by models agree with observations?\n",
      "DAMIP Attempt to understand past climate change and constrain future projections with observations of past climates.\n",
      "DCPP Origin, mechanisms and predictability of long timescale variations including the current hiatus and similar variations of both signs\n",
      "DCPP Decadal predictability and forecast skill of forced and internally generated climate components\n",
      "DCPP Effect of volcanoes on decadal variability,  predictability and skill\n",
      "DCPP Quasi-operational decadal predictions and their utility for the GFCS and for applications in general\n",
      "FAFMIP Response of the ocean to surface flux forcing, in regard to sea level change, ocean heat uptake, density and circulation change\n",
      "FAFMIP characterize subgrid scale parameterizations: - parameterized eddy coefficients to characterize subgrid scale schemes; - impacts on eddy energetics.\n",
      "GeoMIP Simulations of geoengineering, particularly multi-model simulations like those found in GeoMIP, can reveal the dominant processes that contribute to systematic model biases.\n",
      "GeoMIP One of the goals of GeoMIP is to understand the Earth System's response to climate forcing agents -u2014- both single forcing agents and combinations of forcings.\n",
      "GeoMIP Geoengineering has been proposed as a method of addressing future climate change.  One of the goals of GeoMIP is to assess the feasibility and resulting effects on the climate of using geoengineering to address climate change.  There is also evidence to suggest that geoengineering can be used to manage some forms of uncertainty in dealing with future climate projections.\n",
      "GMMIP understand the roles of SST forcing and external forcings\n",
      "GMMIP understand the combined thermal and mechanical forcing of other plateaus except the TIP.\n",
      "GMMIP understand the combined thermal and mechanical forcing of the TIP.\n",
      "GMMIP compare of impact of removing thermal effects.\n",
      "GMMIP understand the forcing of IPO-related tropical SST to global monsoon changes.\n",
      "GMMIP understand the forcing of AMO-related SST to global monsoon changes\n",
      "HighResMIP Improvement in the simulation of ocean and sea-ice dynamics and the exchange with the overlying atmopshere in hot spots such as the Gulf Stream\n",
      "HighResMIP Improvements in the simulation of extreme events such as heat waves, drought and floods and their drivers\n",
      "HighResMIP Improvement of the simulation of large scale atmospheric circulation phenomena such as ENSO, storm tracks, blocking, monsoons, global water cycle\n",
      "HighResMIP Improvement in the simulation of small scale weather phenomena with potentially severe impacts, such as tropical cyclones, polar lows\n",
      "HighResMIP Very high frequency diagnostics are needed to better understand the performance of particularly important model schemes (such as convection) and be able to understand differences between models more thoroughly.\n",
      "HighResMIP Study of simulated tropical cyclone variability, intensity and position, better understand long term variability, interactions with ocean, and possible future changes\n",
      "HighResMIP Improved understanding of biases in the simulated diurnal cycle, and potential consequences for surface fluxes, energy cycle, and extremes\n",
      "HighResMIP Diagnostics to support collaboration with CORDEX\n",
      "ISMIP6 Describe the ice sheet state (example are velocities, thickness)\n",
      "ISMIP6 Allows an analysis of climate over and surrounding ice sheets. This is applicable for any climate model. It does not matter if the AOGCM does  not have a coupled ice sheet model. What is important is that the atmospheric fields are saved over the ice sheet portion of the grid cell to avoid contamination of permafrost for example\n",
      "ISMIP6 Allows an analysis of the downscaling of climate variables over ice sheets. This is only needed when models have a downscaling capability\n",
      "ISMIP6 Attempt to constrain climate sensitivity and feedbacks due to ice sheets\n",
      "ISMIP6 Provide climate data sets useful in driving ice sheet standalone models (examples are temperature and surface mass balance).\n",
      "LS3MIP diagnose systematic biases in the land modules of current ESMs using constrained land-module only experiments\n",
      "LS3MIP provide a comprehensive assessment of land surface-,  snow-, and soil moisture-climate feedbacks\n",
      "LUMIP Assess and quantify the biogeophysical and carbon cycle consequences for climate of historic and future land cover and land use change\n",
      "PMIP analysis of mechanisms of climate variability on long (decadal to centennial) time-scales\n",
      "PMIP response of climate forcing to natural forcings: atmospheric composition, insolation, ice-sheets; role of feedbacks: clouds, ocean, sea-ice, vegetation, aerosols...\n",
      "PMIP Link climate changes to quantities measured to reconstruct paleoclimates: vegetation or ocean biological characteristics, ice-sheets, isotopic tracers (in particular carbon and oxygen) in ocean, land and ice-sheets\n",
      "PMIP systematic biases : benchmarking (with comparison with results of previous PMIP phases PMIP1, 2, 3)\n",
      "PMIP Run regional climate models for past climate changes, following the same methods as CORDEX for future climate, to test these models in for climates very different from now, and to study the spatial extent of significance for paleo-data\n",
      "RFMIP Quantifying adjustments of clouds, precip, land-temperature etc.\n",
      "RFMIP CMIP6 Historical Simulations with prescribed aerosol optical properties for  use in detection atribution studies aimed at identifying magnitude of aerosol forcing.  These runs differ from the corresponding DAMIP runs only in that they require all models to use the same prescribed aerosol forcings.    This distinction is not meaningful when models anyway use the RFMIP historical aerosol climatology as their default.\n",
      "RFMIP Evaluate model instantaneous radiative forcing from aerosols\n",
      "RFMIP Evaluate model effective radaitive forcing using fixed SST and sea-ice experiments. Concentrating on present day forcing but also looking at some past and future forcings\n",
      "RFMIP Evaluate model instantaneous radiative forcing and fluxes from greenhouse gases\n",
      "RFMIP CMIP AMIP simulations with prescribed aerosol properties  are designed to  diagnose effective radiative forcing and robust circulation changes associated with the RFMIP (Prescribed) aerosol forcing.\n",
      "ScenarioMIP Attempt to constrain climate sensitivity with observations of past climates (example ...)\n",
      "ScenarioMIP Provide climate data sets useful in driving ecosystem models under paleo conditions  (example ....)\n",
      "VolMIP Improve understanding of volcanic radiative forcing and constrain related uncertainties. Volcanic eruptions are among the largest sources of uncertainty in historical radiative forcing .\n",
      "VolMIP A systematical assessment of regional climate variability - and associated predictability and prediction - during periods of strong volcanic forcing at both intraseasonal-to-seasonal and interannual-to-decadal time scales\n",
      "VolMIP Improve the characterization of volcanic forcing and associated climate sensitivity through improved understanding of how the hydrological cycle and the large-scale circulation respond to volcanic forcing, through improved understanding of forced responses of the coupled ocean-atmosphere system, and through improved assessment of internal variability.\n",
      "VolMIP Evaluate models against observations. This objective is motivated by the mismatch between observed and modeled seasonal to interannual dynamical responses to volcanic eruptions during the instrumental period, for instance the 1991 Pinatubo eruptions\n",
      "VolMIP Evaluate models against paleo reconstructions This objective is motivated by the mismatch between simulated and reconstructed post-eruption surface cooling for volcanic eruptions during the last millennium\n",
      "VolMIP Improve understanding of the mechanism(s) underlying the dynamical atmospheric response to large volcanic eruptions, in particular separating them from the direct radiative response\n",
      "VolMIP Improve understanding of the mechanism(s) underlying the dynamical climate response to large volcanic eruptions, in particular concerning influence on decadal variability\n",
      "CORDEX Assess downscaled projections of regional climate change\n",
      "CORDEX Assess potential for regional climate change detection through downscaling of pre-industrial climate\n",
      "CORDEX Assess regional climate change signal/noise ratios from analyses of climate change and internal variability generated by CMIP GCMs\n",
      "DynVar Evaluation of the dynamics of momentum transport in the free atmosphere and at the surface, to understand how dynamical processes contribute to persistent model biases in the mean state and variability of the atmosphere. In the free atmosphere, limited to the  Transformed Eulerian Mean (TEM) zonal momentum balace [2D, daily and monthly.  The TEM diagnostics must be calculated from high frequency (6hr or shorter time intervals) atmospheric fields. The  TEM diagnostics here requested are derived from the TEM primitivie equations in spherical, log-pressure coordinates, see  Andrews et al (1987): Middle Atmospheric Dynamics. Accademic Press. Additional tendencies are requested, for gravity wave diagnostics. The surface momentum balance is 2D, XY, daily and monthly.\n",
      "DynVar Evaluation of the dynamics of heat transfer in the free atmosphere, characterize impacts of external radiative forcing (solar, volcanic, antropogenic) and enable analysis to break down feedbacks in Earth System models. Additional tendencies are requested, for gravity wave diagnostics.\n",
      "DynVar Evaluation of atmospheric variability across time and spacial scales, including model biases in the position, strength, and statistics of blocking events, storm tracks and the stratospheric polar vortex. Estimate of changes in atmospheric variability. Collateral objectives:  Evaluation of the atmospheric mean state and its changes.\n",
      "SIMIP Allow an analysis of the sea-ice heat budget\n",
      "SIMIP Allow an analysis of the sea-ice salt budget\n",
      "SIMIP Allow an analysis of the sea-ice momentum budget\n",
      "SIMIP Describe sea-ice state\n",
      "VIACSAB Caribbean requirements input to VIACSAB\n",
      "VIACSAB APECOSM requirements input to VIACSAB\n",
      "VIACSAB climateServices requirements input to VIACSAB\n",
      "VIACSAB BOATS requirements input to VIACSAB\n",
      "VIACSAB OSMOSE requirements input to VIACSAB\n",
      "VIACSAB FISH-MIP requirements input to VIACSAB\n",
      "VIACSAB Atlantis requirements input to VIACSAB\n",
      "VIACSAB Malaria requirements input to VIACSAB\n",
      "VIACSAB DBPM requirements input to VIACSAB\n",
      "VIACSAB Arctic requirements input to VIACSAB\n",
      "VIACSAB AgMIP requirements input to VIACSAB\n",
      "VIACSAB EwE requirements input to VIACSAB\n",
      "VIACSAB SEAPODYM requirements input to VIACSAB\n",
      "VIACSAB SMHI-FoUo requirements input to VIACSAB\n",
      "VIACSAB DBEM requirements input to VIACSAB\n",
      "VIACSAB CSP requirements input to VIACSAB\n",
      "VIACSAB POEM requirements input to VIACSAB\n",
      "VIACSAB Madingley requirements input to VIACSAB\n",
      "VIACSAB ISI-MIP requirements input to VIACSAB\n",
      "VIACSAB Macroecological requirements input to VIACSAB\n",
      "VIACSAB SICCME requirements input to VIACSAB\n"
     ]
    }
   ],
   "source": [
    "# Initialize prior to usage - loads & parses dreq.xml & dreq2Defn.xml.\n",
    "dreq.initialize()"
   ]
  },
  {
   "cell_type": "markdown",
   "metadata": {},
   "source": [
    "## Data Request Configuration"
   ]
  },
  {
   "cell_type": "markdown",
   "metadata": {},
   "source": [
    "### Tables"
   ]
  },
  {
   "cell_type": "code",
   "execution_count": null,
   "metadata": {
    "collapsed": false
   },
   "outputs": [],
   "source": [
    "# Config tables are loaded into memory upon initialisation.\n",
    "assert len(dreq.config) == 24\n",
    "\n",
    "# Config tables can be iterated very simply.\n",
    "for table in dreq.config:\n",
    "    pass\n",
    "\n",
    "# Config tables are represented internally by the ConfigTable class.\n",
    "for table in dreq.config:\n",
    "    assert isinstance(table, dreq.ConfigTable)\n",
    "\n",
    "# Config tables have standard properties (pulled from XML attributes defined upon <table> XML element).\n",
    "for prop in ['description', 'label', 'uid', 'id', 'item_label_mode', 'level', 'max_occurs', 'is_lab_unique']:\n",
    "    for table in dreq.config:\n",
    "        assert hasattr(table, prop)\n",
    "\n",
    "# Config tables also gain a new property: label_pythonic derived from dreq.LABEL_MAP.\n",
    "for table in dreq.config:\n",
    "    assert table.label_pythonic == table.label if table.label not in dreq.LABEL_MAP else dreq.LABEL_MAP[table.label]"
   ]
  },
  {
   "cell_type": "code",
   "execution_count": null,
   "metadata": {
    "collapsed": false
   },
   "outputs": [],
   "source": [
    "# Reference a specific config table.\n",
    "assert dreq.config.exptgroup is not None\n",
    "assert dreq.config.experiment_group is not None   # pythonic label\n",
    "\n",
    "# Reference a specific config table - dict style (case insensitive).\n",
    "assert dreq.config['exptgroup'] is not None\n",
    "assert dreq.config['ExPTgroup'] is not None\n",
    "assert dreq.config['experiment_group'] is not None\n",
    "assert dreq.config['ExPeriMent_group'] is not None"
   ]
  },
  {
   "cell_type": "markdown",
   "metadata": {
    "collapsed": false
   },
   "source": [
    "### Table Attributes"
   ]
  },
  {
   "cell_type": "code",
   "execution_count": null,
   "metadata": {
    "collapsed": false
   },
   "outputs": [],
   "source": [
    "# Config table attributes are loaded into memory upon initialisation.\n",
    "for table in dreq.config:\n",
    "    assert len(table) > 0\n",
    "    \n",
    "# Config tables attributes can be iterated very simply.\n",
    "for table in dreq.config:\n",
    "    for attr in table:\n",
    "        pass\n",
    "\n",
    "# Config table attributes are represented internally by the ConfigTableAttribute class.\n",
    "for table in dreq.config:\n",
    "    for attr in table:\n",
    "        assert isinstance(attr, dreq.ConfigTableAttribute)\n",
    "\n",
    "# Config table attribute properties are pulled from <rowAttribute> XML elements.\n",
    "for table in dreq.config.tables:\n",
    "    for attr in table:\n",
    "        assert hasattr(attr, 'label')\n",
    "        assert hasattr(attr, 'type')\n",
    "        assert hasattr(attr, 'title')\n",
    "        assert hasattr(attr, 'required')\n",
    "        assert hasattr(attr, 'uid')\n",
    "\n",
    "# Config table attributes also gain new properties.\n",
    "for table in dreq.config.tables:\n",
    "    for attr in table:\n",
    "        assert hasattr(attr, 'default_value')\n",
    "        assert hasattr(attr, 'name')\n",
    "        assert hasattr(attr, 'type_python')"
   ]
  },
  {
   "cell_type": "code",
   "execution_count": null,
   "metadata": {
    "collapsed": false
   },
   "outputs": [],
   "source": [
    "# Reference all config table attributes.\n",
    "experiment = dreq.config.experiment\n",
    "assert isinstance(experiment.attributes, list)\n",
    "\n",
    "# Reference required config table attributes.\n",
    "assert len(experiment.required_attributes) == 2\n",
    "        \n",
    "# Reference a single config table attribute (N.B. case insensitive).\n",
    "assert experiment['ntot'] == experiment['NTOT'] == experiment['NtOt']"
   ]
  },
  {
   "cell_type": "markdown",
   "metadata": {},
   "source": [
    "## Data Request Content"
   ]
  },
  {
   "cell_type": "markdown",
   "metadata": {},
   "source": [
    "### Sections"
   ]
  },
  {
   "cell_type": "code",
   "execution_count": null,
   "metadata": {
    "collapsed": false
   },
   "outputs": [],
   "source": [
    "# Content sections are loaded into memory upon initialisation.\n",
    "assert len(dreq.content) == 24\n",
    "\n",
    "# Content sections can be iterated very simply.\n",
    "for section in dreq.content:\n",
    "    pass\n",
    "\n",
    "# Content sections are represented internally by the ContentSection class.\n",
    "for section in dreq.content:\n",
    "    assert isinstance(section, dreq.ContentSection)\n",
    "    \n",
    "# Content sections are associated with it's config table.\n",
    "for section in dreq.content:\n",
    "    assert isinstance(section.cfg, dreq.ConfigTable)"
   ]
  },
  {
   "cell_type": "code",
   "execution_count": null,
   "metadata": {
    "collapsed": false,
    "scrolled": true
   },
   "outputs": [],
   "source": [
    "# Reference a specific content section.\n",
    "assert dreq.content.exptgroup is not None\n",
    "assert dreq.content.experiment_group is not None   # pythonic label\n",
    "\n",
    "# Reference a specific content section - dict style (case insensitive).\n",
    "assert dreq.content['exptgroup'] is not None\n",
    "assert dreq.content['ExPTgroup'] is not None\n",
    "assert dreq.content['experiment_group'] is not None\n",
    "assert dreq.content['ExPeriMent_group'] is not None"
   ]
  },
  {
   "cell_type": "markdown",
   "metadata": {
    "collapsed": false
   },
   "source": [
    "### Items"
   ]
  },
  {
   "cell_type": "code",
   "execution_count": null,
   "metadata": {
    "collapsed": false
   },
   "outputs": [],
   "source": [
    "# Content section items are loaded into memory upon initialisation.\n",
    "for section in dreq.content:\n",
    "    assert len(section) > 0\n",
    "    \n",
    "# Content section items can be iterated very simply.\n",
    "for section in dreq.content:\n",
    "    for item in section:\n",
    "        pass\n",
    "\n",
    "# Content section items are represented internally by the ContentSectionItem class.\n",
    "for section in dreq.content:\n",
    "    for item in section:\n",
    "        assert isinstance(item, dreq.ContentSectionItem)"
   ]
  },
  {
   "cell_type": "code",
   "execution_count": null,
   "metadata": {
    "collapsed": false
   },
   "outputs": [],
   "source": [
    "# Reference all content section items.\n",
    "experiment = dreq.content.experiment\n",
    "assert isinstance(experiment.items, list)\n",
    "\n",
    "# Reference a single content section item (N.B. case insensitive).\n",
    "assert experiment['historical'] == experiment['HISTORICAL'] == experiment['HiSTOrical']"
   ]
  },
  {
   "cell_type": "code",
   "execution_count": null,
   "metadata": {
    "collapsed": false
   },
   "outputs": [],
   "source": [
    "# Section content item property access is simple.\n",
    "historical = experiment['historical']\n",
    "assert historical.description == 'CMIP6 historical'\n",
    "assert historical.mip == 'CMIP6'\n",
    "assert historical.tier == '1'\n",
    "assert historical.ntot == 150\n",
    "assert historical.yps == 150"
   ]
  },
  {
   "cell_type": "markdown",
   "metadata": {},
   "source": [
    "### Queries"
   ]
  },
  {
   "cell_type": "code",
   "execution_count": null,
   "metadata": {
    "collapsed": false
   },
   "outputs": [],
   "source": [
    "# Get a content section.\n",
    "mips = dreq.query('mip')\n",
    "assert len(mips) == 28 "
   ]
  },
  {
   "cell_type": "code",
   "execution_count": null,
   "metadata": {
    "collapsed": false
   },
   "outputs": [],
   "source": [
    "# Get a content section item.\n",
    "assert dreq.query('mip', 'cmip6') is not None"
   ]
  },
  {
   "cell_type": "code",
   "execution_count": null,
   "metadata": {
    "collapsed": false
   },
   "outputs": [],
   "source": [
    "# Get a content section item property.\n",
    "assert dreq.query('mip', 'cmip6', 'url') == \"http://www.wcrp-climate.org/wgcm-cmip/wgcm-cmip6\""
   ]
  },
  {
   "cell_type": "code",
   "execution_count": null,
   "metadata": {
    "collapsed": false
   },
   "outputs": [],
   "source": [
    "i = dreq.content['experiment']\n",
    "\n",
    "for j in i:\n",
    "    print j.label, j.mip"
   ]
  },
  {
   "cell_type": "code",
   "execution_count": null,
   "metadata": {
    "collapsed": false
   },
   "outputs": [],
   "source": [
    "for mip in sorted(dreq.content['mip'], key=lambda i: i.label):\n",
    "    print mip, \",\", mip.url"
   ]
  },
  {
   "cell_type": "code",
   "execution_count": null,
   "metadata": {
    "collapsed": false
   },
   "outputs": [],
   "source": [
    "dreq.query('mip', 'SIMIP', 'url', options={'all': true})"
   ]
  },
  {
   "cell_type": "code",
   "execution_count": null,
   "metadata": {
    "collapsed": true
   },
   "outputs": [],
   "source": []
  }
 ],
 "metadata": {
  "kernelspec": {
   "display_name": "Python 2",
   "language": "python",
   "name": "python2"
  },
  "language_info": {
   "codemirror_mode": {
    "name": "ipython",
    "version": 2
   },
   "file_extension": ".py",
   "mimetype": "text/x-python",
   "name": "python",
   "nbconvert_exporter": "python",
   "pygments_lexer": "ipython2",
   "version": "2.7.10"
  }
 },
 "nbformat": 4,
 "nbformat_minor": 0
}
