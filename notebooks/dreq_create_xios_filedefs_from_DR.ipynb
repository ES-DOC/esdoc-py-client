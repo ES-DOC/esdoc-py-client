{
 "cells": [
  {
   "cell_type": "markdown",
   "metadata": {},
   "source": [
    "## A propotype for generating XIOS file_def entries from CMIP6 Data Request API for a given year of an experiment, and a modeling realm"
   ]
  },
  {
   "cell_type": "markdown",
   "metadata": {},
   "source": [
    "### First version : Stéphane Sénési - Feb 2016"
   ]
  },
  {
   "cell_type": "markdown",
   "metadata": {},
   "source": [
    "#### File_def entries will refer to XIOS 'fields' which names are CMOR variable names : we assume that some upstream field_def entries have managed to match model diagnostics to CMOR variables, both for name and units. "
   ]
  },
  {
   "cell_type": "markdown",
   "metadata": {},
   "source": [
    "#### Current shortcomings  : a lot, including that : i) a DR 'realm'is assumed to match an XIOS 'context', ii) split_freq should depend on field dimensions, iii) not all global attributes are set , iv) must clarify the variables name choice ...."
   ]
  },
  {
   "cell_type": "markdown",
   "metadata": {},
   "source": [
    "### 1- Modeling center settings - should be read from a config file"
   ]
  },
  {
   "cell_type": "code",
   "execution_count": 1,
   "metadata": {
    "collapsed": false
   },
   "outputs": [],
   "source": [
    "institute_id=\"CNRM\"\n",
    "institute=\"Centre National de Recherches Météorologiques\"\n",
    "model=\"CNRM CM6\"\n",
    "model_id=\"CNRM-CM6\"\n",
    "model2=\"\" # Offline model id - must include '--' prefix if not empty . TBD : really handle it \n",
    "#contact=\"cmip6.data@meteo.fr\"   # Deprecated\n",
    "references=\"...\"\n",
    "\n",
    "# We account for the list of MIPS in which the lab takes part.\n",
    "# Note : a MIPs set limited to {'C4MIP'} leads to a number of tables and variables which is manageable for eye inspection\n",
    "our_mips={'C4MIP'}  \n",
    "\n",
    "# We account for a list of variables which the lab does not want to produce , \n",
    "# excluded_vars_file=\"../../cnrm/non_published_variables\"\n",
    "\n",
    "# Max variable priority level to be output\n",
    "max_priority=3"
   ]
  },
  {
   "cell_type": "markdown",
   "metadata": {},
   "source": [
    "### 2- Data defining the project, and experiment - to be set/translated by the simulation workflow from its own experiment metadata container"
   ]
  },
  {
   "cell_type": "code",
   "execution_count": 2,
   "metadata": {
    "collapsed": false
   },
   "outputs": [],
   "source": [
    "project=\"CMIP6\"\n",
    "project_id=\"CMIP6\"\n",
    "activity_label=\"CMIP6\" # MIP specifying the experiment. For historical, it is CMIP6 itself\n",
    "experiment_id=\"historical\"\n",
    "experiment=\"Historical ...\" # Should be found in DR from exp_id\n",
    "realization_index=1\n",
    "initialization_index=1\n",
    "physics_index=1\n",
    "forcing_index=1\n",
    "grid_index=0\n",
    "sub_experiment_index=\"\" # Must begin with '-E' if not empty\n",
    "start_date=\"\" # Must begin with '-' if not empty\n",
    "parent_experiment_id=\"piControl\"\n",
    "parent_experiment_ripfg=\"r1i0p0f0g0\"\n",
    "# forcing=\"...\"  # Deprecated\n",
    "history=\"...\"\n",
    "ensemble_member=\"r%di%dp%df%d\"%(realization_index, initialization_index, physics_index, forcing_index)\n",
    "title=\"%s%s model output prepared for CMIP6 %s%s\"%(model_id,model2,experiment_id,sub_experiment_index)\n",
    "\n",
    "comment=\"...\"  #Specific to the experiment and possibly to the table - should then be moved eslewhere\n",
    "\n",
    "#Still missing : \n",
    "# convention, (start_date), (lead_time), creation_date, \n",
    "# branch_time_in_parent, branch_method, branch_time_units_in_parent, branch_time_in_child, \n",
    "# further_info_url, terms_of_use_tracking_id"
   ]
  },
  {
   "cell_type": "markdown",
   "metadata": {},
   "source": [
    "### 3- Which year and which realm are we currently processing (should be arguments for a function)"
   ]
  },
  {
   "cell_type": "code",
   "execution_count": 3,
   "metadata": {
    "collapsed": false
   },
   "outputs": [],
   "source": [
    "year=1850\n",
    "# We could conisder processing all realms at once. \n",
    "the_realm='land'"
   ]
  },
  {
   "cell_type": "markdown",
   "metadata": {},
   "source": [
    "### 4- Read the Data Request "
   ]
  },
  {
   "cell_type": "code",
   "execution_count": 4,
   "metadata": {
    "collapsed": false
   },
   "outputs": [],
   "source": [
    "from dreq import *\n",
    "dq = loadDreq()"
   ]
  },
  {
   "cell_type": "code",
   "execution_count": 5,
   "metadata": {
    "collapsed": false
   },
   "outputs": [],
   "source": [
    "#for m in dq.coll['exptgroup'].items : print m.label,"
   ]
  },
  {
   "cell_type": "code",
   "execution_count": 6,
   "metadata": {
    "collapsed": false
   },
   "outputs": [
    {
     "name": "stdout",
     "output_type": "stream",
     "text": [
      "CMIP6  AerChemMIP  C4MIP  CFMIP  DAMIP  DCPP  FAFMIP  GeoMIP  GMMIP  HighResMIP  ISMIP6  LS3MIP  LUMIP  OMIP  PDRMIP  PMIP  RFMIP  ScenarioMIP  SolarMIP  VolMIP  CORDEX  DynVar  SIMIP  VIACSAB  SPECS  CCMI  CMIP5  DECK \n"
     ]
    }
   ],
   "source": [
    "allMIPS=[]\n",
    "for m in dq.coll['mip'].items : allMIPS.append(m.label)\n",
    "for m in allMIPS : print m+\" \","
   ]
  },
  {
   "cell_type": "code",
   "execution_count": 7,
   "metadata": {
    "collapsed": false
   },
   "outputs": [],
   "source": [
    "for e in dq.coll['experiment'].items : \n",
    "    if e.label==experiment_id :\n",
    "        #e.__info__()\n",
    "        pass"
   ]
  },
  {
   "cell_type": "markdown",
   "metadata": {},
   "source": [
    "### 5- Use class dreqQuery and method getRequestLinks to list requestLinks for our set of MIPs"
   ]
  },
  {
   "cell_type": "code",
   "execution_count": 8,
   "metadata": {
    "collapsed": false
   },
   "outputs": [
    {
     "name": "stdout",
     "output_type": "stream",
     "text": [
      "Item <3.3 Request link: linking a set of variables and a set of experiments>: [__unset__] Omon\n",
      "Omon __unset__ Omon CMIP5Rev\n"
     ]
    }
   ],
   "source": [
    "from scope import dreqQuery\n",
    "sc = dreqQuery(dq=dq, tierMax=3)\n",
    "miprls=sc.getRequestLinkByMip(our_mips)\n",
    "# Look at one requestLink\n",
    "rl0=miprls[0]\n",
    "print rl0\n",
    "print rl0.title, rl0.label, rl0.tab,rl0.ref\n",
    "#miprls"
   ]
  },
  {
   "cell_type": "markdown",
   "metadata": {},
   "source": [
    "### 6- A function to filter RequestLinks by the current experiment and the year currently processed"
   ]
  },
  {
   "cell_type": "code",
   "execution_count": 9,
   "metadata": {
    "collapsed": false
   },
   "outputs": [],
   "source": [
    "def RequestItem_applies_for_exp_and_year(dq,ri,experiment,year,debug=False):\n",
    "    \"\"\" Returns True if requestItem ri is relevant for a given experiment and year \"\"\"\n",
    "    # Acces experiment or experiment group for the RequestItem\n",
    "    if (debug) : print \"Checking \",\"% 15s\"%ri.label,\n",
    "    item_exp=dq.inx.uid[ri.esid]\n",
    "    relevant=False\n",
    "    exps=dq.coll['experiment'].items\n",
    "    # esid can link to an experiment or an experiment group\n",
    "    if item_exp._h.label== 'experiment' :\n",
    "        if (debug) : print \"%20s\"%\"Simple Expt case\", item_exp.label,\n",
    "        if item_exp.label==experiment : \n",
    "            if (debug) : print \" OK\",\n",
    "            relevant=True\n",
    "    elif item_exp._h.label== 'exptgroup' :\n",
    "        if (debug)  : print \"%20s\"%\"Expt Group case \",item_exp.label,\n",
    "        group_id=ri.esid\n",
    "        for e in exps :\n",
    "            if 'gid' in dir(e) and e.gid == group_id and e.label==experiment : \n",
    "                if (debug) :  print \" OK for experiment\",\n",
    "                relevant=True\n",
    "    elif item_exp._h.label== 'mip' :\n",
    "        mip_id=ri.esid\n",
    "        if (debug)  : print \"%20s\"%\"Mip case \",dq.inx.uid[mip_id].label,\n",
    "        for e in exps :\n",
    "            if 'mip' in dir(e) and e.mip == mip_id :\n",
    "                if (debug) :  print e.label,\",\",\n",
    "                if e.label==experiment : \n",
    "                    if (debug) :  print \" OK for experiment\",\n",
    "                    relevant=True\n",
    "    else :\n",
    "        # TBD !! : understand what is happening in that case \n",
    "        if (debug)  : print \"%20s\"%'Other case , label=%s|'%item_exp._h.label,\n",
    "    if relevant :\n",
    "        if 'tslice' in ri.__dict__ and ri.tslice != '__unset__' :\n",
    "            timeslice=dq.inx.uid[ri.tslice]\n",
    "            if (debug) : print \"OK for the year\"\n",
    "            return year >= timeslice.start and year<=timeslice.end\n",
    "        else :\n",
    "            # TBD : !! test once timeSlices will be set in DR\n",
    "            if (debug)  : print \"tslice not set -> OK for the year\"\n",
    "            return True\n",
    "    if (debug)  : print \"NOK\"\n",
    "    return False"
   ]
  },
  {
   "cell_type": "markdown",
   "metadata": {},
   "source": [
    "### 7- Let us apply the filter"
   ]
  },
  {
   "cell_type": "code",
   "execution_count": 10,
   "metadata": {
    "collapsed": false
   },
   "outputs": [
    {
     "name": "stdout",
     "output_type": "stream",
     "text": [
      "Number of Request Links which apply to historical for MIPS ['C4MIP'] and year 1850 is: 15\n"
     ]
    }
   ],
   "source": [
    "filtered_rls=[]\n",
    "for rl in miprls :\n",
    "    # Access all requesItems ids which refer to this RequestLink\n",
    "    ri_ids=dq.inx.iref_by_sect[rl.uid].a['requestItem']\n",
    "    for ri_id in ri_ids :\n",
    "        ri=dq.inx.uid[ri_id]\n",
    "        #print \"Checking requestItem \",ri.label\n",
    "        if RequestItem_applies_for_exp_and_year(dq,ri,experiment_id, year,False) :\n",
    "            #print \"% 25s\"%ri.label,\" applies \"\n",
    "            filtered_rls.append(rl)\n",
    "\n",
    "print \"Number of Request Links which apply to\",experiment_id,\"for MIPS\", list(our_mips), \"and year\",year,\"is:\",len(filtered_rls)"
   ]
  },
  {
   "cell_type": "markdown",
   "metadata": {},
   "source": [
    "### 8- Use dreqQuery method varsByRql to get the list of CMOR variables for these RequestLinks (using max_priority)"
   ]
  },
  {
   "cell_type": "code",
   "execution_count": 11,
   "metadata": {
    "collapsed": false
   },
   "outputs": [
    {
     "name": "stdout",
     "output_type": "stream",
     "text": [
      "Numer of CMOR variables for these requestLinks is : 735\n"
     ]
    }
   ],
   "source": [
    "miprl_ids=[ rl.uid for rl in filtered_rls ]\n",
    "miprl_vars=sc.varsByRql(miprl_ids, pmax=max_priority)\n",
    "print 'Numer of CMOR variables for these requestLinks is :',len(miprl_vars)\n",
    "miprl_vars_list=list(miprl_vars)"
   ]
  },
  {
   "cell_type": "markdown",
   "metadata": {},
   "source": [
    "### 9- Have a look at one CMOR variable"
   ]
  },
  {
   "cell_type": "code",
   "execution_count": 12,
   "metadata": {
    "collapsed": false
   },
   "outputs": [
    {
     "name": "stdout",
     "output_type": "stream",
     "text": [
      "froc ocnBgchem mon Omon __unset__ real\n"
     ]
    }
   ],
   "source": [
    "v0=dq.inx.uid[miprl_vars_list[0]]\n",
    "print v0.label, v0.modeling_realm, v0.frequency, v0.mipTable, v0.mipTableSection,v0.type\n",
    "#dir(v0)"
   ]
  },
  {
   "cell_type": "markdown",
   "metadata": {},
   "source": [
    "### 10- Group CMOR variables per modeling realm, or per XIOS contex (in a dict of lists)"
   ]
  },
  {
   "cell_type": "code",
   "execution_count": 13,
   "metadata": {
    "collapsed": false
   },
   "outputs": [
    {
     "name": "stdout",
     "output_type": "stream",
     "text": [
      "['seaIce', 'land', 'atmos atmosChem', 'ocean seaIce', 'landIce land', 'ocean', 'atmos', 'land landIce', 'ocnBgchem']\n"
     ]
    }
   ],
   "source": [
    "cmvs_per_realm=dict()\n",
    "for cmv_uid in miprl_vars_list :\n",
    "    cmv=dq.inx.uid[cmv_uid]\n",
    "    # Here, we should use the XIOS context where the variable \n",
    "    # is defined, rather than the realm provided by the DR\n",
    "    # This assumes to access some dict (config file ?) describing these exceptions\n",
    "    if cmv.modeling_realm not in cmvs_per_realm :\n",
    "        cmvs_per_realm[cmv.modeling_realm]=[]\n",
    "    cmvs_per_realm[cmv.modeling_realm].append(cmv_uid)\n",
    "print cmvs_per_realm.keys()"
   ]
  },
  {
   "cell_type": "markdown",
   "metadata": {},
   "source": [
    "### 11- Read the list of the variables that the laboratory does not want to produce"
   ]
  },
  {
   "cell_type": "code",
   "execution_count": 17,
   "metadata": {
    "collapsed": false
   },
   "outputs": [],
   "source": [
    "excluded_vars=[]\n",
    "use_lab_list_for_excluded_variables=False\n",
    "if use_lab_list_for_excluded_variables :\n",
    "    with open(excluded_vars_file) as fi :\n",
    "        for li in fi.readlines(): \n",
    "            # Assume a very simple structure for the file : one \n",
    "            # var per line, with possibly comment lines\n",
    "            if li[0] != '#' :  excluded_vars.append(li)"
   ]
  },
  {
   "cell_type": "markdown",
   "metadata": {},
   "source": [
    "### 12- Filter CMOR variables on the requested realm (or context) and with this list, and group them per table"
   ]
  },
  {
   "cell_type": "code",
   "execution_count": 18,
   "metadata": {
    "collapsed": false
   },
   "outputs": [
    {
     "name": "stdout",
     "output_type": "stream",
     "text": [
      "['emMon', 'em3hr', 'emDay']\n"
     ]
    }
   ],
   "source": [
    "cmvs_pertable=dict()\n",
    "for cmv_uid in cmvs_per_realm[the_realm] :\n",
    "    cmv=dq.inx.uid[cmv_uid]\n",
    "    if cmv.mipTable not in cmvs_pertable :\n",
    "        cmvs_pertable[cmv.mipTable]=[]\n",
    "    if cmv.label not in excluded_vars :\n",
    "        cmvs_pertable[cmv.mipTable].append(cmv)\n",
    "print cmvs_pertable.keys()"
   ]
  },
  {
   "cell_type": "markdown",
   "metadata": {},
   "source": [
    "### 13- Print CMOR variable names, grouped perTable"
   ]
  },
  {
   "cell_type": "code",
   "execution_count": 19,
   "metadata": {
    "collapsed": false
   },
   "outputs": [
    {
     "name": "stdout",
     "output_type": "stream",
     "text": [
      "          emMon   136  ---->  burntFractionAll fFireAll netAtmosLandC13Flux vegHeightTree rh-c14 fg13co2 sf6 c13Litter nStem cropFracC3 treeFracBdlEvg nOther cRoot fProductDecomp fHarvestToProduct vegHeight cropFracC4 c14Veg cProduct nRoot fVegSoil wetlandFrac shrubFrac cLeaf fVegFire nMineral raRoot mrso cStem fNVegSoil cVeg mrsol tran vegFrac grassFracC4 fNVegLitter rhSoil c14Land vegHeightShrub fAnthDisturb gpp-c14 fNLandToOcean nLand fNgas mrsll fNgasFire nLitterCwd grassFracC3 c13Soil c13Land c14Litter residualFrac treeFracNdlEvg fVegLitterSenescence wetlandCH4cons c13Veg fNOx evspsblveg fVegLitter fBNF raStem treeFracNdlDcd nMineralNH4 vegHeightGrass wetlandCH4prod fHarvestToAtmos fFireNat fgcfc12 rh-c13 evspsblsoi fDeforestToProduct cLand ra-c14 nLitterFine fDeforestToAtmos fNloss grassFrac cSoil1m fNup fgsf6 dissoc c14Soil cOther cropFrac mrros dissi14c waterDpth npp netAtmosLandCO2Flux vegHeightCrop lai cLitterSurf cLitterSubSurf nLitter fCLandToOcean cLitterCwd fN2O mrlso cLitter mrsos mrro fNgasNonFire nLeaf treeFracBdlDcd fNLitterSoil mrtws mrsfl fVegLitterMortality fg14co2 fNProduct netAtmosLandC14Flux treeFrac fNnetmin fLitterSoil nSoil fNdep tsl gpp raLeaf rh cfc12 cSoilBelow1m wetlandCH4 nMineralNO3 baresoilFrac ra dissi13c rhLitter ra-c13 nProduct gpp-c13 cSoil prveg nVeg fNleach fLitterFire\n",
      "          em3hr   3  ---->  gpp ra rh\n",
      "          emDay   5  ---->  tsl mrsll lai mrsfl mrsol\n"
     ]
    }
   ],
   "source": [
    "for table in cmvs_pertable :    \n",
    "    print \"% 15s\"%table,\" \",len(cmvs_pertable[table]),\" ----> \",\n",
    "    for cmv in cmvs_pertable[table] : \n",
    "        print cmv.label,\n",
    "    print"
   ]
  },
  {
   "cell_type": "markdown",
   "metadata": {},
   "source": [
    "### 14- Generate an XIOS file_def entry for each table"
   ]
  },
  {
   "cell_type": "code",
   "execution_count": 20,
   "metadata": {
    "collapsed": false
   },
   "outputs": [],
   "source": [
    "def file_def(dic,table) :\n",
    "    \"\"\" From a dictionnary dic which keys are tables and entries are lists of CMOR variables,\n",
    "    generate an XIOS file_def entry . Uses a global dq object\"\"\"\n",
    "    # TBD : identify the frequency from the table and translate it to XIOS syntax\n",
    "    freq=\"1d\"\n",
    "    # WIP Draft on filenames, feb 2016\n",
    "    # <variable>_<table>_<model>[--<model2>]_<experiment>[-{startdate}][-E{sub-experiment index}]_{ensemble_member}[_{time_range}][_{processing}].nc, \n",
    "    time_range=\"$TIME_RANGE_PATTERN_FOR_XIOS$\"\n",
    "    processing=\"_g0\" # Must begin with '_' if not empty\n",
    "    # TBD : logic for computing file level split_frequency from set of variables and their rank ?\n",
    "    out.write('<file name=\"%s_%s%s_%s%s%s_%s%s%s\" '%\\\n",
    "               (table,model_id,model2,experiment,start_date,sub_experiment_index,ensemble_member,time_range,processing))\n",
    "    out.write(' freq_output=\"%s\" append=\"true\" split_freq=\"10y\" timeseries=\"exclusive\" >\\n'%freq)\n",
    "    out.write('  <variable name=\"project_id\" type=\"string\" > %s/%s </variable>\\n'%(project,activity_label))\n",
    "    out.write('  <variable name=\"institute_id\"  type=\"string\" > %s </variable>\\n'%institute_id)\n",
    "    out.write('  <variable name=\"institute\"     type=\"string\" > %s </variable>\\n'%institute)\n",
    "    out.write('  <variable name=\"model_id\"      type=\"string\" > %s </variable>\\n'%model_id)\n",
    "    out.write('  <variable name=\"model\"         type=\"string\" > %s </variable>\\n'%model)\n",
    "    out.write('  <variable name=\"experiment_id\" type=\"string\" > %s </variable>\\n'%experiment_id)\n",
    "    out.write('  <variable name=\"experiment\"    type=\"string\" > %s </variable>\\n'%experiment)\n",
    "    out.write('  <variable name=\"frequency\"     type=\"string\" > %s </variable>\\n'%freq)\n",
    "    out.write('  <variable name=\"realization_index\"    type=\"string\" > %s </variable>\\n'%realization_index)\n",
    "    out.write('  <variable name=\"physics_index\"        type=\"string\" > %s </variable>\\n'%physics_index)\n",
    "    out.write('  <variable name=\"initialization_index\" type=\"string\" > %s </variable>\\n'%initialization_index)\n",
    "    out.write('  <variable name=\"forcing_index\"        type=\"string\" > %s </variable>\\n'%forcing_index)\n",
    "    out.write('  <variable name=\"grid_index\"           type=\"string\" > %s </variable>\\n'%grid_index)\n",
    "    out.write('  <variable name=\"parent_experiment_id\" type=\"string\" > %s </variable>\\n'%parent_experiment_id)\n",
    "    out.write('  <variable name=\"parent_experiment_ripfg\" type=\"string\" > %s </variable>\\n'%parent_experiment_ripfg)\n",
    "    out.write('  <variable name=\"table_id\"       type=\"string\" > %s </variable>\\n'%table)\n",
    "    out.write('  <variable name=\"comment\"        type=\"string\" > %s </variable>\\n'%comment)\n",
    "    #out.write('  <variable name=\"contact\"        type=\"string\" > %s </variable>\\n'%contact)\n",
    "    #out.write('  <variable name=\"forcing\"        type=\"string\" > %s </variable>\\n'%forcing)\n",
    "    out.write('  <variable name=\"history\"        type=\"string\" > %s </variable>\\n'%history)\n",
    "    out.write('  <variable name=\"references\"     type=\"string\" > %s </variable>\\n'%references)\n",
    "    out.write('  <variable name=\"title\"          type=\"string\" > %s </variable>\\n'%title)\n",
    "    if sub_experiment_index is not None and sub_experiment_index != '' :\n",
    "        out.write('    <variable name=\"sub_experiment_index\"           type=\"string\" > %s </variable>\\n'%sub_experiment_index)\n",
    "    #Still missing : convention, start_date, lead_time, creation_date, branch_time_in_parent, \n",
    "    #branch_method, branch_time_units_in_parent, branch_time_in_child, further_info_url, terms_of_use_tracking_id\n",
    "    \n",
    "    for cmv in cmvs_pertable[table] : \n",
    "        # TBD : identify the cell_method wrt to time and translate it to XIOS time_operation\n",
    "        # TBD : logic for computing ts_split_frequency from rank\n",
    "        mipvar=dq.inx.uid[cmv.vid]\n",
    "        stdname=dq.inx.uid[mipvar.sn]\n",
    "        if stdname._h.label != 'standardname':\n",
    "            # Assume that no CF standard is defined for this MIP variable -> \n",
    "            # use MIP variable entries for name and units\n",
    "            slabel=cmv.label\n",
    "            sunits=mipvar.units\n",
    "            sdescription=mipvar.description\n",
    "        else :\n",
    "            slabel=stdname.label\n",
    "            sunits=stdname.units\n",
    "            sdescription=stdname.description[0:30]\n",
    "        structure=dq.inx.uid[cmv.stid]\n",
    "        op=\"average\" # Should be deduced from 'time:' part of cell_method\n",
    "        out.write('  <field field_ref=\"CF_%s\" operation=\"%s\" ts_enabled=\"true\" ts_split_freq=\"10y\">\\n'%(slabel,op))\n",
    "        out.write('     <variable name=\"standard_name\" type=\"string\" > %s </variable>\\n'%slabel)\n",
    "        out.write('     <variable name=\"long_name\"     type=\"string\" > %s </variable>\\n'%mipvar.title)\n",
    "        out.write('     <variable name=\"description\"   type=\"string\" > %s ...  </variable>\\n'%sdescription)\n",
    "        if cmv.positive != \"None\" and cmv.positive != \"\" :\n",
    "            out.write('     <variable name=\"positive\"      type=\"string\" > %s </variable>\\n'%cmv.positive)\n",
    "        out.write('     <variable name=\"cell_methods\"  type=\"string\" > %s </variable>\\n'%structure.cell_methods)\n",
    "        out.write('     <variable name=\"cell_measures\" type=\"string\" > %s </variable>\\n'%structure.cell_measures)\n",
    "        out.write('     </field>\\n')\n",
    "    out.write('<file/>\\n')\n",
    "\n",
    "with open(\"%s.xml\"%the_realm,\"w\") as out :\n",
    "    #for table in cmvs_pertable :    \n",
    "    for table in [ \"em3hr\" ] :    \n",
    "        file_def(cmvs_pertable,table)  \n"
   ]
  },
  {
   "cell_type": "markdown",
   "metadata": {},
   "source": [
    "### 15- Have a look at the XIOS config file 'file_def' section"
   ]
  },
  {
   "cell_type": "code",
   "execution_count": 21,
   "metadata": {
    "collapsed": false
   },
   "outputs": [],
   "source": [
    "%load land.xml"
   ]
  },
  {
   "cell_type": "code",
   "execution_count": null,
   "metadata": {
    "collapsed": false
   },
   "outputs": [],
   "source": [
    "<file name=\"em3hr_CNRM-CM6_Historical ..._r1i1p1f1$TIME_RANGE_PATTERN_FOR_XIOS$_g0\"  freq_output=\"1d\" append=\"true\" split_freq=\"10y\" timeseries=\"exclusive\" >\n",
    "  <variable name=\"project_id\" type=\"string\" > CMIP6/CMIP6 </variable>\n",
    "  <variable name=\"institute_id\"  type=\"string\" > CNRM </variable>\n",
    "  <variable name=\"institute\"     type=\"string\" > Centre National de Recherches Météorologiques </variable>\n",
    "  <variable name=\"model_id\"      type=\"string\" > CNRM-CM6 </variable>\n",
    "  <variable name=\"model\"         type=\"string\" > CNRM CM6 </variable>\n",
    "  <variable name=\"experiment_id\" type=\"string\" > historical </variable>\n",
    "  <variable name=\"experiment\"    type=\"string\" > Historical ... </variable>\n",
    "  <variable name=\"frequency\"     type=\"string\" > 1d </variable>\n",
    "  <variable name=\"realization_index\"    type=\"string\" > 1 </variable>\n",
    "  <variable name=\"physics_index\"        type=\"string\" > 1 </variable>\n",
    "  <variable name=\"initialization_index\" type=\"string\" > 1 </variable>\n",
    "  <variable name=\"forcing_index\"        type=\"string\" > 1 </variable>\n",
    "  <variable name=\"grid_index\"           type=\"string\" > 0 </variable>\n",
    "  <variable name=\"parent_experiment_id\" type=\"string\" > piControl </variable>\n",
    "  <variable name=\"parent_experiment_ripfg\" type=\"string\" > r1i0p0f0g0 </variable>\n",
    "  <variable name=\"table_id\"       type=\"string\" > em3hr </variable>\n",
    "  <variable name=\"comment\"        type=\"string\" > ... </variable>\n",
    "  <variable name=\"history\"        type=\"string\" > ... </variable>\n",
    "  <variable name=\"references\"     type=\"string\" > ... </variable>\n",
    "  <variable name=\"title\"          type=\"string\" > CNRM-CM6 model output prepared for CMIP6 historical </variable>\n",
    "  <field field_ref=\"CF_GrossPrimaryProductivityOfCarbon\" operation=\"average\" ts_enabled=\"true\" ts_split_freq=\"10y\">\n",
    "     <variable name=\"standard_name\" type=\"string\" > GrossPrimaryProductivityOfCarbon </variable>\n",
    "     <variable name=\"long_name\"     type=\"string\" > Carbon Mass Flux out of Atmosphere due to Gross Primary Production on Land </variable>\n",
    "     <variable name=\"description\"   type=\"string\" > Gross primary productivity is  ...  </variable>\n",
    "     <variable name=\"positive\"      type=\"string\" > down </variable>\n",
    "     <variable name=\"cell_methods\"  type=\"string\" > time: mean area: mean where land </variable>\n",
    "     <variable name=\"cell_measures\" type=\"string\" > area: areacella </variable>\n",
    "     </field>\n",
    "  <field field_ref=\"CF_PlantRespirationCarbonFlux\" operation=\"average\" ts_enabled=\"true\" ts_split_freq=\"10y\">\n",
    "     <variable name=\"standard_name\" type=\"string\" > PlantRespirationCarbonFlux </variable>\n",
    "     <variable name=\"long_name\"     type=\"string\" > Carbon Mass Flux into Atmosphere due to Autotrophic (Plant) Respiration on Land </variable>\n",
    "     <variable name=\"description\"   type=\"string\" > \"Respiration carbon\" refers to ...  </variable>\n",
    "     <variable name=\"positive\"      type=\"string\" > up </variable>\n",
    "     <variable name=\"cell_methods\"  type=\"string\" > time: mean area: mean where land </variable>\n",
    "     <variable name=\"cell_measures\" type=\"string\" > area: areacella </variable>\n",
    "     </field>\n",
    "  <field field_ref=\"CF_HeterotrophicRespirationCarbonFlux\" operation=\"average\" ts_enabled=\"true\" ts_split_freq=\"10y\">\n",
    "     <variable name=\"standard_name\" type=\"string\" > HeterotrophicRespirationCarbonFlux </variable>\n",
    "     <variable name=\"long_name\"     type=\"string\" > Carbon Mass Flux into Atmosphere due to Heterotrophic Respiration on Land </variable>\n",
    "     <variable name=\"description\"   type=\"string\" > \"Respiration carbon\" refers to ...  </variable>\n",
    "     <variable name=\"positive\"      type=\"string\" > up </variable>\n",
    "     <variable name=\"cell_methods\"  type=\"string\" > time: mean area: mean where land </variable>\n",
    "     <variable name=\"cell_measures\" type=\"string\" > area: areacella </variable>\n",
    "     </field>\n",
    "<file/>\n"
   ]
  },
  {
   "cell_type": "markdown",
   "metadata": {},
   "source": [
    "### Some checks : list of frequencies for each variable name"
   ]
  },
  {
   "cell_type": "code",
   "execution_count": 20,
   "metadata": {
    "collapsed": false
   },
   "outputs": [],
   "source": [
    "vars_freq=dict()\n",
    "for table in cmvs_pertable :\n",
    "    for cmv in cmvs_pertable[table] : \n",
    "        if cmv.label not in vars_freq : vars_freq[cmv.label]=dict()\n",
    "        vars_freq[cmv.label][cmv.frequency]=table\n",
    "#for i in vars_freq : print \"% 15s\"%i,vars_freq[i]"
   ]
  },
  {
   "cell_type": "code",
   "execution_count": null,
   "metadata": {
    "collapsed": false
   },
   "outputs": [],
   "source": []
  }
 ],
 "metadata": {
  "kernelspec": {
   "display_name": "Python 2",
   "language": "python",
   "name": "python2"
  },
  "language_info": {
   "codemirror_mode": {
    "name": "ipython",
    "version": 2
   },
   "file_extension": ".py",
   "mimetype": "text/x-python",
   "name": "python",
   "nbconvert_exporter": "python",
   "pygments_lexer": "ipython2",
   "version": "2.7.10"
  }
 },
 "nbformat": 4,
 "nbformat_minor": 0
}
