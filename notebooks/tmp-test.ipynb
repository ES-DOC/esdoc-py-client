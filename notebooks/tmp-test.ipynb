{
 "cells": [
  {
   "cell_type": "code",
   "execution_count": 1,
   "metadata": {
    "collapsed": true
   },
   "outputs": [],
   "source": [
    "import pyesdoc\n",
    "from pyesdoc.ontologies import cim"
   ]
  },
  {
   "cell_type": "markdown",
   "metadata": {},
   "source": [
    "## Simple Document"
   ]
  },
  {
   "cell_type": "markdown",
   "metadata": {},
   "source": [
    "### Simple document creation "
   ]
  },
  {
   "cell_type": "code",
   "execution_count": 28,
   "metadata": {
    "collapsed": false
   },
   "outputs": [],
   "source": [
    "d1 = pyesdoc.create(cim.v2.shared.Party, institute=\"MOHC\")\n",
    "d1.email = \"momipsl@ipsl.jussieu.fr\"\n",
    "d1.name = \"Mark Greenslade\"\n",
    "\n",
    "assert pyesdoc.is_valid(d1)"
   ]
  },
  {
   "cell_type": "markdown",
   "metadata": {},
   "source": [
    "### Simple document encoding"
   ]
  },
  {
   "cell_type": "code",
   "execution_count": 4,
   "metadata": {
    "collapsed": false
   },
   "outputs": [],
   "source": [
    "d1_json = pyesdoc.encode(d1, 'json')\n",
    "d1_xml = pyesdoc.encode(d1, 'xml')\n",
    "d1_html = pyesdoc.encode(d1, 'html')"
   ]
  },
  {
   "cell_type": "code",
   "execution_count": 5,
   "metadata": {
    "collapsed": false
   },
   "outputs": [
    {
     "name": "stdout",
     "output_type": "stream",
     "text": [
      "{\"meta\": {\"institute\": \"mohc\", \"createDate\": \"2016-11-21 16:27:17.137015\", \"source\": \"mohc\", \"version\": 0, \"type\": \"cim.2.shared.Party\", \"id\": \"c829ba0a-413f-4a21-8b5c-bd30a0935234\"}, \"name\": \"Mark Greenslade\", \"email\": \"momipsl@ipsl.jussieu.fr\"}\n"
     ]
    }
   ],
   "source": [
    "print d1_json"
   ]
  },
  {
   "cell_type": "code",
   "execution_count": 6,
   "metadata": {
    "collapsed": false
   },
   "outputs": [
    {
     "name": "stdout",
     "output_type": "stream",
     "text": [
      "<party><email>momipsl@ipsl.jussieu.fr</email><meta><createDate>2016-11-21 16:27:17.137015</createDate><id>c829ba0a-413f-4a21-8b5c-bd30a0935234</id><institute>mohc</institute><source>mohc</source><type>cim.2.shared.Party</type></meta><name>Mark Greenslade</name></party>\n"
     ]
    }
   ],
   "source": [
    "print d1_xml"
   ]
  },
  {
   "cell_type": "code",
   "execution_count": 7,
   "metadata": {
    "collapsed": false
   },
   "outputs": [
    {
     "name": "stdout",
     "output_type": "stream",
     "text": [
      "<div class=\"esdoc-document-set\">\n",
      "\n",
      "<article id=\"c829ba0a-413f-4a21-8b5c-bd30a0935234-0\"\n",
      "class=\"esdoc-document cim-2-shared-party\">\n",
      "<header> <h2>Party : Mark Greenslade </h2> </header> <section> <header> <h3>Overview</h3> </header> <table> <tbody> <tr class=\"esdoc-field namevalue \"> <td class=\"esdoc-field-name\"><b>Name</b></td> <td class=\"esdoc-field-value\" id=\"\"> Mark Greenslade </td> </tr> <tr class=\"esdoc-field namevalue esdoc-null-field\"> <td class=\"esdoc-field-name\"><b>Address</b></td> <td class=\"esdoc-field-value\" id=\"\"> -- </td> </tr> <tr class=\"esdoc-field namevalue \"> <td class=\"esdoc-field-name\"><b>Email</b></td> <td class=\"esdoc-field-value\" id=\"\"> <a class=\"esdoc-field-email\" href=\"mailto:momipsl@ipsl.jussieu.fr?subject=ES-DOC :: subject goes here\">momipsl@ipsl.jussieu.fr</a> </td> </tr> </tbody> </table> </section> <footer> <h4> <span> ES-DOC Documentation Viewer (v0.9.5.1) &copy; ES-DOC 2016 </span> </h4> </footer>\n",
      "</article>\n",
      "\n",
      "</div>\n"
     ]
    }
   ],
   "source": [
    "print d1_html"
   ]
  },
  {
   "cell_type": "markdown",
   "metadata": {},
   "source": [
    "### Simple document decoding"
   ]
  },
  {
   "cell_type": "code",
   "execution_count": 8,
   "metadata": {
    "collapsed": false
   },
   "outputs": [],
   "source": [
    "d2 = pyesdoc.decode(d1_json, 'json')"
   ]
  },
  {
   "cell_type": "code",
   "execution_count": 9,
   "metadata": {
    "collapsed": false
   },
   "outputs": [],
   "source": [
    "assert d1.email == d2.email\n",
    "assert d1.name == d2.name"
   ]
  },
  {
   "cell_type": "code",
   "execution_count": 10,
   "metadata": {
    "collapsed": true
   },
   "outputs": [],
   "source": [
    "d2 = pyesdoc.decode(d1_xml, 'xml')"
   ]
  },
  {
   "cell_type": "code",
   "execution_count": 11,
   "metadata": {
    "collapsed": true
   },
   "outputs": [],
   "source": [
    "assert d1.email == d2.email\n",
    "assert d1.name == d2.name"
   ]
  },
  {
   "cell_type": "markdown",
   "metadata": {},
   "source": [
    "## Simple Fragment"
   ]
  },
  {
   "cell_type": "markdown",
   "metadata": {},
   "source": [
    "### Simple fragment creation"
   ]
  },
  {
   "cell_type": "code",
   "execution_count": 31,
   "metadata": {
    "collapsed": false
   },
   "outputs": [],
   "source": [
    "f1 = cim.v2.shared.TextBlob()\n",
    "f1.content = u\"123\"\n",
    "f1.encoding = u\"ascii\"\n",
    "\n",
    "assert pyesdoc.is_valid(f1)"
   ]
  },
  {
   "cell_type": "markdown",
   "metadata": {
    "collapsed": true
   },
   "source": [
    "### Simple fragment encoding "
   ]
  },
  {
   "cell_type": "code",
   "execution_count": 14,
   "metadata": {
    "collapsed": true
   },
   "outputs": [],
   "source": [
    "f1_json = pyesdoc.encode(f1, 'json')\n",
    "f1_xml = pyesdoc.encode(f1, 'xml')"
   ]
  },
  {
   "cell_type": "code",
   "execution_count": 15,
   "metadata": {
    "collapsed": false
   },
   "outputs": [
    {
     "name": "stdout",
     "output_type": "stream",
     "text": [
      "{\"content\": \"123\", \"meta\": {\"type\": \"cim.2.shared.TextBlob\"}, \"encoding\": \"ascii\"}\n"
     ]
    }
   ],
   "source": [
    "print f1_json"
   ]
  },
  {
   "cell_type": "code",
   "execution_count": 16,
   "metadata": {
    "collapsed": false
   },
   "outputs": [
    {
     "name": "stdout",
     "output_type": "stream",
     "text": [
      "<textBlob><content>123</content><encoding>ascii</encoding><meta><type>cim.2.shared.TextBlob</type></meta></textBlob>\n"
     ]
    }
   ],
   "source": [
    "print f1_xml"
   ]
  },
  {
   "cell_type": "markdown",
   "metadata": {},
   "source": [
    "### Simple fragment decoding "
   ]
  },
  {
   "cell_type": "code",
   "execution_count": 17,
   "metadata": {
    "collapsed": false
   },
   "outputs": [],
   "source": [
    "f2 = pyesdoc.decode(f1_json, 'json')"
   ]
  },
  {
   "cell_type": "code",
   "execution_count": 18,
   "metadata": {
    "collapsed": false
   },
   "outputs": [],
   "source": [
    "assert f1.content == f2.content\n",
    "assert f1.encoding == f2.encoding"
   ]
  },
  {
   "cell_type": "code",
   "execution_count": 19,
   "metadata": {
    "collapsed": false
   },
   "outputs": [],
   "source": [
    "f2 = pyesdoc.decode(f1_xml, 'xml')"
   ]
  },
  {
   "cell_type": "code",
   "execution_count": 20,
   "metadata": {
    "collapsed": true
   },
   "outputs": [],
   "source": [
    "assert f1.content == f2.content\n",
    "assert f1.encoding == f2.encoding"
   ]
  },
  {
   "cell_type": "markdown",
   "metadata": {
    "collapsed": true
   },
   "source": [
    "## Medium Complexity Document"
   ]
  },
  {
   "cell_type": "markdown",
   "metadata": {},
   "source": [
    "### Medium Complexity Document - creation"
   ]
  },
  {
   "cell_type": "code",
   "execution_count": 32,
   "metadata": {
    "collapsed": true
   },
   "outputs": [],
   "source": [
    "d2 = pyesdoc.create(cim.v2.shared.Responsibility, institute=\"MOHC\")"
   ]
  },
  {
   "cell_type": "code",
   "execution_count": 33,
   "metadata": {
    "collapsed": true
   },
   "outputs": [],
   "source": [
    "d2.role = \"Principal Investigator\"\n",
    "d2.parties.append(d1)\n",
    "\n",
    "assert pyesdoc.is_valid(d2)"
   ]
  },
  {
   "cell_type": "code",
   "execution_count": 36,
   "metadata": {
    "collapsed": false
   },
   "outputs": [],
   "source": [
    "d2_json = pyesdoc.encode(d2, 'json')\n"
   ]
  },
  {
   "cell_type": "code",
   "execution_count": 37,
   "metadata": {
    "collapsed": false
   },
   "outputs": [
    {
     "data": {
      "text/plain": [
       "'{\"meta\": {\"type\": \"cim.2.shared.Responsibility\"}, \"role\": \"Principal Investigator\", \"parties\": [{\"meta\": {\"institute\": \"mohc\", \"createDate\": \"2016-11-21 16:28:14.648045\", \"source\": \"mohc\", \"version\": 0, \"type\": \"cim.2.shared.Party\", \"id\": \"e1d930ce-72ac-4ecd-95f3-bd1070049b71\"}, \"name\": \"Mark Greenslade\", \"email\": \"momipsl@ipsl.jussieu.fr\"}]}'"
      ]
     },
     "execution_count": 37,
     "metadata": {},
     "output_type": "execute_result"
    }
   ],
   "source": [
    "d2_json"
   ]
  },
  {
   "cell_type": "code",
   "execution_count": null,
   "metadata": {
    "collapsed": true
   },
   "outputs": [],
   "source": []
  }
 ],
 "metadata": {
  "kernelspec": {
   "display_name": "Python 2",
   "language": "python",
   "name": "python2"
  },
  "language_info": {
   "codemirror_mode": {
    "name": "ipython",
    "version": 2
   },
   "file_extension": ".py",
   "mimetype": "text/x-python",
   "name": "python",
   "nbconvert_exporter": "python",
   "pygments_lexer": "ipython2",
   "version": "2.7.10"
  }
 },
 "nbformat": 4,
 "nbformat_minor": 1
}
