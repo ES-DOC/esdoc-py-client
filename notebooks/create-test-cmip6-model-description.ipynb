{
 "cells": [
  {
   "cell_type": "markdown",
   "metadata": {},
   "source": [
    "## Setup"
   ]
  },
  {
   "cell_type": "code",
   "execution_count": 1,
   "metadata": {
    "collapsed": true
   },
   "outputs": [],
   "source": [
    "import os\n",
    "import json\n",
    "\n",
    "import pyesdoc\n",
    "from pyesdoc.ontologies import cim"
   ]
  },
  {
   "cell_type": "code",
   "execution_count": 2,
   "metadata": {
    "collapsed": false
   },
   "outputs": [],
   "source": [
    "class Ocean(object):\n",
    "    \"\"\"Ocean modelling realm.\n",
    "    \n",
    "    \"\"\"\n",
    "    class _VerticalPhysics(object):\n",
    "        \"\"\"Properties of vertical physics within the ocean component.\n",
    "\n",
    "        \"\"\"\n",
    "        class _Attributes(object):\n",
    "            \"\"\"General properties of vertical physics in the ocean.\n",
    "\n",
    "            \"\"\"\n",
    "            def __init__(self):\n",
    "                self.langmuir_cells_mixing = None\n",
    "                self.scheme = None\n",
    "                self.tide_induced_mixing = None\n",
    "\n",
    "\n",
    "        class _BoundaryLayerMixing(object):\n",
    "            \"\"\"General properties of vertical physics in the ocean.\n",
    "\n",
    "            \"\"\"\n",
    "            class _Tracers(object):\n",
    "                \"\"\"Properties of boundary layer mixing on tracers in ocean.\n",
    "\n",
    "                \"\"\"\n",
    "                def __init__(self):\n",
    "                    self.background = None\n",
    "                    self.constant = None\n",
    "                    self.scheme = None\n",
    "                    self.turbulent_closure_order = None\n",
    "\n",
    "\n",
    "            def __init__(self):\n",
    "                self.tracers = Ocean._VerticalPhysics._BoundaryLayerMixing._Tracers()\n",
    "                self.scheme = None\n",
    "                self.tide_induced_mixing = None\n",
    "\n",
    "\n",
    "        def __init__(self):\n",
    "            self.attributes = Ocean._VerticalPhysics._Attributes()\n",
    "            self.boundary_layer_mixing = Ocean._VerticalPhysics._BoundaryLayerMixing()        \n",
    "            \n",
    "\n",
    "    def __init__(self):\n",
    "        self.vertical_physics = Ocean._VerticalPhysics()"
   ]
  },
  {
   "cell_type": "markdown",
   "metadata": {},
   "source": [
    "## Ocean realm definition"
   ]
  },
  {
   "cell_type": "code",
   "execution_count": 3,
   "metadata": {
    "collapsed": false
   },
   "outputs": [],
   "source": [
    "ocean = Ocean()\n",
    "vertical_physics = ocean.vertical_physics"
   ]
  },
  {
   "cell_type": "code",
   "execution_count": 4,
   "metadata": {
    "collapsed": true
   },
   "outputs": [],
   "source": [
    "# MANDATORY\n",
    "# Describe types of convection scheme in ocean.\n",
    "# Choose 1 from: \n",
    "#    \"Non-penetrative convective adjustment\"\n",
    "#    \"Enhanced vertical diffusion\"\n",
    "#    \"Included in turbulence closure\"\n",
    "#    \"Other:[free text]\"\n",
    "vertical_physics.boundary_layer_mixing.scheme = []"
   ]
  },
  {
   "cell_type": "code",
   "execution_count": 5,
   "metadata": {
    "collapsed": true
   },
   "outputs": [],
   "source": [
    "# MANDATORY\n",
    "# Describe how tide induced mixing is modelled (barotropic, baroclinic, none).\n",
    "# Choose 1 from: \n",
    "#     barotropic\n",
    "#     baroclinic\n",
    "#     none\n",
    "vertical_physics.attributes.scheme = None"
   ]
  },
  {
   "cell_type": "code",
   "execution_count": 6,
   "metadata": {
    "collapsed": true
   },
   "outputs": [],
   "source": [
    "# OPTIONAL\n",
    "# Describe how tide induced mixing is modelled (barotropic, baroclinic, none).\n",
    "# Choose at least one from: \n",
    "#     \"barotropic\"\n",
    "#     \"baroclinic\"\n",
    "#     \"none\"\n",
    "vertical_physics.attributes.tide_induced_mixing = None"
   ]
  },
  {
   "cell_type": "code",
   "execution_count": 7,
   "metadata": {
    "collapsed": false
   },
   "outputs": [],
   "source": [
    "# MANDATORY\n",
    "# Is there Langmuir cells mixing in upper ocean ?\n",
    "# Choose 1 from: \n",
    "#     \"true\"\n",
    "#     \"false\"\n",
    "vertical_physics.attributes.langmuir_cells_mixing = None"
   ]
  },
  {
   "cell_type": "code",
   "execution_count": 8,
   "metadata": {
    "collapsed": false
   },
   "outputs": [
    {
     "data": {
      "text/plain": [
       "{'vertical_physics': <__main__._VerticalPhysics at 0x10a51d250>}"
      ]
     },
     "execution_count": 8,
     "metadata": {},
     "output_type": "execute_result"
    }
   ],
   "source": [
    "ocean.__dict__"
   ]
  },
  {
   "cell_type": "code",
   "execution_count": 9,
   "metadata": {
    "collapsed": false
   },
   "outputs": [
    {
     "data": {
      "text/plain": [
       "{'attributes': <__main__._Attributes at 0x10a51d290>,\n",
       " 'boundary_layer_mixing': <__main__._BoundaryLayerMixing at 0x10a51d2d0>}"
      ]
     },
     "execution_count": 9,
     "metadata": {},
     "output_type": "execute_result"
    }
   ],
   "source": [
    "ocean.vertical_physics.__dict__"
   ]
  },
  {
   "cell_type": "code",
   "execution_count": 10,
   "metadata": {
    "collapsed": false
   },
   "outputs": [
    {
     "data": {
      "text/plain": [
       "{'langmuir_cells_mixing': None, 'scheme': None, 'tide_induced_mixing': None}"
      ]
     },
     "execution_count": 10,
     "metadata": {},
     "output_type": "execute_result"
    }
   ],
   "source": [
    "ocean.vertical_physics.attributes.__dict__"
   ]
  },
  {
   "cell_type": "code",
   "execution_count": 11,
   "metadata": {
    "collapsed": false
   },
   "outputs": [
    {
     "data": {
      "text/plain": [
       "{'scheme': [],\n",
       " 'tide_induced_mixing': None,\n",
       " 'tracers': <__main__._Tracers at 0x10a51d310>}"
      ]
     },
     "execution_count": 11,
     "metadata": {},
     "output_type": "execute_result"
    }
   ],
   "source": [
    "ocean.vertical_physics.boundary_layer_mixing.__dict__"
   ]
  },
  {
   "cell_type": "code",
   "execution_count": 12,
   "metadata": {
    "collapsed": false
   },
   "outputs": [
    {
     "data": {
      "text/plain": [
       "{'background': None,\n",
       " 'constant': None,\n",
       " 'scheme': None,\n",
       " 'turbulent_closure_order': None}"
      ]
     },
     "execution_count": 12,
     "metadata": {},
     "output_type": "execute_result"
    }
   ],
   "source": [
    "ocean.vertical_physics.boundary_layer_mixing.tracers.__dict__"
   ]
  },
  {
   "cell_type": "code",
   "execution_count": null,
   "metadata": {
    "collapsed": true
   },
   "outputs": [],
   "source": []
  }
 ],
 "metadata": {
  "kernelspec": {
   "display_name": "Python 2",
   "language": "python",
   "name": "python2"
  },
  "language_info": {
   "codemirror_mode": {
    "name": "ipython",
    "version": 2
   },
   "file_extension": ".py",
   "mimetype": "text/x-python",
   "name": "python",
   "nbconvert_exporter": "python",
   "pygments_lexer": "ipython2",
   "version": "2.7.10"
  }
 },
 "nbformat": 4,
 "nbformat_minor": 0
}
