{
 "cells": [
  {
   "cell_type": "code",
   "execution_count": 1,
   "metadata": {
    "collapsed": true
   },
   "outputs": [],
   "source": [
    "import pyesdoc\n",
    "import pyesdoc.ontologies.cim as cim"
   ]
  },
  {
   "cell_type": "code",
   "execution_count": 2,
   "metadata": {
    "collapsed": true
   },
   "outputs": [],
   "source": [
    "t = cim.v1.NumericalExperiment"
   ]
  },
  {
   "cell_type": "code",
   "execution_count": 3,
   "metadata": {
    "collapsed": false
   },
   "outputs": [
    {
     "data": {
      "text/plain": [
       "(('funding_sources', 'type', unicode),\n",
       " ('rationales', 'type', unicode),\n",
       " ('generates', 'type', unicode),\n",
       " ('short_name', 'type', unicode),\n",
       " ('long_name', 'type', unicode),\n",
       " ('requires',\n",
       "  'type',\n",
       "  pyesdoc.ontologies.cim.v1.typeset_for_activity_package.NumericalActivity),\n",
       " ('responsible_parties',\n",
       "  'type',\n",
       "  pyesdoc.ontologies.cim.v1.typeset_for_shared_package.ResponsibleParty),\n",
       " ('measurement_campaigns',\n",
       "  'type',\n",
       "  pyesdoc.ontologies.cim.v1.typeset_for_activity_package.MeasurementCampaign),\n",
       " ('meta',\n",
       "  'type',\n",
       "  pyesdoc.ontologies.cim.v1.typeset_for_shared_package.DocMetaInfo),\n",
       " ('experiment_id', 'type', unicode),\n",
       " ('requirements',\n",
       "  'type',\n",
       "  pyesdoc.ontologies.cim.v1.typeset_for_activity_package.NumericalRequirement),\n",
       " ('supports', 'type', unicode),\n",
       " ('projects', 'type', unicode),\n",
       " ('description', 'type', unicode),\n",
       " ('funding_sources', 'cardinality', '0.N'),\n",
       " ('rationales', 'cardinality', '0.N'),\n",
       " ('generates', 'cardinality', '0.N'),\n",
       " ('short_name', 'cardinality', '1.1'),\n",
       " ('long_name', 'cardinality', '0.1'),\n",
       " ('requires', 'cardinality', '0.N'),\n",
       " ('responsible_parties', 'cardinality', '0.N'),\n",
       " ('measurement_campaigns', 'cardinality', '0.N'),\n",
       " ('meta', 'cardinality', '1.1'),\n",
       " ('experiment_id', 'cardinality', '0.1'),\n",
       " ('requirements', 'cardinality', '0.N'),\n",
       " ('supports', 'cardinality', '0.N'),\n",
       " ('projects', 'cardinality', '0.N'),\n",
       " ('description', 'cardinality', '0.1'))"
      ]
     },
     "execution_count": 3,
     "metadata": {},
     "output_type": "execute_result"
    }
   ],
   "source": [
    "pyesdoc.ontologies.get_constraints(t)"
   ]
  },
  {
   "cell_type": "code",
   "execution_count": 4,
   "metadata": {
    "collapsed": false
   },
   "outputs": [
    {
     "data": {
      "text/plain": [
       "[('funding_sources', {('cardinality', '0.N'), ('type', unicode)}),\n",
       " ('rationales', {('cardinality', '0.N'), ('type', unicode)}),\n",
       " ('generates', {('cardinality', '0.N'), ('type', unicode)}),\n",
       " ('short_name', {('cardinality', '1.1'), ('type', unicode)}),\n",
       " ('measurement_campaigns',\n",
       "  {('cardinality', '0.N'),\n",
       "   ('type',\n",
       "    pyesdoc.ontologies.cim.v1.typeset_for_activity_package.MeasurementCampaign)}),\n",
       " ('supports', {('cardinality', '0.N'), ('type', unicode)}),\n",
       " ('responsible_parties',\n",
       "  {('cardinality', '0.N'),\n",
       "   ('type',\n",
       "    pyesdoc.ontologies.cim.v1.typeset_for_shared_package.ResponsibleParty)}),\n",
       " ('long_name', {('cardinality', '0.1'), ('type', unicode)}),\n",
       " ('meta',\n",
       "  {('cardinality', '1.1'),\n",
       "   ('type',\n",
       "    pyesdoc.ontologies.cim.v1.typeset_for_shared_package.DocMetaInfo)}),\n",
       " ('experiment_id', {('cardinality', '0.1'), ('type', unicode)}),\n",
       " ('requirements',\n",
       "  {('cardinality', '0.N'),\n",
       "   ('type',\n",
       "    pyesdoc.ontologies.cim.v1.typeset_for_activity_package.NumericalRequirement)}),\n",
       " ('requires',\n",
       "  {('cardinality', '0.N'),\n",
       "   ('type',\n",
       "    pyesdoc.ontologies.cim.v1.typeset_for_activity_package.NumericalActivity)}),\n",
       " ('projects', {('cardinality', '0.N'), ('type', unicode)}),\n",
       " ('description', {('cardinality', '0.1'), ('type', unicode)})]"
      ]
     },
     "execution_count": 4,
     "metadata": {},
     "output_type": "execute_result"
    }
   ],
   "source": [
    "pyesdoc.ontologies.get_validation_info(t)"
   ]
  },
  {
   "cell_type": "code",
   "execution_count": null,
   "metadata": {
    "collapsed": false
   },
   "outputs": [],
   "source": [
    "pyesdoc.CONSTRAINTS[t]"
   ]
  },
  {
   "cell_type": "code",
   "execution_count": null,
   "metadata": {
    "collapsed": true
   },
   "outputs": [],
   "source": []
  }
 ],
 "metadata": {
  "kernelspec": {
   "display_name": "Python 2",
   "language": "python",
   "name": "python2"
  },
  "language_info": {
   "codemirror_mode": {
    "name": "ipython",
    "version": 2
   },
   "file_extension": ".py",
   "mimetype": "text/x-python",
   "name": "python",
   "nbconvert_exporter": "python",
   "pygments_lexer": "ipython2",
   "version": "2.7.10"
  }
 },
 "nbformat": 4,
 "nbformat_minor": 0
}
