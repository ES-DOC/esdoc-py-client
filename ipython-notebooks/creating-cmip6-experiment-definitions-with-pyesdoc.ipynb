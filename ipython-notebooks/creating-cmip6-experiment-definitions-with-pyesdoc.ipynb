{
 "cells": [
  {
   "cell_type": "markdown",
   "metadata": {},
   "source": [
    "## Setup"
   ]
  },
  {
   "cell_type": "code",
   "execution_count": 1,
   "metadata": {
    "collapsed": false
   },
   "outputs": [],
   "source": [
    "# Import standard python modules\n",
    "import os\n",
    "import tempfile\n",
    "import uuid"
   ]
  },
  {
   "cell_type": "code",
   "execution_count": 2,
   "metadata": {
    "collapsed": false
   },
   "outputs": [
    {
     "name": "stdout",
     "output_type": "stream",
     "text": [
      "ES-DOC :: pyesdoc :: INFO > Loading pyesdoc config from: /Users/macg/dev/esdoc/ops/config/pyesdoc.conf\n"
     ]
    }
   ],
   "source": [
    "# Import pyesdoc & cim\n",
    "import pyesdoc\n",
    "import pyesdoc.ontologies.cim as cim"
   ]
  },
  {
   "cell_type": "code",
   "execution_count": 8,
   "metadata": {
    "collapsed": true
   },
   "outputs": [],
   "source": [
    "# Set default document project code.\n",
    "_PROJECT = 'CMIP6-TEST'\n",
    "\n",
    "# Set default document source.\n",
    "_SOURCE = 'test-script'\n",
    "\n",
    "# Set default I/O directory.\n",
    "_IO_DIR = tempfile.mkdtemp()"
   ]
  },
  {
   "cell_type": "markdown",
   "metadata": {},
   "source": [
    "## Document Creation"
   ]
  },
  {
   "cell_type": "code",
   "execution_count": 10,
   "metadata": {
    "collapsed": false
   },
   "outputs": [],
   "source": [
    "# Create author.\n",
    "author = pyesdoc.create(cim.v2.Party, source=_SOURCE)\n",
    "author.email = \"momipsl@ipsl.jussieu.fr\"\n",
    "author.name = \"Mark A. Greenslade\""
   ]
  },
  {
   "cell_type": "code",
   "execution_count": 14,
   "metadata": {
    "collapsed": false
   },
   "outputs": [],
   "source": [
    "# Create project.\n",
    "project = pyesdoc.create(cim.v2.Project, author=author, source=_SOURCE)\n",
    "project.canonical_name = _PROJECT\n",
    "project.name = _PROJECT\n",
    "project.long_name = \"Climate model Inter-Comparason Project 6\""
   ]
  },
  {
   "cell_type": "code",
   "execution_count": 20,
   "metadata": {
    "collapsed": false
   },
   "outputs": [
    {
     "name": "stdout",
     "output_type": "stream",
     "text": [
      "1e19715f-d743-4f4e-b8e9-2b1765f638e8\n"
     ]
    }
   ],
   "source": [
    "# Create experimental requirement.\n",
    "tc = pyesdoc.create(cim.v2.TemporalConstraint, project=_PROJECT, author=author, source=_SOURCE)\n",
    "tc.canonical_name = \"stc.027\"\n",
    "tc.conformance_is_requested = False\n",
    "tc.description = \"Begin in 1979 and run for 30 years\"\n",
    "tc.duration = cim.v2.TimePeriod()\n",
    "tc.duration.length = 30\n",
    "tc.duration.units = \"years\"\n",
    "tc.duration.date_type = \"unused\"\n",
    "tc.name = \"3.3.stc.1979_30yr\""
   ]
  },
  {
   "cell_type": "code",
   "execution_count": 17,
   "metadata": {
    "collapsed": false
   },
   "outputs": [],
   "source": [
    "# Create experiment.\n",
    "experiment = pyesdoc.create(cim.v2.NumericalExperiment, project=_PROJECT, author=author, source=_SOURCE)\n",
    "experiment.canonical_name = \"amip\"\n",
    "experiment.description = \"AMIP (1979 - at least 2008). Impose SSTs and sea ice from observations but with other conditions as in experiment 3.2 historical.\"\n",
    "experiment.long_name = \"AMIP\"\n",
    "experiment.name = \"amip\"\n",
    "experiment.rationale = \"AMIP. Baseline simulation for model evaluation.\"\n",
    "experiment.requirements.append(tc)"
   ]
  },
  {
   "cell_type": "markdown",
   "metadata": {},
   "source": [
    "## Document references"
   ]
  },
  {
   "cell_type": "code",
   "execution_count": 22,
   "metadata": {
    "collapsed": true
   },
   "outputs": [],
   "source": [
    "# CIM v1 reference\n",
    "tc_reference_1 = cim.v1.DocReference()\n",
    "tc_reference_1.name = 'stc.027'\n",
    "tc_reference_1.id = '1e19715f-d743-4f4e-b8e9-2b1765f638e8'\n",
    "tc_reference_1.version = '1'\n",
    "tc_reference_1.url = 'http://archive.es-doc.org/1e19715f-d743-4f4e-b8e9-2b1765f638e8/1'"
   ]
  },
  {
   "cell_type": "code",
   "execution_count": null,
   "metadata": {
    "collapsed": true
   },
   "outputs": [],
   "source": [
    "# CIM v2 reference\n",
    "tc_reference = cim.v2.CimLink()"
   ]
  },
  {
   "cell_type": "markdown",
   "metadata": {},
   "source": [
    "## Document Validation"
   ]
  },
  {
   "cell_type": "code",
   "execution_count": null,
   "metadata": {
    "collapsed": false
   },
   "outputs": [],
   "source": [
    "# Validate document & print errors\n",
    "errors = pyesdoc.validate(experiment)\n",
    "for err in errors:\n",
    "    print(err)"
   ]
  },
  {
   "cell_type": "markdown",
   "metadata": {},
   "source": [
    "## Document Serialization"
   ]
  },
  {
   "cell_type": "code",
   "execution_count": null,
   "metadata": {
    "collapsed": false
   },
   "outputs": [],
   "source": [
    "# Encode as JSON\n",
    "experiment_as_json = pyesdoc.encode(experiment, pyesdoc.ESDOC_ENCODING_JSON)"
   ]
  },
  {
   "cell_type": "code",
   "execution_count": null,
   "metadata": {
    "collapsed": false
   },
   "outputs": [],
   "source": [
    "# Encode as XML\n",
    "experiment_as_xml = pyesdoc.encode(experiment, pyesdoc.ESDOC_ENCODING_XML)"
   ]
  },
  {
   "cell_type": "code",
   "execution_count": null,
   "metadata": {
    "collapsed": false
   },
   "outputs": [],
   "source": [
    "# Encode as HTML\n",
    "experiment_as_html = pyesdoc.encode(experiment, pyesdoc.ESDOC_ENCODING_HTML)"
   ]
  },
  {
   "cell_type": "code",
   "execution_count": null,
   "metadata": {
    "collapsed": false
   },
   "outputs": [],
   "source": [
    "# Decode from JSON\n",
    "experiment_from_json = pyesdoc.decode(experiment_as_json, pyesdoc.ESDOC_ENCODING_JSON)"
   ]
  },
  {
   "cell_type": "code",
   "execution_count": null,
   "metadata": {
    "collapsed": false,
    "scrolled": false
   },
   "outputs": [],
   "source": [
    "# Decode from XML\n",
    "experiment_from_xml = pyesdoc.decode(experiment_as_xml, pyesdoc.ESDOC_ENCODING_XML)"
   ]
  },
  {
   "cell_type": "markdown",
   "metadata": {},
   "source": [
    "## Document I/O"
   ]
  },
  {
   "cell_type": "code",
   "execution_count": null,
   "metadata": {
    "collapsed": false
   },
   "outputs": [],
   "source": [
    "# Set I/O directory.\n",
    "pyesdoc.set_option(\"output_dir\", _IO_DIR)"
   ]
  },
  {
   "cell_type": "code",
   "execution_count": null,
   "metadata": {
    "collapsed": false
   },
   "outputs": [],
   "source": [
    "# Write to file system.\n",
    "experiment_fpath_json = pyesdoc.write(experiment, pyesdoc.ESDOC_ENCODING_JSON)\n",
    "experiment_fpath_xml = pyesdoc.write(experiment, pyesdoc.ESDOC_ENCODING_XML)"
   ]
  },
  {
   "cell_type": "code",
   "execution_count": null,
   "metadata": {
    "collapsed": false
   },
   "outputs": [],
   "source": [
    "# Read from file system.\n",
    "experiment_from_json_file = pyesdoc.read(experiment_fpath_json)\n",
    "experiment_from_xml_file = pyesdoc.read(experiment_fpath_xml)"
   ]
  },
  {
   "cell_type": "markdown",
   "metadata": {},
   "source": [
    "## Document Publishing"
   ]
  },
  {
   "cell_type": "code",
   "execution_count": null,
   "metadata": {
    "collapsed": false
   },
   "outputs": [],
   "source": [
    "# Publish to ES-DOC web-service\n",
    "pyesdoc.publish(experiment)"
   ]
  },
  {
   "cell_type": "code",
   "execution_count": null,
   "metadata": {
    "collapsed": false
   },
   "outputs": [],
   "source": [
    "# Retrieve from ES-DOC web-service\n",
    "# ... retrieve latest version\n",
    "experiment = pyesdoc.retrieve(experiment.meta.id)\n",
    "# ... retrieve specific version\n",
    "experiment = pyesdoc.retrieve(experiment.meta.id, experiment.meta.version)"
   ]
  },
  {
   "cell_type": "code",
   "execution_count": null,
   "metadata": {
    "collapsed": false
   },
   "outputs": [],
   "source": [
    "# Republish to ES-DOC web-service\n",
    "# ... update document\n",
    "experiment.name += \"-UPDATED\"\n",
    "# ... cache current document version\n",
    "experiment_version = experiment.meta.version\n",
    "# ... republish\n",
    "pyesdoc.publish(experiment)\n",
    "# ... assert document version was updated\n",
    "assert experiment_version + 1 == experiment.meta.version"
   ]
  },
  {
   "cell_type": "code",
   "execution_count": null,
   "metadata": {
    "collapsed": false
   },
   "outputs": [],
   "source": [
    "# Unpublish.\n",
    "pyesdoc.unpublish(experiment.meta.id)\n",
    "\n",
    "# Assert document can no longer be retrieved from web-service.\n",
    "assert pyesdoc.retrieve(experiment.meta.id) is None"
   ]
  }
 ],
 "metadata": {
  "kernelspec": {
   "display_name": "Python 2",
   "language": "python",
   "name": "python2"
  },
  "language_info": {
   "codemirror_mode": {
    "name": "ipython",
    "version": 2
   },
   "file_extension": ".py",
   "mimetype": "text/x-python",
   "name": "python",
   "nbconvert_exporter": "python",
   "pygments_lexer": "ipython2",
   "version": "2.7.10"
  }
 },
 "nbformat": 4,
 "nbformat_minor": 0
}
