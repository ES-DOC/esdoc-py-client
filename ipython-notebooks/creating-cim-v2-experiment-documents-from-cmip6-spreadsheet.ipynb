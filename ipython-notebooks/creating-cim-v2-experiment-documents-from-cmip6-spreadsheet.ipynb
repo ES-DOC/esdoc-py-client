{
 "cells": [
  {
   "cell_type": "markdown",
   "metadata": {},
   "source": [
    "# Creating CIM v2 documents from CMIP6 spreadsheet"
   ]
  },
  {
   "cell_type": "markdown",
   "metadata": {},
   "source": [
    "## Setup"
   ]
  },
  {
   "cell_type": "code",
   "execution_count": null,
   "metadata": {
    "collapsed": false
   },
   "outputs": [],
   "source": [
    "import glob\n",
    "import os\n",
    "\n",
    "import pyesdoc\n",
    "import pyesdoc.ontologies.cim as cim\n",
    "import xlrd\n",
    "\n",
    "\n",
    "# Path to test folder.\n",
    "_HOME = os.path.join(os.path.expanduser(\"~\"), \"esdoc-test\")\n",
    "\n",
    "# Path to workbook being converted to CIM v2 documents.\n",
    "_WORKBOOK = os.path.join(_HOME, \"CMIP6Experiments.xlsx\")\n",
    "\n",
    "# Name of relevant worksheets to be found within workbook.\n",
    "_WS_ENSEMBLE_REQUIREMENT = \"EnsembleRequirement\"\n",
    "_WS_EXPERIMENT = \"experiment\"\n",
    "_WS_FORCING_CONSTRAINT = \"ForcingConstraint\"\n",
    "_WS_PARTY = \"party\"\n",
    "_WS_REFERENCES = \"references\"\n",
    "_WS_REQUIREMENT = \"requirement\"\n",
    "_WS_TEMPORAL_CONSTRAINT = \"TemporalConstraint\"\n",
    "_WS_URL = \"url\"\n",
    "\n",
    "# Default document project code.\n",
    "_DOC_PROJECT = 'CMIP6-TEST'\n",
    "\n",
    "# Default document source.\n",
    "_DOC_SOURCE = 'test-script'"
   ]
  },
  {
   "cell_type": "markdown",
   "metadata": {},
   "source": [
    "## Helper functions to extract data from workbook"
   ]
  },
  {
   "cell_type": "code",
   "execution_count": null,
   "metadata": {
    "collapsed": false
   },
   "outputs": [],
   "source": [
    "def _get_workbook():\n",
    "    \"\"\"Returns pointer to workbook object.\n",
    "    \n",
    "    \"\"\"\n",
    "    return xlrd.open_workbook(_WORKBOOK)\n",
    "\n",
    "\n",
    "def _get_ws_names():\n",
    "    \"\"\"Returns set of worksheet names declared within workbook.\n",
    "    \n",
    "    \"\"\"\n",
    "    return _get_workbook().sheet_names()\n",
    "\n",
    "\n",
    "def _get_ws(name):\n",
    "    \"\"\"Returns pointer to a named worksheet.\n",
    "    \n",
    "    \"\"\"\n",
    "    return _get_workbook().sheet_by_name(name)\n",
    "\n",
    "\n",
    "def _get_ws_rows(name):\n",
    "    \"\"\"Returns collection of rows within a named worksheet.\n",
    "    \n",
    "    \"\"\"\n",
    "    return enumerate(_get_ws(name).get_rows())\n",
    "\n",
    "\n",
    "def _get_ws_data(name):\n",
    "    \"\"\"Returns collection of rows within a named worksheet that correspond to actual data.\n",
    "    \n",
    "    \"\"\"\n",
    "    for idx, row in _get_ws_rows(name):\n",
    "        if idx > 0:\n",
    "            yield row\n",
    "\n",
    "            \n",
    "def _get_ws_col_map(name):\n",
    "    \"\"\"Returns map of column index to column names - supports situation when user reorders columns.\n",
    "    \n",
    "    \"\"\"\n",
    "    for idx, row in _get_ws_rows(name):\n",
    "        if idx == 0:\n",
    "            return {col.value: col_idx for col_idx, col in enumerate(row)} \n",
    "        \n",
    "        \n",
    "def _get_ws_cell_as_bool(value):\n",
    "    \"\"\"Converts a cell value to a boolean.\"\"\"\n",
    "    return value.lower() in [u'true', u't', u'yes', u'y']\n",
    "\n",
    "\n",
    "def _get_ws_document(row, col_map, doc_type, doc_mappings):\n",
    "    \"\"\"Returns a cim document from a spreadsheet row.\n",
    "    \n",
    "    \"\"\"\n",
    "    # Create document.\n",
    "    doc = pyesdoc.create(doc_type, project=_DOC_PROJECT, source=_DOC_SOURCE)\n",
    "    \n",
    "    # Apply attribute mappings.\n",
    "    for mapping in doc_mappings:\n",
    "        # Unpack mapping info.\n",
    "        cell_value_convertor = None\n",
    "        if isinstance(mapping, tuple):\n",
    "            mapping, cell_value_convertor = mapping\n",
    "        mapping = mapping.split(\":\")\n",
    "        doc_attr = mapping[0]\n",
    "        col_name = mapping[0] if len(mapping) == 1 else mapping[1]\n",
    "        \n",
    "        # Get cell value.\n",
    "        cell_value = row[col_map[col_name]].value\n",
    "        if cell_value_convertor:\n",
    "            cell_value = cell_value_convertor(cell_value)\n",
    "\n",
    "        # Set document attribute.\n",
    "        setattr(doc, doc_attr, cell_value)\n",
    "\n",
    "    return doc\n",
    "\n",
    "\n",
    "def _get_ws_documents(ws_name, doc_type, doc_mappings):\n",
    "    \"\"\"Returns set of cim documents within a spreadsheet.\"\"\"\n",
    "    result = list()\n",
    "    col_map = _get_ws_col_map(ws_name)\n",
    "    for row in _get_ws_data(ws_name):\n",
    "        result.append(_get_ws_document(row, col_map, doc_type, doc_mappings))\n",
    "\n",
    "    return result"
   ]
  },
  {
   "cell_type": "markdown",
   "metadata": {},
   "source": [
    "## Declare cell value convertors"
   ]
  },
  {
   "cell_type": "code",
   "execution_count": null,
   "metadata": {
    "collapsed": true
   },
   "outputs": [],
   "source": [
    "def _convert_to_bool(value):\n",
    "    \"\"\"Converts a cell value to a boolean.\"\"\"\n",
    "    return value.lower() in [u'true', u't', u'yes', u'y']"
   ]
  },
  {
   "cell_type": "markdown",
   "metadata": {},
   "source": [
    "## Map worksheets to CIM v2 documents"
   ]
  },
  {
   "cell_type": "code",
   "execution_count": null,
   "metadata": {
    "collapsed": true
   },
   "outputs": [],
   "source": [
    "def _get_temporal_constraints():\n",
    "    \"\"\"Returns set of temporal constraints definied within workbook.\n",
    "    \n",
    "    \"\"\"\n",
    "    mappings = [\n",
    "        (\"canonical_name\"),\n",
    "        (\"conformance_is_requested:conformance_requested\", _convert_to_bool),\n",
    "        (\"name\"),\n",
    "    ]\n",
    "    \n",
    "    return _get_ws_documents(_WS_TEMPORAL_CONSTRAINT, cim.v2.TemporalConstraint, mappings)"
   ]
  },
  {
   "cell_type": "code",
   "execution_count": null,
   "metadata": {
    "collapsed": true
   },
   "outputs": [],
   "source": [
    "def _get_forcing_constraints():\n",
    "    \"\"\"Returns set of temporal constraints definied within workbook.\n",
    "    \n",
    "    \"\"\"\n",
    "    mappings = [\n",
    "        (\"canonical_name\"),\n",
    "        (\"name\"),\n",
    "    ]\n",
    "    \n",
    "    return _get_ws_documents(_WS_FORCING_CONSTRAINT, cim.v2.ForcingConstraint, mappings)"
   ]
  },
  {
   "cell_type": "markdown",
   "metadata": {},
   "source": [
    "## Build document set"
   ]
  },
  {
   "cell_type": "code",
   "execution_count": null,
   "metadata": {
    "collapsed": false
   },
   "outputs": [],
   "source": [
    "docs = list()\n",
    "docs += _get_temporal_constraints()\n",
    "docs += _get_forcing_constraints()"
   ]
  },
  {
   "cell_type": "markdown",
   "metadata": {},
   "source": [
    "## Save CIM documents to file system "
   ]
  },
  {
   "cell_type": "code",
   "execution_count": null,
   "metadata": {
    "collapsed": true
   },
   "outputs": [],
   "source": [
    "# Set I/O directory.\n",
    "pyesdoc.set_option(\"output_dir\", _HOME)"
   ]
  },
  {
   "cell_type": "code",
   "execution_count": null,
   "metadata": {
    "collapsed": false
   },
   "outputs": [],
   "source": [
    "# Write document set to file system.\n",
    "for doc in sorted(docs):\n",
    "    print pyesdoc.write(doc)"
   ]
  },
  {
   "cell_type": "code",
   "execution_count": null,
   "metadata": {
    "collapsed": false
   },
   "outputs": [],
   "source": [
    "# Read from file system\n",
    "docs = map(pyesdoc.read, glob.glob(os.path.join(_HOME, \"*.json\")))\n",
    "for doc in sorted(docs):\n",
    "    print doc"
   ]
  },
  {
   "cell_type": "code",
   "execution_count": null,
   "metadata": {
    "collapsed": false
   },
   "outputs": [],
   "source": [
    "# Clean up file system.\n",
    "for fpath in glob.glob(os.path.join(_HOME, \"*.json\")):\n",
    "    os.remove(fpath)"
   ]
  }
 ],
 "metadata": {
  "kernelspec": {
   "display_name": "Python 2",
   "language": "python",
   "name": "python2"
  },
  "language_info": {
   "codemirror_mode": {
    "name": "ipython",
    "version": 2
   },
   "file_extension": ".py",
   "mimetype": "text/x-python",
   "name": "python",
   "nbconvert_exporter": "python",
   "pygments_lexer": "ipython2",
   "version": "2.7.10"
  }
 },
 "nbformat": 4,
 "nbformat_minor": 0
}
