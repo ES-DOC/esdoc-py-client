{
 "cells": [
  {
   "cell_type": "markdown",
   "metadata": {},
   "source": [
    "# Creating CIM v2 documents from CMIP6 spreadsheet"
   ]
  },
  {
   "cell_type": "markdown",
   "metadata": {},
   "source": [
    "## Setup"
   ]
  },
  {
   "cell_type": "code",
   "execution_count": null,
   "metadata": {
    "collapsed": false
   },
   "outputs": [],
   "source": [
    "import glob\n",
    "import inspect\n",
    "import os\n",
    "import uuid\n",
    "\n",
    "import pyesdoc\n",
    "import pyesdoc.ontologies.cim as cim\n",
    "import xlrd"
   ]
  },
  {
   "cell_type": "code",
   "execution_count": null,
   "metadata": {
    "collapsed": false
   },
   "outputs": [],
   "source": [
    "# Path to test folder.\n",
    "_HOME = os.path.join(os.path.expanduser(\"~\"), \"esdoc-test\")\n",
    "\n",
    "# Path to workbook being converted to CIM v2 documents.\n",
    "_WORKBOOK_FPATH = os.path.join(_HOME, \"CMIP6Experiments.xlsx\")\n",
    "\n",
    "# Workbook being converted to CIM v2 documents.\n",
    "_WORKBOOK = None\n",
    "\n",
    "# Name of relevant worksheets to be found within workbook.\n",
    "_WS_ENSEMBLE_REQUIREMENT = \"EnsembleRequirement\"\n",
    "_WS_EXPERIMENT = \"experiment\"\n",
    "_WS_FORCING_CONSTRAINT = \"ForcingConstraint\"\n",
    "_WS_PARTY = \"party\"\n",
    "_WS_REFERENCES = \"references\"\n",
    "_WS_REQUIREMENT = \"requirement\"\n",
    "_WS_TEMPORAL_CONSTRAINT = \"TemporalConstraint\"\n",
    "_WS_URL = \"url\"\n",
    "\n",
    "# Default document project code.\n",
    "_DOC_PROJECT = 'CMIP6-TEST'\n",
    "\n",
    "# Default document source.\n",
    "_DOC_SOURCE = 'test-script'\n",
    "\n",
    "# Default document author.\n",
    "_DOC_AUTHOR = pyesdoc.create(cim.v2.Party,\n",
    "                             source=_DOC_SOURCE,\n",
    "                             uid='253825f3-fbc8-43fb-b1f6-cc575dc693eb')\n",
    "_DOC_AUTHOR.email = u\"charlotte.pascoe@stfc.ac.uk\"\n",
    "_DOC_AUTHOR.name = u\"Charlotte Pascoe\""
   ]
  },
  {
   "cell_type": "markdown",
   "metadata": {},
   "source": [
    "## Helper functions to extract data from workbook"
   ]
  },
  {
   "cell_type": "code",
   "execution_count": null,
   "metadata": {
    "collapsed": false
   },
   "outputs": [],
   "source": [
    "def _get_workbook():\n",
    "    \"\"\"Returns pointer to workbook object.\n",
    "    \n",
    "    \"\"\"\n",
    "    global _WORKBOOK\n",
    "    \n",
    "    if _WORKBOOK is None:\n",
    "        _WORKBOOK = xlrd.open_workbook(_WORKBOOK_FPATH)\n",
    "\n",
    "    return _WORKBOOK\n",
    "\n",
    "\n",
    "def _get_ws(ws_name):\n",
    "    \"\"\"Returns pointer to a named worksheet.\n",
    "    \n",
    "    \"\"\"\n",
    "    return _get_workbook().sheet_by_name(ws_name)\n",
    "\n",
    "\n",
    "def _get_ws_rows(ws_name):\n",
    "    \"\"\"Returns collection of rows within a named worksheet.\n",
    "    \n",
    "    \"\"\"\n",
    "    return enumerate(_get_ws(ws_name).get_rows())\n",
    "\n",
    "\n",
    "def _get_ws_data(ws_name):\n",
    "    \"\"\"Returns collection of rows within a named worksheet that correspond to actual data.\n",
    "    \n",
    "    \"\"\"\n",
    "    for idx, row in _get_ws_rows(ws_name):\n",
    "        if idx > 0 and len(row[0].value) > 0:\n",
    "            yield row\n",
    "\n",
    "            \n",
    "def _get_ws_col_map(ws_name):\n",
    "    \"\"\"Returns map of column index to column names - supports situation when user reorders columns.\n",
    "    \n",
    "    \"\"\"\n",
    "    for idx, row in _get_ws_rows(ws_name):\n",
    "        if idx == 0:\n",
    "            return {col.value: col_idx for col_idx, col in enumerate(row)} \n",
    "\n",
    "\n",
    "def _get_ws_document(row, col_map, doc_type, doc_mappings):\n",
    "    \"\"\"Returns a cim document from a spreadsheet row.\n",
    "    \n",
    "    \"\"\"\n",
    "    # Create document.\n",
    "    doc = pyesdoc.create(doc_type,\n",
    "                         project=_DOC_PROJECT,\n",
    "                         source=_DOC_SOURCE,\n",
    "                         author=_DOC_AUTHOR)\n",
    "    \n",
    "    # Apply attribute mappings.\n",
    "    for mapping in doc_mappings:\n",
    "        # Unpack mapping info.\n",
    "        cell_value_convertor = None\n",
    "        if isinstance(mapping, tuple):\n",
    "            mapping, cell_value_convertor = mapping\n",
    "        mapping = mapping.split(\":\")\n",
    "        doc_attr = mapping[0]\n",
    "        col_name = mapping[0] if len(mapping) == 1 else mapping[1]\n",
    "        \n",
    "        # Get cell value.\n",
    "        cell_value = row[col_map[col_name]].value\n",
    "        if cell_value_convertor:\n",
    "            cell_value = cell_value_convertor(cell_value)\n",
    "                    \n",
    "        # Set document attribute.\n",
    "        setattr(doc, doc_attr, cell_value)\n",
    "\n",
    "    return doc\n",
    "\n",
    "\n",
    "def _get_ws_documents(ws_name, doc_type, doc_mappings):\n",
    "    \"\"\"Returns set of cim documents within a spreadsheet.\"\"\"\n",
    "    result = list()\n",
    "    col_map = _get_ws_col_map(ws_name)\n",
    "    for row in _get_ws_data(ws_name):\n",
    "        result.append(_get_ws_document(row, col_map, doc_type, doc_mappings))\n",
    "\n",
    "    return result"
   ]
  },
  {
   "cell_type": "markdown",
   "metadata": {},
   "source": [
    "## Declare cell value convertors"
   ]
  },
  {
   "cell_type": "code",
   "execution_count": null,
   "metadata": {
    "collapsed": true
   },
   "outputs": [],
   "source": [
    "def _convert_to_bool(value):\n",
    "    \"\"\"Converts a cell value to a boolean.\"\"\"\n",
    "    return unicode(value).lower() in [u'true', u't', u'yes', u'y', u\"1\"]\n",
    "\n",
    "def _convert_to_time_period(value):\n",
    "    \"\"\"Converts a cell value to a cim.v2.TimePeriod instance\"\"\"\n",
    "    d = cim.v2.TimePeriod()\n",
    "    d.length = int(value.split(\" \")[0])\n",
    "    d.units = value.split(\" \")[1]\n",
    "    d.date_type = u'unused'\n",
    "\n",
    "    return d"
   ]
  },
  {
   "cell_type": "markdown",
   "metadata": {},
   "source": [
    "## Set CIM v2 document collections"
   ]
  },
  {
   "cell_type": "code",
   "execution_count": null,
   "metadata": {
    "collapsed": true
   },
   "outputs": [],
   "source": [
    "_urls = _get_ws_documents(_WS_URL, cim.v2.OnlineResource, [\n",
    "    (\"description\"),\n",
    "    (\"name\"),\n",
    "    (\"linkage\"),\n",
    "    (\"protocol\")\n",
    "])\n",
    "\n",
    "_citations = _get_ws_documents(_WS_REFERENCES, cim.v2.Citation, [\n",
    "    (\"abstract\"),\n",
    "    (\"citation_str\"),\n",
    "    (\"context\"),\n",
    "    (\"doi\"),\n",
    "    (\"title\"),\n",
    "    (\"url\")\n",
    "])\n",
    "\n",
    "_parties = _get_ws_documents(_WS_PARTY, cim.v2.Party, [\n",
    "    (\"address\"),\n",
    "    (\"email\"),\n",
    "    (\"name\"),\n",
    "    (\"organisation\", _convert_to_bool),\n",
    "    (\"url\")\n",
    "]) \n"
   ]
  },
  {
   "cell_type": "code",
   "execution_count": null,
   "metadata": {
    "collapsed": true
   },
   "outputs": [],
   "source": [
    "_temporal_constraints = _get_ws_documents(_WS_TEMPORAL_CONSTRAINT, cim.v2.TemporalConstraint, [\n",
    "    (\"canonical_name\"),\n",
    "    (\"conformance_is_requested:conformance_requested\", _convert_to_bool),\n",
    "    (\"duration:required_duration\", _convert_to_time_period),\n",
    "    (\"name\"),\n",
    "    (\"references\"),\n",
    "])\n",
    "\n",
    "_forcing_constraints = _get_ws_documents(_WS_FORCING_CONSTRAINT, cim.v2.ForcingConstraint, [\n",
    "    (\"canonical_name\"),\n",
    "    (\"conformance_is_requested:conformance_requested\", _convert_to_bool),        \n",
    "    (\"forcing_type\"),\n",
    "    (\"name\"),\n",
    "    (\"references\"),\n",
    "])\n"
   ]
  },
  {
   "cell_type": "code",
   "execution_count": null,
   "metadata": {
    "collapsed": false
   },
   "outputs": [],
   "source": []
  },
  {
   "cell_type": "markdown",
   "metadata": {},
   "source": [
    "## Set inter-document references"
   ]
  },
  {
   "cell_type": "markdown",
   "metadata": {},
   "source": [
    "### Set urls"
   ]
  },
  {
   "cell_type": "code",
   "execution_count": null,
   "metadata": {
    "collapsed": true
   },
   "outputs": [],
   "source": [
    "def _get_url(name):\n",
    "    \"\"\"Returns matching URL.\n",
    "    \n",
    "    \"\"\"\n",
    "    if name is None or len(name.strip()) == 0:\n",
    "        return None\n",
    "    for url in _urls:\n",
    "        if url.name.lower() == name.lower():\n",
    "            return url"
   ]
  },
  {
   "cell_type": "code",
   "execution_count": null,
   "metadata": {
    "collapsed": false
   },
   "outputs": [],
   "source": [
    "# Set party urls.\n",
    "for party in [p for p in _parties]:\n",
    "    party.url = _get_url(party.url)\n",
    "\n",
    "# # Set reference urls.\n",
    "for citation in [c for c in _citations if c.url]:\n",
    "    citation.url = _get_url(citation.url)"
   ]
  },
  {
   "cell_type": "markdown",
   "metadata": {},
   "source": [
    "### Set citations"
   ]
  },
  {
   "cell_type": "code",
   "execution_count": null,
   "metadata": {
    "collapsed": true
   },
   "outputs": [],
   "source": [
    "def _get_citation(name):\n",
    "    \"\"\"Returns matching citation.\n",
    "    \n",
    "    \"\"\"\n",
    "    if name is None or len(name.strip()) == 0:\n",
    "        return None\n",
    "    for citation in _citations:\n",
    "        if citation.citation_str.lower() == name.lower():\n",
    "            return citation"
   ]
  },
  {
   "cell_type": "code",
   "execution_count": null,
   "metadata": {
    "collapsed": false
   },
   "outputs": [],
   "source": [
    "# Forcing constraint citations.\n",
    "for fc in [i for i in _forcing_constraints if i.references and not isinstance(i.references, list)]:\n",
    "    fc.references = [_get_citation(fc.references)]\n",
    "\n",
    "# Temporal constraint citations.\n",
    "for tc in [i for i in _temporal_constraints if i.references and not isinstance(i.references, list)]:\n",
    "    tc.references = [_get_citation(tc.references)]\n"
   ]
  },
  {
   "cell_type": "markdown",
   "metadata": {},
   "source": [
    "## Display document validation errors"
   ]
  },
  {
   "cell_type": "code",
   "execution_count": null,
   "metadata": {
    "collapsed": true
   },
   "outputs": [],
   "source": [
    "def _validate(target):\n",
    "    \"\"\"Displays document validation errors.\"\"\"\n",
    "    # Invoke document factory functions.\n",
    "    if inspect.isfunction(target):\n",
    "        target = target()\n",
    "\n",
    "    # Set document collection.\n",
    "    try:\n",
    "        iter(target)\n",
    "    except TypeError:\n",
    "        docs = [target]\n",
    "    else:\n",
    "        docs = target\n",
    "    \n",
    "    # Validate document collection.\n",
    "    for doc in docs:\n",
    "        for err_idx, err in enumerate(pyesdoc.validate(doc)):\n",
    "            if err_idx == 0:\n",
    "                print(\"Document errors: {} :: {} :: v{}\".format(doc.type_key, doc.meta.id, doc.meta.version))\n",
    "            print(\"\\t{}\".format(err))    "
   ]
  },
  {
   "cell_type": "code",
   "execution_count": null,
   "metadata": {
    "collapsed": true
   },
   "outputs": [],
   "source": [
    "_validate(_urls)"
   ]
  },
  {
   "cell_type": "code",
   "execution_count": null,
   "metadata": {
    "collapsed": true
   },
   "outputs": [],
   "source": [
    "_validate(_citations)"
   ]
  },
  {
   "cell_type": "code",
   "execution_count": null,
   "metadata": {
    "collapsed": false
   },
   "outputs": [],
   "source": [
    "_validate(_parties)"
   ]
  },
  {
   "cell_type": "code",
   "execution_count": null,
   "metadata": {
    "collapsed": false
   },
   "outputs": [],
   "source": [
    "_validate(_forcing_constraints)"
   ]
  },
  {
   "cell_type": "code",
   "execution_count": null,
   "metadata": {
    "collapsed": false
   },
   "outputs": [],
   "source": [
    "_validate(_temporal_constraints)"
   ]
  },
  {
   "cell_type": "markdown",
   "metadata": {},
   "source": [
    "## Save CIM documents to file system "
   ]
  },
  {
   "cell_type": "code",
   "execution_count": null,
   "metadata": {
    "collapsed": true
   },
   "outputs": [],
   "source": [
    "# Set I/O directory.\n",
    "pyesdoc.set_option(\"output_dir\", _HOME)"
   ]
  },
  {
   "cell_type": "code",
   "execution_count": null,
   "metadata": {
    "collapsed": false
   },
   "outputs": [],
   "source": [
    "# Build collection of documents to be written to file system.\n",
    "docs = sorted(_urls + _citations + _parties + _forcing_constraints + _temporal_constraints)"
   ]
  },
  {
   "cell_type": "code",
   "execution_count": null,
   "metadata": {
    "collapsed": false
   },
   "outputs": [],
   "source": [
    "# Write document set to file system.\n",
    "for doc in sorted(docs):\n",
    "    print pyesdoc.write(doc)"
   ]
  },
  {
   "cell_type": "code",
   "execution_count": null,
   "metadata": {
    "collapsed": false
   },
   "outputs": [],
   "source": [
    "# Read from file system\n",
    "docs = map(pyesdoc.read, glob.glob(os.path.join(_HOME, \"*.json\")))\n",
    "for doc in sorted(docs):\n",
    "    print doc"
   ]
  },
  {
   "cell_type": "code",
   "execution_count": null,
   "metadata": {
    "collapsed": false
   },
   "outputs": [],
   "source": [
    "# Clean up file system.\n",
    "for fpath in glob.glob(os.path.join(_HOME, \"*.json\")):\n",
    "    os.remove(fpath)"
   ]
  },
  {
   "cell_type": "code",
   "execution_count": null,
   "metadata": {
    "collapsed": true
   },
   "outputs": [],
   "source": []
  }
 ],
 "metadata": {
  "kernelspec": {
   "display_name": "Python 2",
   "language": "python",
   "name": "python2"
  },
  "language_info": {
   "codemirror_mode": {
    "name": "ipython",
    "version": 2
   },
   "file_extension": ".py",
   "mimetype": "text/x-python",
   "name": "python",
   "nbconvert_exporter": "python",
   "pygments_lexer": "ipython2",
   "version": "2.7.10"
  }
 },
 "nbformat": 4,
 "nbformat_minor": 0
}
