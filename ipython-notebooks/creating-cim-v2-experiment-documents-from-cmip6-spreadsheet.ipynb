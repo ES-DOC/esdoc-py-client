{
 "cells": [
  {
   "cell_type": "markdown",
   "metadata": {},
   "source": [
    "# Creating CIM v2 documents from CMIP6 spreadsheet"
   ]
  },
  {
   "cell_type": "markdown",
   "metadata": {},
   "source": [
    "## Setup"
   ]
  },
  {
   "cell_type": "code",
   "execution_count": 1,
   "metadata": {
    "collapsed": false
   },
   "outputs": [
    {
     "name": "stdout",
     "output_type": "stream",
     "text": [
      "ES-DOC :: pyesdoc :: INFO > Loading pyesdoc config from: /Users/macg/dev/esdoc/ops/config/pyesdoc.conf\n"
     ]
    }
   ],
   "source": [
    "import glob\n",
    "import inspect\n",
    "import os\n",
    "import uuid\n",
    "\n",
    "import pyesdoc\n",
    "import pyesdoc.ontologies.cim as cim\n",
    "import xlrd"
   ]
  },
  {
   "cell_type": "code",
   "execution_count": 2,
   "metadata": {
    "collapsed": false
   },
   "outputs": [],
   "source": [
    "# Path to test folder.\n",
    "_HOME = os.path.join(os.path.expanduser(\"~\"), \"esdoc-test\")\n",
    "\n",
    "# Path to workbook being converted to CIM v2 documents.\n",
    "_WORKBOOK_FPATH = os.path.join(_HOME, \"CMIP6Experiments.xlsx\")\n",
    "\n",
    "# Workbook being converted to CIM v2 documents.\n",
    "_WORKBOOK = None\n",
    "\n",
    "# Name of relevant worksheets to be found within workbook.\n",
    "_WS_ENSEMBLE_REQUIREMENT = \"EnsembleRequirement\"\n",
    "_WS_EXPERIMENT = \"experiment\"\n",
    "_WS_FORCING_CONSTRAINT = \"ForcingConstraint\"\n",
    "_WS_PARTY = \"party\"\n",
    "_WS_REFERENCES = \"references\"\n",
    "_WS_REQUIREMENT = \"requirement\"\n",
    "_WS_TEMPORAL_CONSTRAINT = \"TemporalConstraint\"\n",
    "_WS_URL = \"url\"\n",
    "\n",
    "# Default document project code.\n",
    "_DOC_PROJECT = 'CMIP6-TEST'\n",
    "\n",
    "# Default document source.\n",
    "_DOC_SOURCE = 'test-script'\n",
    "\n",
    "# Default document author.\n",
    "_DOC_AUTHOR = pyesdoc.create(cim.v2.Party,\n",
    "                             source=_DOC_SOURCE,\n",
    "                             uid='253825f3-fbc8-43fb-b1f6-cc575dc693eb')\n",
    "_DOC_AUTHOR.email = u\"charlotte.pascoe@stfc.ac.uk\"\n",
    "_DOC_AUTHOR.name = u\"Charlotte Pascoe\""
   ]
  },
  {
   "cell_type": "markdown",
   "metadata": {},
   "source": [
    "## Helper functions to extract data from workbook"
   ]
  },
  {
   "cell_type": "code",
   "execution_count": 3,
   "metadata": {
    "collapsed": false
   },
   "outputs": [],
   "source": [
    "def _get_workbook():\n",
    "    \"\"\"Returns pointer to workbook object.\n",
    "    \n",
    "    \"\"\"\n",
    "    global _WORKBOOK\n",
    "    \n",
    "    if _WORKBOOK is None:\n",
    "        _WORKBOOK = xlrd.open_workbook(_WORKBOOK_FPATH)\n",
    "\n",
    "    return _WORKBOOK\n",
    "\n",
    "\n",
    "def _get_ws(ws_name):\n",
    "    \"\"\"Returns pointer to a named worksheet.\n",
    "    \n",
    "    \"\"\"\n",
    "    return _get_workbook().sheet_by_name(ws_name)\n",
    "\n",
    "\n",
    "def _get_ws_rows(ws_name):\n",
    "    \"\"\"Returns collection of rows within a named worksheet.\n",
    "    \n",
    "    \"\"\"\n",
    "    return enumerate(_get_ws(ws_name).get_rows())\n",
    "\n",
    "\n",
    "def _get_ws_data(ws_name):\n",
    "    \"\"\"Returns collection of rows within a named worksheet that correspond to actual data.\n",
    "    \n",
    "    \"\"\"\n",
    "    for idx, row in _get_ws_rows(ws_name):\n",
    "        if idx > 0 and len(row[0].value) > 0:\n",
    "            yield row\n",
    "\n",
    "            \n",
    "def _get_ws_col_map(ws_name):\n",
    "    \"\"\"Returns map of column index to column names - supports situation when user reorders columns.\n",
    "    \n",
    "    \"\"\"\n",
    "    for idx, row in _get_ws_rows(ws_name):\n",
    "        if idx == 0:\n",
    "            return {col.value: col_idx for col_idx, col in enumerate(row)} \n",
    "\n",
    "\n",
    "def _get_ws_document(row, col_map, doc_type, doc_mappings):\n",
    "    \"\"\"Returns a cim document from a spreadsheet row.\n",
    "    \n",
    "    \"\"\"\n",
    "    # Create document.\n",
    "    doc = pyesdoc.create(doc_type,\n",
    "                         project=_DOC_PROJECT,\n",
    "                         source=_DOC_SOURCE,\n",
    "                         author=_DOC_AUTHOR)\n",
    "    \n",
    "    # Apply attribute mappings.\n",
    "    for mapping in doc_mappings:\n",
    "        # Unpack mapping info.\n",
    "        cell_value_convertor = None\n",
    "        if isinstance(mapping, tuple):\n",
    "            mapping, cell_value_convertor = mapping\n",
    "        mapping = mapping.split(\":\")\n",
    "        doc_attr = mapping[0]\n",
    "        col_name = mapping[0] if len(mapping) == 1 else mapping[1]\n",
    "        \n",
    "        # Get cell value.\n",
    "        cell_value = row[col_map[col_name]].value\n",
    "        if cell_value_convertor:\n",
    "            cell_value = cell_value_convertor(cell_value)\n",
    "                    \n",
    "        # Set document attribute.\n",
    "        setattr(doc, doc_attr, cell_value)\n",
    "\n",
    "    return doc\n",
    "\n",
    "\n",
    "def _get_ws_documents(ws_name, doc_type, doc_mappings):\n",
    "    \"\"\"Returns set of cim documents within a spreadsheet.\"\"\"\n",
    "    result = list()\n",
    "    col_map = _get_ws_col_map(ws_name)\n",
    "    for row in _get_ws_data(ws_name):\n",
    "        result.append(_get_ws_document(row, col_map, doc_type, doc_mappings))\n",
    "\n",
    "    return result"
   ]
  },
  {
   "cell_type": "markdown",
   "metadata": {},
   "source": [
    "## Declare cell value convertors"
   ]
  },
  {
   "cell_type": "code",
   "execution_count": 4,
   "metadata": {
    "collapsed": true
   },
   "outputs": [],
   "source": [
    "def _convert_to_bool(value):\n",
    "    \"\"\"Converts a cell value to a boolean.\"\"\"\n",
    "    if len(value) == 0:\n",
    "        return False\n",
    "    return unicode(value).lower() in [u'true', u't', u'yes', u'y', u\"1\"]\n",
    "\n",
    "def _convert_to_time_period(value):\n",
    "    \"\"\"Converts a cell value to a cim.v2.TimePeriod instance\"\"\"\n",
    "    d = cim.v2.TimePeriod()\n",
    "    d.length = int(value.split(\" \")[0])\n",
    "    d.units = value.split(\" \")[1]\n",
    "    d.date_type = u'unused'\n",
    "\n",
    "    return d"
   ]
  },
  {
   "cell_type": "markdown",
   "metadata": {},
   "source": [
    "## Map worksheets to CIM v2 documents"
   ]
  },
  {
   "cell_type": "code",
   "execution_count": 5,
   "metadata": {
    "collapsed": true
   },
   "outputs": [],
   "source": [
    "def _get_parties():\n",
    "    \"\"\"Returns set of resposible parties definied within workbook.\n",
    "    \n",
    "    \"\"\"\n",
    "    def _convert_url(value):\n",
    "        \"\"\"Converts a cell value to a cim.v2.OnlineResource instance\"\"\"\n",
    "        if len(value) == 0:\n",
    "            return None\n",
    "        d = cim.v2.OnlineResource()\n",
    "        d.name = value\n",
    "        return d\n",
    "    \n",
    "    mappings = [\n",
    "        (\"address\"),\n",
    "        (\"email\"),\n",
    "        (\"name\"),\n",
    "        (\"organisation\", _convert_to_bool),\n",
    "        (\"url\", _convert_url)\n",
    "    ]\n",
    "    \n",
    "    return _get_ws_documents(_WS_PARTY, cim.v2.Party, mappings) "
   ]
  },
  {
   "cell_type": "code",
   "execution_count": 6,
   "metadata": {
    "collapsed": true
   },
   "outputs": [],
   "source": [
    "def _get_temporal_constraints():\n",
    "    \"\"\"Returns set of temporal constraints definied within workbook.\n",
    "    \n",
    "    \"\"\"\n",
    "    mappings = [\n",
    "        (\"canonical_name\"),\n",
    "        (\"conformance_is_requested:conformance_requested\", _convert_to_bool),\n",
    "        (\"duration:required_duration\", _convert_to_time_period),\n",
    "        (\"name\"),\n",
    "    ]\n",
    "    \n",
    "    return _get_ws_documents(_WS_TEMPORAL_CONSTRAINT, cim.v2.TemporalConstraint, mappings)"
   ]
  },
  {
   "cell_type": "code",
   "execution_count": 7,
   "metadata": {
    "collapsed": true
   },
   "outputs": [],
   "source": [
    "def _get_forcing_constraints():\n",
    "    \"\"\"Returns set of temporal constraints definied within workbook.\n",
    "    \n",
    "    \"\"\"\n",
    "    mappings = [\n",
    "        (\"canonical_name\"),\n",
    "        (\"conformance_is_requested:conformance_requested\", _convert_to_bool),        \n",
    "        (\"forcing_type\"),\n",
    "        (\"name\"),\n",
    "    ]\n",
    "    \n",
    "    return _get_ws_documents(_WS_FORCING_CONSTRAINT, cim.v2.ForcingConstraint, mappings)"
   ]
  },
  {
   "cell_type": "markdown",
   "metadata": {},
   "source": [
    "## Display document validation errors"
   ]
  },
  {
   "cell_type": "code",
   "execution_count": 8,
   "metadata": {
    "collapsed": true
   },
   "outputs": [],
   "source": [
    "def _validate(target):\n",
    "    \"\"\"Displays document validation errors.\"\"\"\n",
    "    # Invoke document factory functions.\n",
    "    if inspect.isfunction(target):\n",
    "        target = target()\n",
    "\n",
    "    # Set document collection.\n",
    "    try:\n",
    "        iter(target)\n",
    "    except TypeError:\n",
    "        docs = [target]\n",
    "    else:\n",
    "        docs = target\n",
    "    \n",
    "    # Validate document collection.\n",
    "    for doc in docs:\n",
    "        for err_idx, err in enumerate(pyesdoc.validate(doc)):\n",
    "            if err_idx == 0:\n",
    "                print(\"Document errors: {} :: {} :: v{}\".format(doc.type_key, doc.meta.id, doc.meta.version))\n",
    "            print(\"\\t{}\".format(err))    "
   ]
  },
  {
   "cell_type": "code",
   "execution_count": 9,
   "metadata": {
    "collapsed": false
   },
   "outputs": [
    {
     "name": "stdout",
     "output_type": "stream",
     "text": [
      "Document errors: cim.2.shared.Party :: e1772b67-71f5-441e-b9e5-0c94c971bf52 :: v0\n",
      "\tdoc.url.linkage --> is null\n",
      "Document errors: cim.2.shared.Party :: 4377800e-e93a-45be-8cc1-9fe10a8d0deb :: v0\n",
      "\tdoc.url.linkage --> is null\n",
      "Document errors: cim.2.shared.Party :: 52d5636e-bf6c-4bfa-a353-8f89b5a3aed7 :: v0\n",
      "\tdoc.url.linkage --> is null\n",
      "Document errors: cim.2.shared.Party :: f10313a3-7c15-48db-b815-7cf930b39dff :: v0\n",
      "\tdoc.url.linkage --> is null\n",
      "Document errors: cim.2.shared.Party :: b9fee1d6-cd0f-438e-874f-eb4fb2336368 :: v0\n",
      "\tdoc.url.linkage --> is null\n",
      "Document errors: cim.2.shared.Party :: a746b1fc-5722-47c7-b3e2-4c0d28dd8f34 :: v0\n",
      "\tdoc.url.linkage --> is null\n",
      "Document errors: cim.2.shared.Party :: 5ec01ba0-c6bf-46f1-8ce5-aed30543ed8b :: v0\n",
      "\tdoc.url.linkage --> is null\n",
      "Document errors: cim.2.shared.Party :: 91f051d5-0ce5-4940-96b5-5f7f001eda5c :: v0\n",
      "\tdoc.url.linkage --> is null\n",
      "Document errors: cim.2.shared.Party :: 718a1e5c-63d2-46e6-a415-6f10ae22ac12 :: v0\n",
      "\tdoc.url.linkage --> is null\n",
      "Document errors: cim.2.shared.Party :: b407bb29-6d44-4501-afb9-953e7ef94277 :: v0\n",
      "\tdoc.url.linkage --> is null\n",
      "Document errors: cim.2.shared.Party :: bbd424d7-8e17-4fa4-8886-563eaf4226e8 :: v0\n",
      "\tdoc.url.linkage --> is null\n",
      "Document errors: cim.2.shared.Party :: b2a39dc6-e5d5-4d82-ae53-4c69f9911dfd :: v0\n",
      "\tdoc.url.linkage --> is null\n",
      "Document errors: cim.2.shared.Party :: 399f8c59-c83a-42a4-bddd-65a1a3dd946c :: v0\n",
      "\tdoc.url.linkage --> is null\n",
      "Document errors: cim.2.shared.Party :: 2792c278-eacb-4a95-93b5-27b55b2b3bc0 :: v0\n",
      "\tdoc.url.linkage --> is null\n",
      "Document errors: cim.2.shared.Party :: 1c9c629c-44c0-4023-a471-5d1f94da6ea9 :: v0\n",
      "\tdoc.url.linkage --> is null\n",
      "Document errors: cim.2.shared.Party :: 633b1698-deb5-4113-bfb4-c898b568a7e7 :: v0\n",
      "\tdoc.url.linkage --> is null\n",
      "Document errors: cim.2.shared.Party :: c10875c5-3969-401b-953e-501b45b1d22c :: v0\n",
      "\tdoc.url.linkage --> is null\n",
      "Document errors: cim.2.shared.Party :: 4e583379-2d3d-48a6-9297-f6579a425804 :: v0\n",
      "\tdoc.url.linkage --> is null\n",
      "Document errors: cim.2.shared.Party :: 3ab4952e-064c-43a6-928d-739f737084b0 :: v0\n",
      "\tdoc.url.linkage --> is null\n",
      "Document errors: cim.2.shared.Party :: 28deb309-a306-433c-848f-566f5dd9e0a6 :: v0\n",
      "\tdoc.url.linkage --> is null\n",
      "Document errors: cim.2.shared.Party :: c9d177e8-7b0b-424f-9a00-1f0534156450 :: v0\n",
      "\tdoc.url.linkage --> is null\n",
      "Document errors: cim.2.shared.Party :: b72b7987-cb16-40fd-a0ef-456226592428 :: v0\n",
      "\tdoc.address --> is of invalid type (actual = <type 'str'>, expected=<type 'unicode'>)\n",
      "\tdoc.email --> is of invalid type (actual = <type 'str'>, expected=<type 'unicode'>)\n",
      "\tdoc.url.linkage --> is null\n"
     ]
    }
   ],
   "source": [
    "_validate(_get_parties)"
   ]
  },
  {
   "cell_type": "code",
   "execution_count": 10,
   "metadata": {
    "collapsed": false
   },
   "outputs": [],
   "source": [
    "_validate(_get_temporal_constraints)"
   ]
  },
  {
   "cell_type": "code",
   "execution_count": 11,
   "metadata": {
    "collapsed": false
   },
   "outputs": [
    {
     "name": "stdout",
     "output_type": "stream",
     "text": [
      "Document errors: cim.2.activity.ForcingConstraint :: d50536c8-df6b-4511-8b32-e7b5201e30ed :: v0\n",
      "\tdoc.category --> is null\n",
      "\tdoc.code --> is null\n",
      "Document errors: cim.2.activity.ForcingConstraint :: afae1b19-22c6-4e6e-8106-2ee962466167 :: v0\n",
      "\tdoc.category --> is null\n",
      "\tdoc.code --> is null\n",
      "Document errors: cim.2.activity.ForcingConstraint :: 0f1e5594-f896-4080-8764-340599a7a533 :: v0\n",
      "\tdoc.category --> is null\n",
      "\tdoc.code --> is null\n",
      "Document errors: cim.2.activity.ForcingConstraint :: cce7bebd-a3f3-4fda-9378-1bb7ad279d57 :: v0\n",
      "\tdoc.category --> is null\n",
      "\tdoc.code --> is null\n",
      "Document errors: cim.2.activity.ForcingConstraint :: 8dc4095d-bb23-476a-adfb-81d3afbcdcdb :: v0\n",
      "\tdoc.category --> is null\n",
      "\tdoc.code --> is null\n",
      "Document errors: cim.2.activity.ForcingConstraint :: fc1376ad-c032-41ba-abe1-fc2f8a2be321 :: v0\n",
      "\tdoc.category --> is null\n",
      "\tdoc.code --> is null\n",
      "Document errors: cim.2.activity.ForcingConstraint :: 34518024-5a1b-4317-aa17-ec271e94822d :: v0\n",
      "\tdoc.category --> is null\n",
      "\tdoc.code --> is null\n",
      "Document errors: cim.2.activity.ForcingConstraint :: 7d68087a-52ae-43f3-a14d-2751c9b51a3b :: v0\n",
      "\tdoc.category --> is null\n",
      "\tdoc.code --> is null\n",
      "Document errors: cim.2.activity.ForcingConstraint :: 3dc7014f-54d1-4b32-9b72-7e76ea4f2eaf :: v0\n",
      "\tdoc.category --> is null\n",
      "\tdoc.code --> is null\n",
      "Document errors: cim.2.activity.ForcingConstraint :: 139a366d-be89-4a6a-887c-d31d76731e35 :: v0\n",
      "\tdoc.category --> is null\n",
      "\tdoc.code --> is null\n",
      "Document errors: cim.2.activity.ForcingConstraint :: 343b545d-7b88-477b-959f-7aba1ad9437f :: v0\n",
      "\tdoc.category --> is null\n",
      "\tdoc.code --> is null\n",
      "Document errors: cim.2.activity.ForcingConstraint :: 3bcff00d-d91e-40d8-b4a3-92e0d47318f5 :: v0\n",
      "\tdoc.category --> is null\n",
      "\tdoc.code --> is null\n",
      "Document errors: cim.2.activity.ForcingConstraint :: 921e259b-9611-4d4e-b9de-ddb7ad2814b0 :: v0\n",
      "\tdoc.category --> is null\n",
      "\tdoc.code --> is null\n",
      "Document errors: cim.2.activity.ForcingConstraint :: 9ef96d1f-8764-4b7a-9a70-9fdfdccb3a12 :: v0\n",
      "\tdoc.category --> is null\n",
      "\tdoc.code --> is null\n",
      "Document errors: cim.2.activity.ForcingConstraint :: 6bfc4236-87e1-4726-a8fd-ce190ad44b4d :: v0\n",
      "\tdoc.category --> is null\n",
      "\tdoc.code --> is null\n",
      "Document errors: cim.2.activity.ForcingConstraint :: 0fcb6f2a-baae-42b2-adcd-d8aedb55fa2b :: v0\n",
      "\tdoc.category --> is null\n",
      "\tdoc.code --> is null\n",
      "Document errors: cim.2.activity.ForcingConstraint :: a6d9ff42-2592-4aaf-9f8e-442cec78322a :: v0\n",
      "\tdoc.category --> is null\n",
      "\tdoc.code --> is null\n",
      "Document errors: cim.2.activity.ForcingConstraint :: c50c5728-3a57-4c9d-85dc-51c142ddbce5 :: v0\n",
      "\tdoc.category --> is null\n",
      "\tdoc.code --> is null\n",
      "Document errors: cim.2.activity.ForcingConstraint :: 824e6ce3-f4ed-40a4-94d3-28524bfa7148 :: v0\n",
      "\tdoc.category --> is null\n",
      "\tdoc.code --> is null\n"
     ]
    }
   ],
   "source": [
    "_validate(_get_forcing_constraints)"
   ]
  },
  {
   "cell_type": "markdown",
   "metadata": {},
   "source": [
    "## Save CIM documents to file system "
   ]
  },
  {
   "cell_type": "code",
   "execution_count": 12,
   "metadata": {
    "collapsed": true
   },
   "outputs": [],
   "source": [
    "# Set I/O directory.\n",
    "pyesdoc.set_option(\"output_dir\", _HOME)"
   ]
  },
  {
   "cell_type": "code",
   "execution_count": 13,
   "metadata": {
    "collapsed": false
   },
   "outputs": [],
   "source": [
    "# Build collection of documents to be written to file system.\n",
    "docs = sorted(_get_temporal_constraints() + _get_forcing_constraints())"
   ]
  },
  {
   "cell_type": "code",
   "execution_count": 14,
   "metadata": {
    "collapsed": false
   },
   "outputs": [
    {
     "name": "stdout",
     "output_type": "stream",
     "text": [
      "/Users/macg/esdoc-test/cim.2.activity.ForcingConstraint_26357051-e72a-47af-9dfa-cb0a47fe325d_0.json\n",
      "/Users/macg/esdoc-test/cim.2.activity.ForcingConstraint_aba7c455-c4d0-48a7-a5ee-7414530b7b06_0.json\n",
      "/Users/macg/esdoc-test/cim.2.activity.ForcingConstraint_3ae36ece-0c02-42f6-a17a-167b24a152ec_0.json\n",
      "/Users/macg/esdoc-test/cim.2.activity.ForcingConstraint_8c242920-0929-4ee4-ad3c-854398291b2d_0.json\n",
      "/Users/macg/esdoc-test/cim.2.activity.ForcingConstraint_5927b096-78fa-4533-b5b1-068803f2f30c_0.json\n",
      "/Users/macg/esdoc-test/cim.2.activity.ForcingConstraint_4e6c7c3a-04f6-4267-975a-731ff68b042a_0.json\n",
      "/Users/macg/esdoc-test/cim.2.activity.ForcingConstraint_d494ae2c-98b8-4ccc-99e4-f71e100a5878_0.json\n",
      "/Users/macg/esdoc-test/cim.2.activity.ForcingConstraint_90d1bf1c-4594-475d-a2a1-f977e141500a_0.json\n",
      "/Users/macg/esdoc-test/cim.2.activity.ForcingConstraint_471184b2-2354-48d6-a88b-6801037ae567_0.json\n",
      "/Users/macg/esdoc-test/cim.2.activity.ForcingConstraint_0cd377ef-2e4f-4690-b163-bd682b35fcea_0.json\n",
      "/Users/macg/esdoc-test/cim.2.activity.ForcingConstraint_61a2a245-4d72-4e21-a015-854d488b3127_0.json\n",
      "/Users/macg/esdoc-test/cim.2.activity.ForcingConstraint_9b533d49-0811-4ff8-a8c7-66c317f1391e_0.json\n",
      "/Users/macg/esdoc-test/cim.2.activity.ForcingConstraint_f6ba7fe5-a4a3-4a61-8717-f95acb84f229_0.json\n",
      "/Users/macg/esdoc-test/cim.2.activity.ForcingConstraint_bf50a8d1-f426-4594-a072-fdd20117d4ab_0.json\n",
      "/Users/macg/esdoc-test/cim.2.activity.ForcingConstraint_b7775d14-382c-438d-a103-14441ae22c65_0.json\n",
      "/Users/macg/esdoc-test/cim.2.activity.ForcingConstraint_3786280e-b2c3-4504-bd54-4c22657a0d3b_0.json\n",
      "/Users/macg/esdoc-test/cim.2.activity.ForcingConstraint_3be3ea1f-05e8-4a2e-a68c-410e4d29c21b_0.json\n",
      "/Users/macg/esdoc-test/cim.2.activity.ForcingConstraint_1d15ff80-1ab9-4cc3-b6a7-877c14c3e730_0.json\n",
      "/Users/macg/esdoc-test/cim.2.activity.ForcingConstraint_a67c4aa8-5ccf-47f7-8aeb-551ec4492778_0.json\n",
      "/Users/macg/esdoc-test/cim.2.activity.TemporalConstraint_d882c712-dcd9-444e-91a3-fc377a949192_0.json\n",
      "/Users/macg/esdoc-test/cim.2.activity.TemporalConstraint_c8fed83b-e22f-4a21-8bd9-0741b5432ab7_0.json\n",
      "/Users/macg/esdoc-test/cim.2.activity.TemporalConstraint_936382c8-994d-47c2-ac30-dfc645646abc_0.json\n",
      "/Users/macg/esdoc-test/cim.2.activity.TemporalConstraint_dc102da0-b88d-4e3a-9b98-109deffce083_0.json\n",
      "/Users/macg/esdoc-test/cim.2.activity.TemporalConstraint_276865ae-34f1-4580-8c18-c65f3e847201_0.json\n"
     ]
    }
   ],
   "source": [
    "# Write document set to file system.\n",
    "for doc in sorted(docs):\n",
    "    print pyesdoc.write(doc)"
   ]
  },
  {
   "cell_type": "code",
   "execution_count": 15,
   "metadata": {
    "collapsed": false
   },
   "outputs": [
    {
     "name": "stdout",
     "output_type": "stream",
     "text": [
      "<pyesdoc.ontologies.cim.v2.typeset_for_activity_package.ForcingConstraint object at 0x10d718450>\n",
      "<pyesdoc.ontologies.cim.v2.typeset_for_activity_package.ForcingConstraint object at 0x10d733890>\n",
      "<pyesdoc.ontologies.cim.v2.typeset_for_activity_package.ForcingConstraint object at 0x10d799190>\n",
      "<pyesdoc.ontologies.cim.v2.typeset_for_activity_package.ForcingConstraint object at 0x10d7ab350>\n",
      "<pyesdoc.ontologies.cim.v2.typeset_for_activity_package.ForcingConstraint object at 0x10d7d0390>\n",
      "<pyesdoc.ontologies.cim.v2.typeset_for_activity_package.ForcingConstraint object at 0x10d7d0490>\n",
      "<pyesdoc.ontologies.cim.v2.typeset_for_activity_package.ForcingConstraint object at 0x10d7d04d0>\n",
      "<pyesdoc.ontologies.cim.v2.typeset_for_activity_package.ForcingConstraint object at 0x10d7d0610>\n",
      "<pyesdoc.ontologies.cim.v2.typeset_for_activity_package.ForcingConstraint object at 0x10d7d0710>\n",
      "<pyesdoc.ontologies.cim.v2.typeset_for_activity_package.ForcingConstraint object at 0x10d7d0a10>\n",
      "<pyesdoc.ontologies.cim.v2.typeset_for_activity_package.ForcingConstraint object at 0x10d7d0b50>\n",
      "<pyesdoc.ontologies.cim.v2.typeset_for_activity_package.ForcingConstraint object at 0x10d7d0b90>\n",
      "<pyesdoc.ontologies.cim.v2.typeset_for_activity_package.ForcingConstraint object at 0x10d7d0c50>\n",
      "<pyesdoc.ontologies.cim.v2.typeset_for_activity_package.ForcingConstraint object at 0x10d7ffdd0>\n",
      "<pyesdoc.ontologies.cim.v2.typeset_for_activity_package.ForcingConstraint object at 0x10d7fff10>\n",
      "<pyesdoc.ontologies.cim.v2.typeset_for_activity_package.ForcingConstraint object at 0x10d7fff90>\n",
      "<pyesdoc.ontologies.cim.v2.typeset_for_activity_package.ForcingConstraint object at 0x10d806310>\n",
      "<pyesdoc.ontologies.cim.v2.typeset_for_activity_package.ForcingConstraint object at 0x10d8064d0>\n",
      "<pyesdoc.ontologies.cim.v2.typeset_for_activity_package.ForcingConstraint object at 0x10d806510>\n",
      "<pyesdoc.ontologies.cim.v2.typeset_for_activity_package.TemporalConstraint object at 0x10d718050>\n",
      "<pyesdoc.ontologies.cim.v2.typeset_for_activity_package.TemporalConstraint object at 0x10d788950>\n",
      "<pyesdoc.ontologies.cim.v2.typeset_for_activity_package.TemporalConstraint object at 0x10d7996d0>\n",
      "<pyesdoc.ontologies.cim.v2.typeset_for_activity_package.TemporalConstraint object at 0x10d7d0b10>\n",
      "<pyesdoc.ontologies.cim.v2.typeset_for_activity_package.TemporalConstraint object at 0x10d7ffe10>\n"
     ]
    }
   ],
   "source": [
    "# Read from file system\n",
    "docs = map(pyesdoc.read, glob.glob(os.path.join(_HOME, \"*.json\")))\n",
    "for doc in sorted(docs):\n",
    "    print doc"
   ]
  },
  {
   "cell_type": "code",
   "execution_count": 16,
   "metadata": {
    "collapsed": false
   },
   "outputs": [],
   "source": [
    "# Clean up file system.\n",
    "for fpath in glob.glob(os.path.join(_HOME, \"*.json\")):\n",
    "    os.remove(fpath)"
   ]
  },
  {
   "cell_type": "code",
   "execution_count": null,
   "metadata": {
    "collapsed": true
   },
   "outputs": [],
   "source": []
  }
 ],
 "metadata": {
  "kernelspec": {
   "display_name": "Python 2",
   "language": "python",
   "name": "python2"
  },
  "language_info": {
   "codemirror_mode": {
    "name": "ipython",
    "version": 2
   },
   "file_extension": ".py",
   "mimetype": "text/x-python",
   "name": "python",
   "nbconvert_exporter": "python",
   "pygments_lexer": "ipython2",
   "version": "2.7.10"
  }
 },
 "nbformat": 4,
 "nbformat_minor": 0
}
