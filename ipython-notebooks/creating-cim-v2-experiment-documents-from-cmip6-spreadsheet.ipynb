{
 "cells": [
  {
   "cell_type": "markdown",
   "metadata": {},
   "source": [
    "# Creating CIM v2 documents from CMIP6 spreadsheet"
   ]
  },
  {
   "cell_type": "markdown",
   "metadata": {},
   "source": [
    "## Setup"
   ]
  },
  {
   "cell_type": "code",
   "execution_count": 1,
   "metadata": {
    "collapsed": false
   },
   "outputs": [
    {
     "name": "stdout",
     "output_type": "stream",
     "text": [
      "ES-DOC :: pyesdoc :: INFO > Loading pyesdoc config from: /Users/macg/dev/esdoc/ops/config/pyesdoc.conf\n"
     ]
    }
   ],
   "source": [
    "import glob\n",
    "import inspect\n",
    "import os\n",
    "import uuid\n",
    "\n",
    "import pyesdoc\n",
    "import pyesdoc.ontologies.cim as cim\n",
    "import xlrd"
   ]
  },
  {
   "cell_type": "code",
   "execution_count": 2,
   "metadata": {
    "collapsed": false
   },
   "outputs": [],
   "source": [
    "# Path to test folder.\n",
    "_HOME = os.path.join(os.path.expanduser(\"~\"), \"esdoc-test\")\n",
    "\n",
    "# Path to workbook being converted to CIM v2 documents.\n",
    "_WORKBOOK_FPATH = os.path.join(_HOME, \"CMIP6Experiments.xlsx\")\n",
    "\n",
    "# Workbook being converted to CIM v2 documents.\n",
    "_WORKBOOK = None\n",
    "\n",
    "# Name of relevant worksheets to be found within workbook.\n",
    "_WS_ENSEMBLE_REQUIREMENT = \"EnsembleRequirement\"\n",
    "_WS_EXPERIMENT = \"experiment\"\n",
    "_WS_FORCING_CONSTRAINT = \"ForcingConstraint\"\n",
    "_WS_PARTY = \"party\"\n",
    "_WS_REFERENCES = \"references\"\n",
    "_WS_REQUIREMENT = \"requirement\"\n",
    "_WS_TEMPORAL_CONSTRAINT = \"TemporalConstraint\"\n",
    "_WS_URL = \"url\"\n",
    "\n",
    "# Default document project code.\n",
    "_DOC_PROJECT = 'CMIP6-TEST'\n",
    "\n",
    "# Default document source.\n",
    "_DOC_SOURCE = 'test-script'\n",
    "\n",
    "# Default document author.\n",
    "_DOC_AUTHOR = pyesdoc.create(cim.v2.Party,\n",
    "                             source=_DOC_SOURCE,\n",
    "                             uid='253825f3-fbc8-43fb-b1f6-cc575dc693eb')\n",
    "_DOC_AUTHOR.email = u\"charlotte.pascoe@stfc.ac.uk\"\n",
    "_DOC_AUTHOR.name = u\"Charlotte Pascoe\""
   ]
  },
  {
   "cell_type": "markdown",
   "metadata": {},
   "source": [
    "## Helper functions to extract data from workbook"
   ]
  },
  {
   "cell_type": "code",
   "execution_count": 3,
   "metadata": {
    "collapsed": false
   },
   "outputs": [],
   "source": [
    "def _get_workbook():\n",
    "    \"\"\"Returns pointer to workbook object.\n",
    "    \n",
    "    \"\"\"\n",
    "    global _WORKBOOK\n",
    "    \n",
    "    if _WORKBOOK is None:\n",
    "        _WORKBOOK = xlrd.open_workbook(_WORKBOOK_FPATH)\n",
    "\n",
    "    return _WORKBOOK\n",
    "\n",
    "\n",
    "def _get_ws(ws_name):\n",
    "    \"\"\"Returns pointer to a named worksheet.\n",
    "    \n",
    "    \"\"\"\n",
    "    return _get_workbook().sheet_by_name(ws_name)\n",
    "\n",
    "\n",
    "def _get_ws_rows(ws_name):\n",
    "    \"\"\"Returns collection of rows within a named worksheet.\n",
    "    \n",
    "    \"\"\"\n",
    "    return enumerate(_get_ws(ws_name).get_rows())\n",
    "\n",
    "\n",
    "def _get_ws_data(ws_name):\n",
    "    \"\"\"Returns collection of rows within a named worksheet that correspond to actual data.\n",
    "    \n",
    "    \"\"\"\n",
    "    for idx, row in _get_ws_rows(ws_name):\n",
    "        if idx > 0 and len(row[0].value) > 0:\n",
    "            yield row\n",
    "\n",
    "            \n",
    "def _get_ws_col_map(ws_name):\n",
    "    \"\"\"Returns map of column index to column names - supports situation when user reorders columns.\n",
    "    \n",
    "    \"\"\"\n",
    "    for idx, row in _get_ws_rows(ws_name):\n",
    "        if idx == 0:\n",
    "            return {col.value: col_idx for col_idx, col in enumerate(row)} \n",
    "\n",
    "\n",
    "def _get_ws_document(row, col_map, doc_type, doc_mappings):\n",
    "    \"\"\"Returns a cim document from a spreadsheet row.\n",
    "    \n",
    "    \"\"\"\n",
    "    # Create document.\n",
    "    doc = pyesdoc.create(doc_type,\n",
    "                         project=_DOC_PROJECT,\n",
    "                         source=_DOC_SOURCE,\n",
    "                         author=_DOC_AUTHOR)\n",
    "    \n",
    "    # Apply attribute mappings.\n",
    "    for mapping in doc_mappings:\n",
    "        # Unpack mapping info.\n",
    "        cell_value_convertor = None\n",
    "        if isinstance(mapping, tuple):\n",
    "            mapping, cell_value_convertor = mapping\n",
    "        mapping = mapping.split(\":\")\n",
    "        doc_attr = mapping[0]\n",
    "        col_name = mapping[0] if len(mapping) == 1 else mapping[1]\n",
    "        \n",
    "        # Get cell value.\n",
    "        cell_value = row[col_map[col_name]].value\n",
    "        if cell_value_convertor:\n",
    "            cell_value = cell_value_convertor(cell_value)\n",
    "                    \n",
    "        # Set document attribute.\n",
    "        setattr(doc, doc_attr, cell_value)\n",
    "\n",
    "    return doc\n",
    "\n",
    "\n",
    "def _get_ws_documents(ws_name, doc_type, doc_mappings):\n",
    "    \"\"\"Returns set of cim documents within a spreadsheet.\"\"\"\n",
    "    result = list()\n",
    "    col_map = _get_ws_col_map(ws_name)\n",
    "    for row in _get_ws_data(ws_name):\n",
    "        result.append(_get_ws_document(row, col_map, doc_type, doc_mappings))\n",
    "\n",
    "    return result"
   ]
  },
  {
   "cell_type": "markdown",
   "metadata": {},
   "source": [
    "## Declare cell value convertors"
   ]
  },
  {
   "cell_type": "code",
   "execution_count": 4,
   "metadata": {
    "collapsed": true
   },
   "outputs": [],
   "source": [
    "def _convert_to_bool(value):\n",
    "    \"\"\"Converts a cell value to a boolean.\"\"\"\n",
    "    return unicode(value).lower() in [u'true', u't', u'yes', u'y', u\"1\"]\n",
    "\n",
    "def _convert_to_time_period(value):\n",
    "    \"\"\"Converts a cell value to a cim.v2.TimePeriod instance\"\"\"\n",
    "    d = cim.v2.TimePeriod()\n",
    "    d.length = int(value.split(\" \")[0])\n",
    "    d.units = value.split(\" \")[1]\n",
    "    d.date_type = u'unused'\n",
    "\n",
    "    return d"
   ]
  },
  {
   "cell_type": "markdown",
   "metadata": {},
   "source": [
    "## Set CIM v2 document collections"
   ]
  },
  {
   "cell_type": "code",
   "execution_count": 5,
   "metadata": {
    "collapsed": true
   },
   "outputs": [],
   "source": [
    "_urls = _get_ws_documents(_WS_URL, cim.v2.OnlineResource, [\n",
    "    (\"description\"),\n",
    "    (\"name\"),\n",
    "    (\"linkage\"),\n",
    "    (\"protocol\")\n",
    "])\n",
    "\n",
    "_citations = _get_ws_documents(_WS_REFERENCES, cim.v2.Citation, [\n",
    "    (\"abstract\"),\n",
    "    (\"citation_str\"),\n",
    "    (\"context\"),\n",
    "    (\"doi\"),\n",
    "    (\"title\"),\n",
    "    (\"url\")\n",
    "])\n",
    "\n",
    "_parties = _get_ws_documents(_WS_PARTY, cim.v2.Party, [\n",
    "    (\"address\"),\n",
    "    (\"email\"),\n",
    "    (\"name\"),\n",
    "    (\"organisation\", _convert_to_bool),\n",
    "    (\"url\")\n",
    "]) \n"
   ]
  },
  {
   "cell_type": "code",
   "execution_count": 6,
   "metadata": {
    "collapsed": true
   },
   "outputs": [],
   "source": [
    "_temporal_constraints = _get_ws_documents(_WS_TEMPORAL_CONSTRAINT, cim.v2.TemporalConstraint, [\n",
    "    (\"canonical_name\"),\n",
    "    (\"conformance_is_requested:conformance_requested\", _convert_to_bool),\n",
    "    (\"duration:required_duration\", _convert_to_time_period),\n",
    "    (\"name\"),\n",
    "    (\"references\"),\n",
    "])\n",
    "\n",
    "_forcing_constraints = _get_ws_documents(_WS_FORCING_CONSTRAINT, cim.v2.ForcingConstraint, [\n",
    "    (\"canonical_name\"),\n",
    "    (\"conformance_is_requested:conformance_requested\", _convert_to_bool),        \n",
    "    (\"forcing_type\"),\n",
    "    (\"name\"),\n",
    "    (\"references\"),\n",
    "])\n"
   ]
  },
  {
   "cell_type": "markdown",
   "metadata": {},
   "source": [
    "## Set inter-document references"
   ]
  },
  {
   "cell_type": "markdown",
   "metadata": {},
   "source": [
    "### Set urls"
   ]
  },
  {
   "cell_type": "code",
   "execution_count": 7,
   "metadata": {
    "collapsed": true
   },
   "outputs": [],
   "source": [
    "def _get_url(name):\n",
    "    \"\"\"Returns matching URL.\n",
    "    \n",
    "    \"\"\"\n",
    "    if name is None or len(name.strip()) == 0:\n",
    "        return None\n",
    "    for url in _urls:\n",
    "        if url.name.lower() == name.lower():\n",
    "            return url"
   ]
  },
  {
   "cell_type": "code",
   "execution_count": 8,
   "metadata": {
    "collapsed": false
   },
   "outputs": [],
   "source": [
    "# Set party urls.\n",
    "for party in [p for p in _parties]:\n",
    "    party.url = _get_url(party.url)\n",
    "\n",
    "# # Set reference urls.\n",
    "for citation in [c for c in _citations if c.url]:\n",
    "    citation.url = _get_url(citation.url)"
   ]
  },
  {
   "cell_type": "markdown",
   "metadata": {},
   "source": [
    "### Set citations"
   ]
  },
  {
   "cell_type": "code",
   "execution_count": 9,
   "metadata": {
    "collapsed": true
   },
   "outputs": [],
   "source": [
    "def _get_citation(name):\n",
    "    \"\"\"Returns matching citation.\n",
    "    \n",
    "    \"\"\"\n",
    "    if name is None or len(name.strip()) == 0:\n",
    "        return None\n",
    "    for citation in _citations:\n",
    "        if citation.citation_str.lower() == name.lower():\n",
    "            return citation"
   ]
  },
  {
   "cell_type": "code",
   "execution_count": 10,
   "metadata": {
    "collapsed": false
   },
   "outputs": [],
   "source": [
    "# Forcing constraint citations.\n",
    "for fc in [i for i in _forcing_constraints if i.references and not isinstance(i.references, list)]:\n",
    "    fc.references = [_get_citation(fc.references)]\n",
    "\n",
    "# Temporal constraint citations.\n",
    "for tc in [i for i in _temporal_constraints if i.references and not isinstance(i.references, list)]:\n",
    "    tc.references = [_get_citation(tc.references)]\n"
   ]
  },
  {
   "cell_type": "markdown",
   "metadata": {},
   "source": [
    "## Display document validation errors"
   ]
  },
  {
   "cell_type": "code",
   "execution_count": 11,
   "metadata": {
    "collapsed": true
   },
   "outputs": [],
   "source": [
    "def _validate(target):\n",
    "    \"\"\"Displays document validation errors.\"\"\"\n",
    "    # Invoke document factory functions.\n",
    "    if inspect.isfunction(target):\n",
    "        target = target()\n",
    "\n",
    "    # Set document collection.\n",
    "    try:\n",
    "        iter(target)\n",
    "    except TypeError:\n",
    "        docs = [target]\n",
    "    else:\n",
    "        docs = target\n",
    "    \n",
    "    # Validate document collection.\n",
    "    for doc in docs:\n",
    "        for err_idx, err in enumerate(pyesdoc.validate(doc)):\n",
    "            if err_idx == 0:\n",
    "                print(\"Document errors: {} :: {} :: v{}\".format(doc.type_key, doc.meta.id, doc.meta.version))\n",
    "            print(\"\\t{}\".format(err))    "
   ]
  },
  {
   "cell_type": "code",
   "execution_count": 12,
   "metadata": {
    "collapsed": true
   },
   "outputs": [],
   "source": [
    "_validate(_urls)"
   ]
  },
  {
   "cell_type": "code",
   "execution_count": 13,
   "metadata": {
    "collapsed": true
   },
   "outputs": [],
   "source": [
    "_validate(_citations)"
   ]
  },
  {
   "cell_type": "code",
   "execution_count": 14,
   "metadata": {
    "collapsed": false
   },
   "outputs": [
    {
     "name": "stdout",
     "output_type": "stream",
     "text": [
      "Document errors: cim.2.shared.Party :: b4f62bd5-5a0f-484b-a5a3-814e83618242 :: v0\n",
      "\tdoc.address --> is of invalid type (actual = <type 'str'>, expected=<type 'unicode'>)\n",
      "\tdoc.email --> is of invalid type (actual = <type 'str'>, expected=<type 'unicode'>)\n"
     ]
    }
   ],
   "source": [
    "_validate(_parties)"
   ]
  },
  {
   "cell_type": "code",
   "execution_count": 15,
   "metadata": {
    "collapsed": false
   },
   "outputs": [
    {
     "name": "stdout",
     "output_type": "stream",
     "text": [
      "Document errors: cim.2.activity.ForcingConstraint :: 47d4a938-252c-44bb-8cd9-f5043a42b0df :: v0\n",
      "\tdoc.category --> is null\n",
      "\tdoc.code --> is null\n",
      "\tdoc.references --> is of invalid type (actual = <type 'str'>, expected=<class 'pyesdoc.ontologies.cim.v2.typeset_for_shared_package.Citation'>)\n",
      "Document errors: cim.2.activity.ForcingConstraint :: 0a5c9282-7308-4c36-b411-d975fd13ab7a :: v0\n",
      "\tdoc.category --> is null\n",
      "\tdoc.code --> is null\n",
      "Document errors: cim.2.activity.ForcingConstraint :: 104822ec-04a2-4bbc-bbe3-542fbab0b9ab :: v0\n",
      "\tdoc.category --> is null\n",
      "\tdoc.code --> is null\n",
      "Document errors: cim.2.activity.ForcingConstraint :: eb1aafc0-376c-45f7-8295-8320415b776e :: v0\n",
      "\tdoc.category --> is null\n",
      "\tdoc.code --> is null\n",
      "Document errors: cim.2.activity.ForcingConstraint :: 5d15fafd-bbf3-4289-b57d-93a67d918644 :: v0\n",
      "\tdoc.category --> is null\n",
      "\tdoc.code --> is null\n",
      "Document errors: cim.2.activity.ForcingConstraint :: f16742d3-f067-47d4-8ddd-86936b19d816 :: v0\n",
      "\tdoc.category --> is null\n",
      "\tdoc.code --> is null\n",
      "Document errors: cim.2.activity.ForcingConstraint :: 5380ebb6-19fb-4268-81e5-c2b9648c0f5a :: v0\n",
      "\tdoc.category --> is null\n",
      "\tdoc.code --> is null\n",
      "Document errors: cim.2.activity.ForcingConstraint :: 50061892-09c0-47d4-9ba2-903ab20f4d77 :: v0\n",
      "\tdoc.category --> is null\n",
      "\tdoc.code --> is null\n",
      "Document errors: cim.2.activity.ForcingConstraint :: 1e4ce8a2-a851-4e0f-b559-d61183c92923 :: v0\n",
      "\tdoc.category --> is null\n",
      "\tdoc.code --> is null\n",
      "Document errors: cim.2.activity.ForcingConstraint :: caec1761-88cd-4d1c-9642-20bd0784fd01 :: v0\n",
      "\tdoc.category --> is null\n",
      "\tdoc.code --> is null\n",
      "Document errors: cim.2.activity.ForcingConstraint :: 96dc69d9-7d94-4d2a-b805-28553be03992 :: v0\n",
      "\tdoc.category --> is null\n",
      "\tdoc.code --> is null\n",
      "Document errors: cim.2.activity.ForcingConstraint :: 638bb099-6038-48bc-88a7-98b08020ce63 :: v0\n",
      "\tdoc.category --> is null\n",
      "\tdoc.code --> is null\n",
      "Document errors: cim.2.activity.ForcingConstraint :: 436fe7e1-754a-439d-bae0-975467f55c0f :: v0\n",
      "\tdoc.category --> is null\n",
      "\tdoc.code --> is null\n",
      "Document errors: cim.2.activity.ForcingConstraint :: 53247651-66e3-42b3-bbfc-7d0367495a19 :: v0\n",
      "\tdoc.category --> is null\n",
      "\tdoc.code --> is null\n",
      "Document errors: cim.2.activity.ForcingConstraint :: 8ccacb61-1fb2-440b-b773-16e7500fdc5e :: v0\n",
      "\tdoc.category --> is null\n",
      "\tdoc.code --> is null\n",
      "Document errors: cim.2.activity.ForcingConstraint :: 62b9b7ce-9430-4722-8a95-16f6c66ff262 :: v0\n",
      "\tdoc.category --> is null\n",
      "\tdoc.code --> is null\n",
      "Document errors: cim.2.activity.ForcingConstraint :: 0a6a9a0b-d8e2-44dd-83f2-abccfd64ecb7 :: v0\n",
      "\tdoc.category --> is null\n",
      "\tdoc.code --> is null\n",
      "Document errors: cim.2.activity.ForcingConstraint :: 3df315f1-a9c4-4575-a22f-8c91204e423f :: v0\n",
      "\tdoc.category --> is null\n",
      "\tdoc.code --> is null\n",
      "Document errors: cim.2.activity.ForcingConstraint :: 53d097e6-de9d-4d62-b19e-45fe846d9b3c :: v0\n",
      "\tdoc.category --> is null\n",
      "\tdoc.code --> is null\n",
      "\tdoc.references --> is of invalid type (actual = <type 'str'>, expected=<class 'pyesdoc.ontologies.cim.v2.typeset_for_shared_package.Citation'>)\n"
     ]
    }
   ],
   "source": [
    "_validate(_forcing_constraints)"
   ]
  },
  {
   "cell_type": "code",
   "execution_count": 16,
   "metadata": {
    "collapsed": false
   },
   "outputs": [
    {
     "name": "stdout",
     "output_type": "stream",
     "text": [
      "Document errors: cim.2.activity.TemporalConstraint :: 16bda489-8605-462b-b307-a4c984c69644 :: v0\n",
      "\tdoc.references --> is of invalid type (actual = <type 'str'>, expected=<class 'pyesdoc.ontologies.cim.v2.typeset_for_shared_package.Citation'>)\n",
      "Document errors: cim.2.activity.TemporalConstraint :: 25f57eb2-d8f9-492e-8646-434605facb47 :: v0\n",
      "\tdoc.references --> is of invalid type (actual = <type 'str'>, expected=<class 'pyesdoc.ontologies.cim.v2.typeset_for_shared_package.Citation'>)\n",
      "Document errors: cim.2.activity.TemporalConstraint :: 95e29c9e-0e63-4d02-adc9-7f51a6f27876 :: v0\n",
      "\tdoc.references --> is of invalid type (actual = <type 'str'>, expected=<class 'pyesdoc.ontologies.cim.v2.typeset_for_shared_package.Citation'>)\n",
      "Document errors: cim.2.activity.TemporalConstraint :: 8ae0547c-9519-4f41-9598-1a857e59990a :: v0\n",
      "\tdoc.references --> is of invalid type (actual = <type 'str'>, expected=<class 'pyesdoc.ontologies.cim.v2.typeset_for_shared_package.Citation'>)\n",
      "Document errors: cim.2.activity.TemporalConstraint :: 51aef133-1c3d-4263-a13a-2e929ce54e49 :: v0\n",
      "\tdoc.references --> is of invalid type (actual = <type 'str'>, expected=<class 'pyesdoc.ontologies.cim.v2.typeset_for_shared_package.Citation'>)\n"
     ]
    }
   ],
   "source": [
    "_validate(_temporal_constraints)"
   ]
  },
  {
   "cell_type": "markdown",
   "metadata": {},
   "source": [
    "## Save CIM documents to file system "
   ]
  },
  {
   "cell_type": "code",
   "execution_count": 17,
   "metadata": {
    "collapsed": true
   },
   "outputs": [],
   "source": [
    "# Set I/O directory.\n",
    "pyesdoc.set_option(\"output_dir\", _HOME)"
   ]
  },
  {
   "cell_type": "code",
   "execution_count": 18,
   "metadata": {
    "collapsed": false
   },
   "outputs": [],
   "source": [
    "# Build collection of documents to be written to file system.\n",
    "docs = sorted(_urls + _citations + _parties + _forcing_constraints + _temporal_constraints)"
   ]
  },
  {
   "cell_type": "code",
   "execution_count": 19,
   "metadata": {
    "collapsed": false
   },
   "outputs": [
    {
     "ename": "AttributeError",
     "evalue": "'Citation' object has no attribute 'meta'",
     "output_type": "error",
     "traceback": [
      "\u001b[0;31m---------------------------------------------------------------------------\u001b[0m",
      "\u001b[0;31mAttributeError\u001b[0m                            Traceback (most recent call last)",
      "\u001b[0;32m<ipython-input-19-8b53e15ee9ee>\u001b[0m in \u001b[0;36m<module>\u001b[0;34m()\u001b[0m\n\u001b[1;32m      1\u001b[0m \u001b[0;31m# Write document set to file system.\u001b[0m\u001b[0;34m\u001b[0m\u001b[0;34m\u001b[0m\u001b[0m\n\u001b[1;32m      2\u001b[0m \u001b[0;32mfor\u001b[0m \u001b[0mdoc\u001b[0m \u001b[0;32min\u001b[0m \u001b[0msorted\u001b[0m\u001b[0;34m(\u001b[0m\u001b[0mdocs\u001b[0m\u001b[0;34m)\u001b[0m\u001b[0;34m:\u001b[0m\u001b[0;34m\u001b[0m\u001b[0m\n\u001b[0;32m----> 3\u001b[0;31m     \u001b[0;32mprint\u001b[0m \u001b[0mpyesdoc\u001b[0m\u001b[0;34m.\u001b[0m\u001b[0mwrite\u001b[0m\u001b[0;34m(\u001b[0m\u001b[0mdoc\u001b[0m\u001b[0;34m)\u001b[0m\u001b[0;34m\u001b[0m\u001b[0m\n\u001b[0m",
      "\u001b[0;32m/Users/macg/dev/esdoc/repos/esdoc-py-client/pyesdoc/io.pyc\u001b[0m in \u001b[0;36mwrite\u001b[0;34m(document, encoding, fpath)\u001b[0m\n\u001b[1;32m     50\u001b[0m         \u001b[0mencoding\u001b[0m \u001b[0;34m=\u001b[0m \u001b[0mpyesdoc\u001b[0m\u001b[0;34m.\u001b[0m\u001b[0mconstants\u001b[0m\u001b[0;34m.\u001b[0m\u001b[0mESDOC_ENCODING_JSON\u001b[0m\u001b[0;34m\u001b[0m\u001b[0m\n\u001b[1;32m     51\u001b[0m     \u001b[0;32mif\u001b[0m \u001b[0mfpath\u001b[0m \u001b[0;32mis\u001b[0m \u001b[0mNone\u001b[0m\u001b[0;34m:\u001b[0m\u001b[0;34m\u001b[0m\u001b[0m\n\u001b[0;32m---> 52\u001b[0;31m         \u001b[0mfpath\u001b[0m \u001b[0;34m=\u001b[0m \u001b[0m_get_doc_path\u001b[0m\u001b[0;34m(\u001b[0m\u001b[0mdocument\u001b[0m\u001b[0;34m,\u001b[0m \u001b[0mencoding\u001b[0m\u001b[0;34m)\u001b[0m\u001b[0;34m\u001b[0m\u001b[0m\n\u001b[0m\u001b[1;32m     53\u001b[0m     \u001b[0mcontent\u001b[0m \u001b[0;34m=\u001b[0m \u001b[0mpyesdoc\u001b[0m\u001b[0;34m.\u001b[0m\u001b[0mencode\u001b[0m\u001b[0;34m(\u001b[0m\u001b[0mdocument\u001b[0m\u001b[0;34m,\u001b[0m \u001b[0mencoding\u001b[0m\u001b[0;34m)\u001b[0m\u001b[0;34m\u001b[0m\u001b[0m\n\u001b[1;32m     54\u001b[0m     \u001b[0;32mwith\u001b[0m \u001b[0mopen\u001b[0m\u001b[0;34m(\u001b[0m\u001b[0mfpath\u001b[0m\u001b[0;34m,\u001b[0m \u001b[0;34m'w'\u001b[0m\u001b[0;34m)\u001b[0m \u001b[0;32mas\u001b[0m \u001b[0moutput_file\u001b[0m\u001b[0;34m:\u001b[0m\u001b[0;34m\u001b[0m\u001b[0m\n",
      "\u001b[0;32m/Users/macg/dev/esdoc/repos/esdoc-py-client/pyesdoc/io.pyc\u001b[0m in \u001b[0;36m_get_doc_path\u001b[0;34m(doc, encoding)\u001b[0m\n\u001b[1;32m     28\u001b[0m     \"\"\"\n\u001b[1;32m     29\u001b[0m     fpath = '{0}_{1}_{2}.{3}'.format(doc.__class__.type_key,\n\u001b[0;32m---> 30\u001b[0;31m                                      \u001b[0mstr\u001b[0m\u001b[0;34m(\u001b[0m\u001b[0mdoc\u001b[0m\u001b[0;34m.\u001b[0m\u001b[0mmeta\u001b[0m\u001b[0;34m.\u001b[0m\u001b[0mid\u001b[0m\u001b[0;34m)\u001b[0m\u001b[0;34m,\u001b[0m\u001b[0;34m\u001b[0m\u001b[0m\n\u001b[0m\u001b[1;32m     31\u001b[0m                                      \u001b[0mstr\u001b[0m\u001b[0;34m(\u001b[0m\u001b[0mdoc\u001b[0m\u001b[0;34m.\u001b[0m\u001b[0mmeta\u001b[0m\u001b[0;34m.\u001b[0m\u001b[0mversion\u001b[0m\u001b[0;34m)\u001b[0m\u001b[0;34m,\u001b[0m\u001b[0;34m\u001b[0m\u001b[0m\n\u001b[1;32m     32\u001b[0m                                      encoding)\n",
      "\u001b[0;31mAttributeError\u001b[0m: 'Citation' object has no attribute 'meta'"
     ]
    }
   ],
   "source": [
    "# Write document set to file system.\n",
    "for doc in sorted(docs):\n",
    "    print pyesdoc.write(doc)"
   ]
  },
  {
   "cell_type": "code",
   "execution_count": null,
   "metadata": {
    "collapsed": false
   },
   "outputs": [],
   "source": [
    "# Read from file system\n",
    "docs = map(pyesdoc.read, glob.glob(os.path.join(_HOME, \"*.json\")))\n",
    "for doc in sorted(docs):\n",
    "    print doc"
   ]
  },
  {
   "cell_type": "code",
   "execution_count": null,
   "metadata": {
    "collapsed": false
   },
   "outputs": [],
   "source": [
    "# Clean up file system.\n",
    "for fpath in glob.glob(os.path.join(_HOME, \"*.json\")):\n",
    "    os.remove(fpath)"
   ]
  },
  {
   "cell_type": "code",
   "execution_count": null,
   "metadata": {
    "collapsed": true
   },
   "outputs": [],
   "source": []
  }
 ],
 "metadata": {
  "kernelspec": {
   "display_name": "Python 2",
   "language": "python",
   "name": "python2"
  },
  "language_info": {
   "codemirror_mode": {
    "name": "ipython",
    "version": 2
   },
   "file_extension": ".py",
   "mimetype": "text/x-python",
   "name": "python",
   "nbconvert_exporter": "python",
   "pygments_lexer": "ipython2",
   "version": "2.7.10"
  }
 },
 "nbformat": 4,
 "nbformat_minor": 0
}
